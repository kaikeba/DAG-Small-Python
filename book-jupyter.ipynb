{
 "cells": [
  {
   "cell_type": "markdown",
   "metadata": {},
   "source": [
    "# 第一课 天下英雄出我辈"
   ]
  },
  {
   "cell_type": "markdown",
   "metadata": {},
   "source": [
    "## 知识回顾"
   ]
  },
  {
   "cell_type": "markdown",
   "metadata": {},
   "source": [
    "<img src=\"material/chapter_1.png\">"
   ]
  },
  {
   "cell_type": "markdown",
   "metadata": {
    "toc-hr-collapsed": false
   },
   "source": [
    "## 知识拓展"
   ]
  },
  {
   "cell_type": "markdown",
   "metadata": {},
   "source": [
    "### 知识拓展 01"
   ]
  },
  {
   "cell_type": "markdown",
   "metadata": {},
   "source": [
    "**例题 1：以下选项，哪个选项是变量？**\n",
    "- A．20<br>\n",
    "- B．9.99<br>\n",
    "- C．name = “zhangsan”<br>\n",
    "- D．PI = 3.14159265359<br>\n",
    "  "
   ]
  },
  {
   "cell_type": "markdown",
   "metadata": {},
   "source": [
    "**答案：C**"
   ]
  },
  {
   "cell_type": "markdown",
   "metadata": {},
   "source": [
    "**解析：**\n",
    "- A 项与 B 项都是数字，D 项虽与变量的形式很相似，但是由于变量中存在值的内容是圆周率Π，我们将它称为常量。"
   ]
  },
  {
   "cell_type": "markdown",
   "metadata": {},
   "source": [
    "**拓展：**\n",
    "- 所谓常量就是不能变的变量，比如常用的数学常数 π 就是一个常量。\n",
    "- 在 Python 中，通常用全部大写的变量名表示常量：\n",
    "\n",
    "```python\n",
    "PI = 3.14159265359\n",
    "```\n",
    "\n",
    "> 但事实上 **PI** 仍然是一个变量，Python 根本没有任何机制保证 **PI** 不会被改变，所以，用全部大写的变量名表示常量只是一个习惯上的用法，如果你一定要改变变量 **PI** 的值，也没人能拦住你。"
   ]
  },
  {
   "cell_type": "markdown",
   "metadata": {},
   "source": [
    "### 知识拓展 02"
   ]
  },
  {
   "cell_type": "markdown",
   "metadata": {},
   "source": [
    "**例题 2：在Python中下列命名错误的是哪个？**\n",
    "- A．_123\n",
    "- B．You-123\n",
    "- C．your_name\n",
    "- D．123abc"
   ]
  },
  {
   "cell_type": "markdown",
   "metadata": {},
   "source": [
    "**答案：B、D**<br>"
   ]
  },
  {
   "cell_type": "markdown",
   "metadata": {},
   "source": [
    "**解析：**\n",
    "- A 选项，`_123` 以下划线开头，虽然满足变量命名要求，但是并不是一个好的变量名，不能表达数据的含义；\n",
    "- B 选项，`You-123` You 与 123 之间使用了 “-” 而不是 “_”，不满足变量命名要求；\n",
    "- D 选项，`123abc` 以数字开头，不满足变量命名要求；只有 C 项 `your_name` 满足要求，`your_name` 形式是短横线命名法。"
   ]
  },
  {
   "cell_type": "markdown",
   "metadata": {},
   "source": [
    "**拓展：**\n",
    "- 短横线命名法（英文是：Kebab Case)，变量名依旧遵循变量命名法法则，使用下划线 “_” 将变量名中的英文单词隔开，即为短横线命名法。\n",
    "- 例如：`my_app`，`your_message`"
   ]
  },
  {
   "cell_type": "markdown",
   "metadata": {},
   "source": [
    "### 知识拓展 03"
   ]
  },
  {
   "cell_type": "markdown",
   "metadata": {},
   "source": [
    "**例题 3：使用 print() 语句完成以下信息的显示：**\n",
    "\n",
    "```\n",
    "==================================================\n",
    "\t欢迎来到开课吧小课系统\n",
    "1. 登录\n",
    "2. 微信登录\n",
    "3. 退出账号\n",
    "\n",
    "==================================================\n",
    "```"
   ]
  },
  {
   "cell_type": "markdown",
   "metadata": {},
   "source": [
    "**答案：**\n",
    "\n",
    "```python\n",
    "print(\"=\" * 50)\n",
    "print(\"\\t欢迎来到开课吧小课系统\\n 1. 登录\\n 2. 微信登录\\n 3. 退出账号\\n\")\n",
    "print(\"=\" * 50)\n",
    "```"
   ]
  },
  {
   "cell_type": "markdown",
   "metadata": {},
   "source": [
    "**解析：**\n",
    "\n",
    "完成该编程题，需要使用 `print()` 函数进行，三句 `print()` 函数调用语句完成该效果。\n",
    "\n",
    "- 第一句：完成整条等号线\n",
    " - 该效果虽然可以使用 `print(\"==================================================\")` 语句，但该形式太累赘，不是最好的代码书写方式，放弃使用。<br>\n",
    " - 采用 `print(\"=\" * 50)` 形式完成该效果，`\"=\"` 作为字符，`* 50` 会将该字符做相应的乘法运算，得到整行等号线。\n",
    "- 第二句：完成相应内容\n",
    " - 该 `print()` 语句要将所有内容放在一起，需要使用相应的转义字符，`“欢迎来到开课吧小课系统”` 需要在文字开始前使用相应的制表符 `\\t`；\n",
    " - `\"1. 登录2. 微信登录 3. 退出账号\"` 三行内容需要进行相应的换行显示，需要在文字后使用相应的转义字符换行符 `\\n`；\n",
    " - 此效果完成的语句是：\n",
    "   - `print(\"\\t欢迎来到开课吧小课系统\\n 1. 登录\\n 2. 微信登录\\n 3. 退出账号\\n\")`；\n",
    " - 运行结果：\n",
    "    ```\n",
    "        欢迎来到开课吧小课系统\n",
    "    1. 登录\n",
    "    2. 微信登录\n",
    "    3. 退出账号\n",
    "    ```\n",
    "- 第三句：完成整条等号线，等同于第一行语句作用。\n",
    "\n",
    "运行该三行代码，显示如下：<br>\n",
    "\n",
    "```\n",
    "==================================================\n",
    "    欢迎来到开课吧小课系统\n",
    " 1. 登录\n",
    " 2. 微信登录\n",
    " 3. 退出账号\n",
    "\n",
    "==================================================\n",
    "```"
   ]
  },
  {
   "cell_type": "markdown",
   "metadata": {},
   "source": [
    "**拓展：**\n",
    "- ```print(\"=\" \\* 50)``` 语句，在 ```print()``` 函数中，存在相应的参数，\"=\" * 50 整体作为 ```print()``` 函数参数。\n",
    "- `\"=\" * 50` 是字符串相应的乘法操作，可以将此看成是 50 个字符串 \"=\" 相加，之后将相加后的结果放入到整个 ```print()``` 函数中进行输出。"
   ]
  },
  {
   "cell_type": "markdown",
   "metadata": {},
   "source": [
    "## 知识练习"
   ]
  },
  {
   "cell_type": "markdown",
   "metadata": {},
   "source": [
    "**练习 1：以下代码片段最终显示的值为_____?**\n",
    "\n",
    "```python\n",
    "x = 20 \n",
    "x = 100\n",
    "x = 1000\n",
    "print(x)\n",
    "```\n",
    "\n",
    "- A．20\n",
    "- B．100\n",
    "- C．1000"
   ]
  },
  {
   "cell_type": "markdown",
   "metadata": {},
   "source": [
    "**练习 2：下面不符合 Python 语言命名规则的是_____?**\n",
    "\n",
    "- A．daythly\n",
    "- B．3dayTHLY\n",
    "- C．dayTHLY"
   ]
  },
  {
   "cell_type": "markdown",
   "metadata": {},
   "source": [
    "**练习 3：完成空白处代码，使得输出相应结果？**\n",
    "\n",
    "```python\n",
    "______ = 123\n",
    "print(name)\n",
    "```\n",
    "\n",
    "输出结果：123 "
   ]
  },
  {
   "cell_type": "markdown",
   "metadata": {},
   "source": [
    "**练习 4：使用 print() 函数，打印如下图效果？**\n",
    "\n",
    "```\n",
    "     へ　　　　　／|\n",
    " 　　/＼7　　　 ∠＿/\n",
    " 　 /　│　　 ／　／\n",
    " 　│　Z ＿,＜　／　　 /`ヽ\n",
    " 　│　　　　　ヽ　　 /　　〉\n",
    " 　 Y　　　　　`　 /　　/\n",
    " 　ｲ●　､　●　　⊂⊃〈　　/\n",
    " 　()　 へ　　　　|　＼〈\n",
    " 　　>ｰ ､_　 ィ　 │ ／／\n",
    " 　 / へ　　 /　ﾉ＜| ＼＼\n",
    " 　 ヽ_ﾉ　　(_／　 │／／\n",
    " 　　7　　　　　　　|／\n",
    " 　　＞―r￣￣`ｰ―＿\n",
    "\n",
    "```"
   ]
  },
  {
   "cell_type": "markdown",
   "metadata": {},
   "source": [
    "**练习 5：使用代码交换变量 a 与变量 b 的值。**\n",
    "\n",
    "交换前：\n",
    "```python\n",
    "a = 100\n",
    "b = 1000\n",
    "```\n",
    "交换后：\n",
    "```python\n",
    "a = 1000\n",
    "b = 100\n",
    "```\n"
   ]
  },
  {
   "cell_type": "markdown",
   "metadata": {},
   "source": [
    "## 答案解析"
   ]
  },
  {
   "cell_type": "markdown",
   "metadata": {},
   "source": [
    "**练习 1 答案：C**\n",
    "\n",
    "- 变量的赋值结果，以最后一次赋值内容会覆盖前面所有的赋值。<br>\n",
    "- 代码中三次对变量 `x` 赋值，后面一次赋值将前一次赋值结果刷新，最后一次 `x = 1000`，所以选 C。"
   ]
  },
  {
   "cell_type": "markdown",
   "metadata": {},
   "source": [
    "**练习 2 答案：B**\n",
    "\n",
    "- 变量的赋值结果，以最后一次赋值内容为准。代码中三次对变量 x 赋值，后面一次赋值将前一次赋值结果刷新，最后一次 `x = 1000`，所以选 C。"
   ]
  },
  {
   "cell_type": "markdown",
   "metadata": {},
   "source": [
    "**练习 3 答案：name**\n",
    "\n",
    "- 因输出的最终结果是 123，但在打印的语句上 ```print(name)``` 下输出相应的结果, 也就是 `name` 的值为123；\n",
    "- 空格处应为变量的名字，即 `name`。\n",
    "- 整体代码如下：\n",
    "\n",
    "```python\n",
    "name = 123\n",
    "print(name)\n",
    "```"
   ]
  },
  {
   "cell_type": "markdown",
   "metadata": {},
   "source": [
    "**练习 4 答案：**\n",
    "\n",
    "```python\n",
    "print('''\n",
    "     へ　　　　　／|\n",
    " 　　/＼7　　　 ∠＿/\n",
    " 　 /　│　　 ／　／\n",
    " 　│　Z ＿,＜　／　　 /`ヽ\n",
    " 　│　　　　　ヽ　　 /　　〉\n",
    " 　 Y　　　　　`　 /　　/\n",
    " 　ｲ●　､　●　　⊂⊃〈　　/\n",
    " 　()　 へ　　　　|　＼〈\n",
    " 　　>ｰ ､_　 ィ　 │ ／／\n",
    " 　 / へ　　 /　ﾉ＜| ＼＼\n",
    " 　 ヽ_ﾉ　　(_／　 │／／\n",
    " 　　7　　　　　　　|／\n",
    " 　　＞―r￣￣`ｰ―＿\n",
    " ''')\n",
    "\n",
    "```\n",
    ">**解析：**使用 ```print()``` 函数的三引号形式，三引号形式可以将三引号中的内容原样打印出来，三引号中的内容存在换行空格都会原样显示。"
   ]
  },
  {
   "cell_type": "markdown",
   "metadata": {},
   "source": [
    "**练习 5 答案：**"
   ]
  },
  {
   "cell_type": "markdown",
   "metadata": {},
   "source": [
    "```python\n",
    "# 交换前：\n",
    "a = 100\n",
    "b = 1000 \n",
    "print(\"-----交换前的结果-----\\n\")\n",
    "print(\"a 的内容跟是：%d\" % a)\n",
    "print(\"b 的内容跟是：%d\" % b)\n",
    "\n",
    "# 交换后：\n",
    "c = a \n",
    "a = b \n",
    "b = c \n",
    "print(\"\\n-----交换后的结果-----\\n\")\n",
    "print(\"a 的内容跟是：%d\" % a)\n",
    "print(\"b 的内容跟是：%d\" % b)\n",
    "```\n",
    "\n",
    ">**解析：**交换变量 `a` 与变量 `b` 的值，直接交换，会损失掉一个变量的数据，就如同一杯可乐与一杯咖啡，只有这两个杯子交换不过来，需要引入第三个空杯子。<br>\n",
    ">此题解决思路：\n",
    ">- `c = a` 将 `a` 的值 `100` 赋值给变量 `c`；\n",
    ">- `a = b` 将 `b` 的值 `1000` 赋值给变量 `a`；\n",
    ">- `b = c` 将值 `1000` 赋值给 `b`；\n",
    ">- 经过交换后，`a` 等于 `1000`，`b` 等于 `100`。"
   ]
  },
  {
   "cell_type": "markdown",
   "metadata": {
    "toc-hr-collapsed": true,
    "toc-nb-collapsed": true
   },
   "source": [
    "# 第二课 美国队长的洞察计划"
   ]
  },
  {
   "cell_type": "markdown",
   "metadata": {},
   "source": [
    "## 知识回顾"
   ]
  },
  {
   "cell_type": "markdown",
   "metadata": {},
   "source": [
    "<img src=\"material/chapter_2.png\">"
   ]
  },
  {
   "cell_type": "markdown",
   "metadata": {},
   "source": [
    "## 知识拓展"
   ]
  },
  {
   "cell_type": "markdown",
   "metadata": {},
   "source": [
    "### 知识拓展 01"
   ]
  },
  {
   "cell_type": "markdown",
   "metadata": {},
   "source": [
    "**例题 1：以下选项，哪个选项不是 Python 的数据类型？**\n",
    "- A．int\n",
    "- B．float \n",
    "- C．double\n",
    "- D．bool "
   ]
  },
  {
   "cell_type": "markdown",
   "metadata": {},
   "source": [
    "**答案：C**"
   ]
  },
  {
   "cell_type": "markdown",
   "metadata": {},
   "source": [
    "**解析：**\n",
    "- A 选项 `int` 是整形数据；\n",
    "- B 选项 `float` 是浮点数数据；\n",
    "- C 选项 `double`，Python 中无此数据类型；\n",
    "- D 选项 `bool` 是 Python 中的布尔值类型。"
   ]
  },
  {
   "cell_type": "markdown",
   "metadata": {},
   "source": [
    "**拓展：** \n",
    "- 布尔值和布尔代数的表示完全一致，一个布尔值只有 True 或 False 两种值，要么是 True，要么是 False；\n",
    "- 在 Python 中，可以直接用 True、False 表示布尔值（请注意大小写），True 代表真，False 代表假。\n",
    "\n",
    "```python\n",
    "print(\"True is: \", True)\n",
    "print(\"False is: \", False)\n",
    "```"
   ]
  },
  {
   "cell_type": "markdown",
   "metadata": {},
   "source": [
    "### 知识拓展 02"
   ]
  },
  {
   "cell_type": "markdown",
   "metadata": {},
   "source": [
    "**例题 2：代码 `5 > 3 and 3 > 1` 的结果是？**\n",
    "\n",
    "- A．5\n",
    "- B．3\n",
    "- C．False\n",
    "- D．True"
   ]
  },
  {
   "cell_type": "markdown",
   "metadata": {},
   "source": [
    "**答案：D**"
   ]
  },
  {
   "cell_type": "markdown",
   "metadata": {},
   "source": [
    "**解析：**\n",
    "- 该运算为代码布尔值表达式的运算，以 `and` 为分割，`5 > 3` 是真的，结果为 `True`；\n",
    "- `3 > 1` 是真的，结果为 `True`；\n",
    "- 代码整体就是 `True and True`，整体结果就是 `True`；\n",
    "- 因此选选 D。 "
   ]
  },
  {
   "cell_type": "markdown",
   "metadata": {},
   "source": [
    "**拓展：**\n",
    "\n",
    "- `True`、`False` 表示布尔值（请注意大小写），也可以通过布尔运算计算出来；\n",
    "- 布尔值可以用 `and`、`or` 和 `not` 运算；\n",
    "- `and` 运算是“与运算”，只有两边运算结果都为 `True`，`and` 运算结果才是 `True`：\n",
    "\n",
    "```python\n",
    "print(\"True and True: \", True and True)\n",
    "print(\"True and False: \", True and False)\n",
    "print(\"False and False: \", False and False)\n",
    "print(\"5 > 3 and 3 > 1: \", 5 > 3 and 3 > 1)\n",
    "```\n",
    "\n",
    "- or 运算是或运算，两边运算结果中只要其中有一个为 `True`，`or` 运算结果就是 `True`：\n",
    "\n",
    "```python\n",
    "print(\"True or True: \", True or True)\n",
    "print(\"True or False: \", True or False)\n",
    "print(\"False or False: \", False or False)\n",
    "print(\"5 > 3 or 3 > 1: \", 5 > 3 or 3 > 1)\n",
    "```"
   ]
  },
  {
   "cell_type": "markdown",
   "metadata": {},
   "source": [
    "### 知识拓展 03"
   ]
  },
  {
   "cell_type": "markdown",
   "metadata": {},
   "source": [
    "**例题 3：编写 Python 代码，求 10÷3 的结果，整数部分是多少，余数部分是多少？**\n",
    "\n",
    "输出结果如下：\n",
    "```\n",
    "10 ÷ 3 的结果：整数部分是 3，余数部分是 1\n",
    "```"
   ]
  },
  {
   "cell_type": "markdown",
   "metadata": {},
   "source": [
    "**答案：**\n",
    "\n",
    "```python\n",
    "num = 10 // 3 \n",
    "remainder = 10 % 3 \n",
    "print(\"10 ÷ 3 的结果：整数部分是 %d，余数部分是 %d\" %(num, remainder))\n",
    "```"
   ]
  },
  {
   "cell_type": "markdown",
   "metadata": {},
   "source": [
    "**解析：**\n",
    "- 完成该编程题，需要求得 10 ÷ 3 的整数部分与余数部分，最后整体输出结果；\n",
    "- 第一句：完成 10 ÷ 3 整数部分：\n",
    " - 该效果可以使用 `int(10 / 3)`，先使用 `10 / 3` 求得相除后的商，对其取整，得到整数 `3`；\n",
    " - 考虑到执行效率问题，该方法效率比较低，我们使用 Python 中的取整除 `10 // 3`, 直接求得整数商为 `3`。\n",
    "- 第二句：完成 10 ÷ 3 的余数部分\n",
    " - 该效果可以使用 `10 - 3 * (int( 10 / 3 ))`，先将除数 `3 * 整数商 int(10 / 3)`，再用 `10` 减去，最终得到余数；\n",
    " - 考虑到执行效率问题，该方法效率有些低，我们使用 Python 中的取余 `10 % 3`，直接求得余数为 `1`。\n",
    "- 第三句：完成结果输出：\n",
    " - 要输出的结果为 `\"10 ÷ 3 的结果：整数部分是 3，余数部分是 1\"`，整段数据结果中，除了 `\"3\"` 与 `\"1\"` 是求得的整数商和余数，其余的部分都是用于描述结果的字符串文字，可以先写成 `\"10 ÷ 3 的结果：整数部分是___，余数部分是___\"` 的形式，再将整数商和余数放入；\n",
    " - 整数商和余数作为变量放入字符串中，正常显示变量的值，就需要在字符串中使用占位符 `%d`；\n",
    " - 在字符串的外面使用 `%(num, remainder)` 的形式将字符串中的 `%d` 进行替换；\n",
    " - 运行题目中的三行代码，显示如下：\n",
    "    ```\n",
    "    10 ÷ 3 的结果：整数部分是 3，余数部分是 1\n",
    "    ```"
   ]
  },
  {
   "cell_type": "markdown",
   "metadata": {},
   "source": [
    "**拓展：**\n",
    "\n",
    "- 一种除法是 `//`，称为取整除，两个整数的除法仍然是整数，例 `10 // 3 = 3`；\n",
    "- 余数运算 `%`，可以得到两个整数相除的余数，例 `10 % 3 = 1`；\n",
    "- `%` 运算符就是用来格式化字符串的，在字符串内部，`%s` 表示用字符串替换，`%d` 表示用整数替换，有几个 `%?` 占位符，后面就跟几个变量或者值，顺序要对应好；\n",
    "- 如果只有一个 `%?`，括号可以省略。\n",
    "\n",
    "常见的占位符有：\n",
    "<table align=\"left\">\n",
    "    <thead>\n",
    "        <tr>\n",
    "            <th align=\"center\" width=\"90\">占位符</th>\n",
    "            <th align=\"left\" width=\"150\">替换内容</th>\n",
    "        </tr>\n",
    "    </thead>\n",
    "    <tbody>\n",
    "        <tr>\n",
    "            <td align=\"center\">%d</td>\n",
    "            <td>整数</td>\n",
    "        </tr>\n",
    "        <tr>\n",
    "            <td align=\"center\">%f</td>\n",
    "            <td>浮点数</td>\n",
    "        </tr>\n",
    "        <tr>\n",
    "            <td align=\"center\">%s</td>\n",
    "            <td>字符串</td>\n",
    "        </tr>\n",
    "        <tr>\n",
    "            <td align=\"center\">%x</td>\n",
    "            <td>十六进制整数</td>\n",
    "        </tr>\n",
    "    </tbody>\n",
    "</table>"
   ]
  },
  {
   "cell_type": "markdown",
   "metadata": {},
   "source": [
    "## 知识练习"
   ]
  },
  {
   "cell_type": "markdown",
   "metadata": {},
   "source": [
    "**练习 1：以下代码片段最终显示的值为_____？**\n",
    "\n",
    "```python\n",
    "x = 20 \n",
    "y = 6\n",
    "print(x // y, x % y) \n",
    "```\n",
    "- A．5 6\n",
    "- B．3 2\n",
    "- C．2 3"
   ]
  },
  {
   "cell_type": "markdown",
   "metadata": {},
   "source": [
    "**练习 2：代码 `int(float('25.3'))` 的结果是_____？**\n",
    "\n",
    "- A．25\n",
    "- B．报错\n",
    "- C．0.3"
   ]
  },
  {
   "cell_type": "markdown",
   "metadata": {},
   "source": [
    "**练习 3：代码 `type(1 + 2 * float('3'))` 的结果是_____？**\n",
    "\n",
    "- A．str\n",
    "- B．int\n",
    "- C．float"
   ]
  },
  {
   "cell_type": "markdown",
   "metadata": {},
   "source": [
    "**练习 4：编写程序实现以下功能：**\n",
    "\n",
    "- **摄氏温标（C）和华氏温标（F）之间的换算关系为：**\n",
    "\n",
    "    $$F = C × 1.8 + 32$$\n",
    "    $$C = (F - 32) ÷ 1.8$$\n",
    "\n",
    "- **请使用 Python 代码将摄氏温标 `36.7` 转成相应的华氏温标。输出结果为：**\n",
    "\n",
    "```\n",
    "您输入摄氏温标 36.7℃，所对应的华氏温标是 98℉\n",
    "```"
   ]
  },
  {
   "cell_type": "markdown",
   "metadata": {},
   "source": [
    "**练习 5：使用代码求得 `x` 与 `y` 的和、差、乘积、商、整数商、余数，并进行输出。**\n",
    "\n",
    "```python\n",
    "x = '17'\n",
    "y = '3'\n",
    "```\n",
    "\n",
    "- **输出形式如下：**\n",
    "\n",
    "```\n",
    "17 与 3 的：\n",
    "和是 20，\n",
    "差是 14，\n",
    "积是 51，\n",
    "商是 5，\n",
    "取整除是 5，\n",
    "余数是 2。\n",
    "```"
   ]
  },
  {
   "cell_type": "markdown",
   "metadata": {},
   "source": [
    "## 答案解析"
   ]
  },
  {
   "cell_type": "markdown",
   "metadata": {},
   "source": [
    "**练习 1 答案：B**\n",
    "\n",
    "- ```x // y``` 就是 20 // 6，取整除，结果为 3；\n",
    "- ```x % y``` 就是 20 % 6，取余数，结果为 2；\n",
    "- 所以选择 B。"
   ]
  },
  {
   "cell_type": "markdown",
   "metadata": {},
   "source": [
    "**练习 2 答案：A**\n",
    "\n",
    "- `int(float('25.3'))`，其中 `float('25.3')` 将字符串 `'25.3'` 转换成浮点数 `25.3`，然后 `int(25.3)` 将浮点数 `25.3` 取整，得到整数 `25`；\n",
    "- 所以选择 A。"
   ]
  },
  {
   "cell_type": "markdown",
   "metadata": {},
   "source": [
    "**练习 3 答案：C** \n",
    "\n",
    "- `type(1 + 2 * float('3'))`，其中 `float('3')` 将字符串 `'3'` 转成浮点数 `3.0`，`2 * 3.0 = 6.0`，`1 + 6.0 = 7.0`，结果类型为 `float`；\n",
    "- 所以选择 C。"
   ]
  },
  {
   "cell_type": "markdown",
   "metadata": {},
   "source": [
    "**练习 4 答案：**\n",
    "\n",
    "```python\n",
    "temperature = \"36.7\"\n",
    "f_temperature = float(temperature) * 1.8 + 32\n",
    "\n",
    "print(\"您输入摄氏温标 %s℃，所对应的华氏温标是 %d℉\" %(temperature, f_temperature))\n",
    "```\n",
    "\n",
    ">**解析：**\n",
    ">- 计算华氏温标需要遵循公式 `F = C × 1.8 + 32`，在公式中 C 为摄氏温标且是数字类型参加运算，因此我们需要将字符串 `\"36.7\"` 转成相应的浮点数，`float(temperature)`；\n",
    ">- 之后进行相应的运算 `f_temperature = float(temperature) * 1.8 + 32`；\n",
    ">- 在输出结果时，需要构造 `\"您输入摄氏温标 36.7℃，所对应的华氏温标是 98℉\"`，`36.7` 为 `temperature` 变量的值，`98` 为 `f_temperature` 的值；\n",
    ">- `temperature` 是字符串类型，使用 `%s` 占位，`f_temperature` 是浮点数，使用 `%d` 占位；\n",
    ">- 所以输出语句为 `print(\"您输入摄氏温标 %s℃，所对应的华氏温标是 %d℉\" %(temperature, f_temperature))`。"
   ]
  },
  {
   "cell_type": "markdown",
   "metadata": {},
   "source": [
    "**练习 5 答案：**\n",
    "\n",
    "```python\n",
    "x = '17'\n",
    "y = '3'\n",
    "x = int(x)\n",
    "y = int(y)\n",
    "num1 = x+y  # 和\n",
    "num2 = x-y  # 差\n",
    "num3 = x*y  # 积\n",
    "num4 = x/y  # 商\n",
    "num5 = x//y # 取整除\n",
    "num6 = x%y  # 余数\n",
    "print(\"%d 与 %d 的和是 %d，\\n差是 %d，\\n积是 %d，\\n商是 %d，\\n取整除是 %d，\\n余数是 %d。\\n\" % (x, y, num1, num2, num3, num4, num5, num6))\n",
    "```\n",
    "\n",
    ">**解析：**\n",
    ">- 第一步，获取到 `x = '17'` 与 `y = '3'`，将 `x` 与 `y` 的数据类型转成整数形式，即 `x = int(x)`，`y = int(y)`；\n",
    ">- 第二步，分别进行相应的运算；\n",
    ">- 第三步，进行格式化输出，进行构造 `\"%d 与 %d 的和是 %d，\\n差是 %d，\\n积是 %d，\\n商是 %d，\\n取整除是 %d，\\n余数是 %d。\\n\" % (x, y, num1, num2, num3, num4, num5, num6)`。"
   ]
  },
  {
   "cell_type": "markdown",
   "metadata": {
    "toc-hr-collapsed": true,
    "toc-nb-collapsed": true
   },
   "source": [
    "# 第三课 X战警团队的选择"
   ]
  },
  {
   "cell_type": "markdown",
   "metadata": {},
   "source": [
    "## 知识回顾"
   ]
  },
  {
   "cell_type": "markdown",
   "metadata": {},
   "source": [
    "<img src=\"material/chapter_3.png\">"
   ]
  },
  {
   "cell_type": "markdown",
   "metadata": {},
   "source": [
    "## 知识拓展"
   ]
  },
  {
   "cell_type": "markdown",
   "metadata": {},
   "source": [
    "### 知识拓展 01"
   ]
  },
  {
   "cell_type": "markdown",
   "metadata": {},
   "source": [
    "**例题 1：如何表示判断变量 `a` 是否等于 `\"KKB\"` ？**\n",
    "\n",
    "- A．if a = “kkb”\n",
    "- B．if a == “kkb“\n",
    "- C．if a == “KKB”\n",
    "- D．if a =? “KKB”"
   ]
  },
  {
   "cell_type": "markdown",
   "metadata": {},
   "source": [
    "**答案：C**"
   ]
  },
  {
   "cell_type": "markdown",
   "metadata": {},
   "source": [
    "**解析:**\n",
    "- 首先，判断一个变量是否等于某个值，需要用双等号进行判断，所以肯定排除了 A 选项；\n",
    "- 而 Python 语言对大小写是敏感的，所以应该选择C。"
   ]
  },
  {
   "cell_type": "markdown",
   "metadata": {},
   "source": [
    "**拓展：**\n",
    "- 如果想用 B 选项的写法，我们可以用到字符串的一个方法 `.lower()`，写成 `if a.lower() == \"kkb\"`；\n",
    "- 这样不管 `a` 变量本身是 `\"Kkb\"`，`\"KKb\"` 还是 `\"kkB\"`，都等同于是 `\"kkb\"`；\n",
    "- 这使我们更容易的进行检验，不需要对不同大小写形式分别进行检验。"
   ]
  },
  {
   "cell_type": "markdown",
   "metadata": {},
   "source": [
    "### 知识拓展 02"
   ]
  },
  {
   "cell_type": "markdown",
   "metadata": {},
   "source": [
    "**例题 2：判断下面程序,输出的结果是_____？**\n",
    "\n",
    "```python\n",
    "x = 10\n",
    "y = 20\n",
    "if not x <= 0:\n",
    "    print(x * y)\n",
    "else:\n",
    "    print(x + y)\n",
    "```\n",
    "\n",
    "- A．20\n",
    "- B．10\n",
    "- C．200\n",
    "- D．30"
   ]
  },
  {
   "cell_type": "markdown",
   "metadata": {},
   "source": [
    "**答案：C**"
   ]
  },
  {
   "cell_type": "markdown",
   "metadata": {},
   "source": [
    "**解析：**\n",
    "- 首先给变量 `x` 与变量 `y` 分别赋值 10，20；\n",
    "- 进入 `if` 判断条件，`if` 判断条件必须满足为真才能执行下面代码，否则会执行 `else` 语句中的代码；\n",
    "- `x <= 0` 条件，`10` 不满足，但由于是 `not x <= 0`, 也就是相反；那么 `x = 10`，满足 `not x <= 0` 的条件；\n",
    "- 因此执行 `print(x * y)`，结果为`200`。"
   ]
  },
  {
   "cell_type": "markdown",
   "metadata": {},
   "source": [
    "**拓展：**\n",
    "- `not` 在 Python 中意为，布尔 \"非\"；\n",
    "- `not x`，如果 `x` 为 `True`，返回 `False`；\n",
    "- 如果 `x` 为 `False`，它返回 `True`。"
   ]
  },
  {
   "cell_type": "markdown",
   "metadata": {},
   "source": [
    "### 知识拓展 03"
   ]
  },
  {
   "cell_type": "markdown",
   "metadata": {},
   "source": [
    "**例题 3：只是使用一层 `if…else` 分支语句，判断是否可以结婚，规则如下：**\n",
    "\n",
    "```\n",
    "男生年龄不小于 22 岁可以结婚\n",
    "女生年龄不小于 20 岁可以结婚\n",
    "定义变量 age 用来存放年龄，sex 用来存放性别，使用 Python 代码完成。\n",
    "```"
   ]
  },
  {
   "cell_type": "markdown",
   "metadata": {},
   "source": [
    "**答案：**\n",
    "\n",
    "```python\n",
    "age = 19\n",
    "sex = \"woman\"\n",
    "if (age >= 22 and sex == \"man\") or (age >= 20 and sex == \"woman\"):\n",
    "    print(\"可以结婚\")\n",
    "else:\n",
    "    print(\"不可以结婚\")\n",
    "```"
   ]
  },
  {
   "cell_type": "markdown",
   "metadata": {},
   "source": [
    "**解析：**\n",
    "\n",
    "- 本题目是用来判断是否可以结婚，结果只有两个，要么能结婚，要么不能结婚；\n",
    "- 只能使用一层 `if…else` 完成该题，也就是需要将所有满足条件的可能性放在一起；\n",
    "- 判断是否可以结婚的条件，需要包含年龄与性别：\n",
    " - 男生可以结婚的条件写成：`age >= 22 and sex == \"man\"`；\n",
    " - 女生结婚的条件写成：`age >= 20 and sex == \"woman\"`。\n",
    "- 需要在 `if` 语句下判断两个条件，使用 `or` 进行连接，为了避免逻辑运算混乱，我们给每个条件加上括号，即 `(age >= 22 and sex == \"man\") or (age >=20 and sex == \"woman\")`。"
   ]
  },
  {
   "cell_type": "markdown",
   "metadata": {},
   "source": [
    "**拓展：**\n",
    "\n",
    "- 在 Python 中运算符是有优先级的，无论是算术运算符，还是逻辑运算符。\n",
    "- 运算符优先级如下：\n",
    "```\n",
    "优先级 1： *，/，//，%（乘，除，取整除，取余）\n",
    "优先级 2： +，-（加，减）\n",
    "优先级 3： >，<，>=，<=，==（比较运算符）\n",
    "优先级 4： and，or，not（逻辑运算符）\n",
    "```"
   ]
  },
  {
   "cell_type": "markdown",
   "metadata": {},
   "source": [
    "## 知识练习"
   ]
  },
  {
   "cell_type": "markdown",
   "metadata": {},
   "source": [
    "**练习 1：以下代码片段运行结果为_____？**\n",
    "\n",
    "```python\n",
    "a = 10\n",
    "b = \"kaikeba\"\n",
    "if a == 826:\n",
    "    print(\"a is 826\")\n",
    "    if b == \"kaikeba\":\n",
    "        print(\"and b is kaikeba\") \n",
    "```\n",
    "\n",
    "- A．and b is xiaokai\n",
    "- B．a is 826 and b is kaikeba\n",
    "- C．and b is kaikeba\n",
    "- D．无返回内容"
   ]
  },
  {
   "cell_type": "markdown",
   "metadata": {},
   "source": [
    "**练习 2：下面程序执行完的结果是什么？**\n",
    "\n",
    "```python\n",
    "age = 3\n",
    "if age >= 18:\n",
    "    print('your age is', age)\n",
    "    print('adult')\n",
    "else:\n",
    "    print('your age is', age)\n",
    "    print('teenager')\n",
    "```\n",
    "\n",
    "- A．\n",
    "```\n",
    "your age is age\n",
    "adult\n",
    "```\n",
    "- B．\n",
    "```\n",
    "your age is 3\n",
    "```\n",
    "- C．\n",
    "```\n",
    "your age is 3\n",
    "adult\n",
    "your age is 3\n",
    "teenager\n",
    "```\n",
    "- D．\n",
    "```\n",
    "your age is 3\n",
    "teenager\n",
    "```"
   ]
  },
  {
   "cell_type": "markdown",
   "metadata": {},
   "source": [
    "**练习 3：阅读下面判断中国季节的 Pyhton 程序，找出 bug，并选项正确的修改选项？**\n",
    "\n",
    "这个判断中国季的程序在投入使用后，发现一个 bug，当输入负数时，也能返回 \"这是在春季。\" 的结果，代码如下：\n",
    "\n",
    "```python\n",
    "if month <= 3:\n",
    "    print(\"这是在春季。\")\n",
    "elif month <= 6:\n",
    "    print(\"这是在夏季。\")\n",
    "elif month <= 9:\n",
    "    print(\"这是在秋季。\")\n",
    "elif month <= 12:\n",
    "    print(\"这是在冬季。\")\n",
    "```\n",
    "\n",
    "- A．修改方式为：\n",
    "\n",
    "```python\n",
    "if month <= 3 and month > 0:\n",
    "    print(\"这是在春季。\")\n",
    "elif month <= 6:\n",
    "    print(\"这是在夏季。\")\n",
    "elif month <= 9:\n",
    "    print(\"这是在秋季。\")\n",
    "elif month <= 12:\n",
    "    print(\"这是在冬季。\")\n",
    "```\n",
    "\n",
    "- B．修改方式为：\n",
    "\n",
    "```python\n",
    "if month <= 3 or month > 0:\n",
    "    print(\"这是在春季。\")\n",
    "elif month <= 6:\n",
    "    print(\"这是在夏季。\")\n",
    "elif month <= 9:\n",
    "    print(\"这是在秋季。\")\n",
    "elif month <= 12:\n",
    "    print(\"这是在冬季。\")\n",
    "```"
   ]
  },
  {
   "cell_type": "markdown",
   "metadata": {},
   "source": [
    "**练习 4：请用 Python 程序来判断今天是工作日还是周末，具体要求如下：**\n",
    "\n",
    "- 变量 day 用来存放今天是周几的数字；\n",
    "- day 的结果只能是 1 至 7 之间的数字；\n",
    "- 如果 day 的变量不是 1 至 7 之间的数字，返回 \"一周只有7天\"。"
   ]
  },
  {
   "cell_type": "markdown",
   "metadata": {},
   "source": [
    "**练习 5：用最简单的语句编写一个程序，检查变量是否位于 1-10 之间。**"
   ]
  },
  {
   "cell_type": "markdown",
   "metadata": {},
   "source": [
    "## 答案解析"
   ]
  },
  {
   "cell_type": "markdown",
   "metadata": {},
   "source": [
    "**练习 1 答案：C**\n",
    "\n",
    "- 首先我们将 `a` 赋值为 10，`b` 赋值为 \"kaikeba\"；\n",
    "- 接着判断流程是，如果 `a` 是 826，会打印 \"a is 826\" 然后接着再判断 `b` 是否为 \"kaikeba\"；\n",
    "- 如果 `a` 不是 826，那么会直接结束程序，不会再对 `b` 做判断，流程图如下：\n",
    "\n",
    "><img aligh=\"left\" style=\"zoom: 0.3\" src=\"material/chapter_3_answer_1.png\">"
   ]
  },
  {
   "cell_type": "markdown",
   "metadata": {},
   "source": [
    "**练习 2 答案：D**\n",
    "\n",
    "- 首先变量 `age` 赋值为 `3`，程序不会执行 `if` 分支中的语句，会执行 `else` 分支中的语句；\n",
    "- `print()` 中的 `age` 也会指向 `3`，所以打印出来的结果是 \"your age is 3\"；\n",
    "- 然后再打印 \"teenager\"；\n",
    "- 另：在 `if` 分支语句中，如果满足了第一个模块，Python 将不会再执行后面的 `else` 模块。"
   ]
  },
  {
   "cell_type": "markdown",
   "metadata": {},
   "source": [
    "**练习 3 答案：A**\n",
    "\n",
    "- `and` 是并且关系，需要同时满足才能判断正确，符合我们的程序场景；\n",
    "- 而 `or` 是或者的关系，只要满足其中一个就会判断正确，并不符合我们的程序场景。"
   ]
  },
  {
   "cell_type": "markdown",
   "metadata": {},
   "source": [
    "**练习 4 答案：**\n",
    "\n",
    "```python\n",
    "day = 1\n",
    "if day >= 1 and day <= 5:\n",
    "    print(\"工作日\")\n",
    "elif day <= 7:\n",
    "    print(\"周末\")\n",
    "else:\n",
    "    print(\"一周只有7天\")\n",
    "```\n",
    "\n",
    ">**注意：**当程序判断了变量不满足大于等于 `1` 且小于等于 `5`，就已经是默认了这个变量是大于 `5` 的，不需要重复写入下一个判断。"
   ]
  },
  {
   "cell_type": "markdown",
   "metadata": {},
   "source": [
    "**练习 5 答案：**\n",
    "\n",
    "- 写法一：\n",
    "\n",
    "```python\n",
    "Num = 8\n",
    "if Num <= 10:\n",
    "    if Num >= 1:\n",
    "        print(“符合”)\n",
    "    else:\n",
    "        print(“不符合”)\n",
    "else:\n",
    "    print(“不符合”)\n",
    "```\n",
    "\n",
    "- 写法二：\n",
    "\n",
    "```python\n",
    "Num = 8\n",
    "if Num <= 10 and Num >= 1:\n",
    "    print(“符合”)\n",
    "else:\n",
    "    print(“不符合”)\n",
    "```\n",
    "\n",
    ">**解析：**显然写法二会更简单一些，我们看一下他们两个程序分别的流程到底简化了哪里。\n",
    ">- 写法一流程图：<br>\n",
    "><img aligh=\"left\" style=\"zoom: 0.3\" src=\"material/chapter_3_answer_2.png\"><br><br>  \n",
    ">- 写法二流程图：<br>\n",
    "<img aligh=\"left\" style=\"zoom: 0.3\" src=\"material/chapter_3_answer_3.png\">"
   ]
  },
  {
   "cell_type": "markdown",
   "metadata": {
    "toc-hr-collapsed": true,
    "toc-nb-collapsed": true
   },
   "source": [
    "# 第四课 天启的战书"
   ]
  },
  {
   "cell_type": "markdown",
   "metadata": {},
   "source": [
    "## 知识回顾"
   ]
  },
  {
   "cell_type": "markdown",
   "metadata": {},
   "source": [
    "<img src=\"material/chapter_4.png\">"
   ]
  },
  {
   "cell_type": "markdown",
   "metadata": {},
   "source": [
    "## 知识拓展"
   ]
  },
  {
   "cell_type": "markdown",
   "metadata": {},
   "source": [
    "### 知识拓展 01"
   ]
  },
  {
   "cell_type": "markdown",
   "metadata": {},
   "source": [
    "**例题1：以下选择对 input() 形容错误的是？**\n",
    "\n",
    "- A．`input()` 是指输入内容\n",
    "- B．`input()` 是指输出内容\n",
    "- C．需要在 `input()` 输入框中输入内容，按回车键完成程序运行\n",
    "- D．执行 `input()` 语句输入内容可以是 `int()` 和 `str()` 类型"
   ]
  },
  {
   "cell_type": "markdown",
   "metadata": {},
   "source": [
    "**答案：B**"
   ]
  },
  {
   "cell_type": "markdown",
   "metadata": {},
   "source": [
    "**解析：**\n",
    "\n",
    "- B 项 `print()` 是输出函数，`input()` 是输入函数。"
   ]
  },
  {
   "cell_type": "markdown",
   "metadata": {},
   "source": [
    "**拓展：**\n",
    "\n",
    "- 当执行以下代码时，必须完成输入框输入内容并按回车键，才能执行下一个 `print()` 输出函数；\n",
    "- 执行 `input()` 函数时，程序处于运行中，这个时候，如果再次点击运行，就有可能造成程序卡死。\n",
    "\n",
    "```python\n",
    "print(\"你好？\")\n",
    "a = input(\"你是谁:\")\n",
    "print(\"我是隔壁老王\")\n",
    "```"
   ]
  },
  {
   "cell_type": "markdown",
   "metadata": {},
   "source": [
    "### 知识拓展 02"
   ]
  },
  {
   "cell_type": "markdown",
   "metadata": {},
   "source": [
    "**例题 2：观察以下程序，判断哪个选项的说法是对的_____？**\n",
    "\n",
    "```python\n",
    "a = 2\n",
    "b = int(input(\"请输入整数:\"))\n",
    "print(\"计算相乘结果：\", a + b)\n",
    "```\n",
    "\n",
    "- A．输入2    结果为：4\n",
    "- B．输入4    结果为：24\n",
    "- C．输入‘2’  结果为：2\n",
    "- D．程序报错"
   ]
  },
  {
   "cell_type": "markdown",
   "metadata": {},
   "source": [
    "**答案：A**"
   ]
  },
  {
   "cell_type": "markdown",
   "metadata": {},
   "source": [
    "**解析：**\n",
    "- `input()` 输入框默认输入内容为 `str` 字符串类型，使用 `int()` 进行强制转换为 `int` 类型；\n",
    "- 数值类型使用 `+` 运算符会进行相加运算，字符串类型使用 `+` 运算符会进行字符串链接；\n",
    "- A 选项，输入 \"2\"，即 `b` 的值为 2，类型为 `int` 类型，结果为 2 + 2 = 4，正确；\n",
    "- B 选项，输入 \"4\"，即 `b` 的值为 4，类型为 `int` 类型，结果为 2 + 4 = 6，错误；\n",
    "- C 选项，输入 \"2\"，`int` 将字符串 \"2\" 转换成数字类型的 2，是 2 + 2 = 4，错误；\n",
    "- D 选项，错误。"
   ]
  },
  {
   "cell_type": "markdown",
   "metadata": {},
   "source": [
    "**拓展：**\n",
    "\n",
    "- 在 Python 程序中，`input()` 输入框输入值默认是 `str` 字符串类型，可以使用 `int()`, `float()` 转换：\n",
    "\n",
    "```python\n",
    "# 输入手机号 18201012345，变量 phone_num_a 的类型为字符串类型\n",
    "phone_num_a = input('请输入你的手机号')\n",
    "print('type: ', type(phone_num_a), ' value: ', phone_num_a)\n",
    "\n",
    "# 进行强制转换时，使用 int(input())\n",
    "phone_num_b = int(input('请输入你的手机号'))\n",
    "print('type: ', type(phone_num_b), ' value: ',  phone_num_b)\n",
    "\n",
    "# 同理转换成浮点类型 float(input())\n",
    "phone_num_c = float(input('请输入你的手机号'))\n",
    "print('type: ', type(phone_num_c), ' value: ',  phone_num_c)\n",
    "\n",
    "# 上面的写法是，在 input() 完成时，立即进行数据类型的强制转换，\n",
    "# 也可以先获取原始字符串数据，再进行数据类，例如：\n",
    "phone_num_d = input('请输入你的手机号')\n",
    "print(int(phone_num_d))\n",
    "```"
   ]
  },
  {
   "cell_type": "markdown",
   "metadata": {},
   "source": [
    "### 知识拓展 03"
   ]
  },
  {
   "cell_type": "markdown",
   "metadata": {},
   "source": [
    "**例题 3：请使用 Python 完成验证码的输入验证操作。**\n",
    "\n",
    "- 要求：系统验证码为 \"xYq3\"，用户需要输入验证码与系统验证码进行比对；\n",
    "- 验证通过返回「验证通过」，验证错误返回「验证失败」，不区分大小写。"
   ]
  },
  {
   "cell_type": "markdown",
   "metadata": {},
   "source": [
    "**答案：**\n",
    "\n",
    "```python\n",
    "input_code = input(\"请输入验证码\")\n",
    "code = \"xYq3\"\n",
    "if code.upper() == input_code.upper():\n",
    "    print(\"「验证通过」\")\n",
    "else:\n",
    "    print(\"「验证失败」\") \n",
    "```"
   ]
  },
  {
   "cell_type": "markdown",
   "metadata": {},
   "source": [
    "**解析：**\n",
    "\n",
    "- 完成此题目，需要对用户输入的验证码与系统验证码进行比对；\n",
    "- 由于要求是不区分大小写，在验证时，需要将系统验证码与用户输入的验证码进行大写或者小写统一；\n",
    "- 在此题目中，我们将系统验证码与用户输入的验证码都转变为大写形式进行比对，只要转变后的字符相同，即可完成比对。 "
   ]
  },
  {
   "cell_type": "markdown",
   "metadata": {},
   "source": [
    "**拓展：**\n",
    "\n",
    "- upper() 函数用于将字符串中的所有小写字母转换为大写字母，字符串中存在数字不受影响，该函数只对字母起作用。"
   ]
  },
  {
   "cell_type": "markdown",
   "metadata": {},
   "source": [
    "## 知识练习"
   ]
  },
  {
   "cell_type": "markdown",
   "metadata": {},
   "source": [
    "**练习 1：将输入的字符串数值转换为浮点型，正确的语句是？**\n",
    "\n",
    "- A．`int(input())`\n",
    "- B．`float(input())`\n",
    "- C．`str(input())`\n",
    "- D．`floa(input())`"
   ]
  },
  {
   "cell_type": "markdown",
   "metadata": {},
   "source": [
    "**练习 2：`input()` 表达正确的是？**\n",
    "\n",
    "- A．`input()` 是指输入内容，`print()` 指输出内容\n",
    "- B．`input()` 不输入内容并按回车键，程序会保持持续运行\n",
    "- C．`int(input())` 能够将所有输入的数据转换成整型"
   ]
  },
  {
   "cell_type": "markdown",
   "metadata": {},
   "source": [
    "**练习 3：代码 `type(input(\"请输入数值\"))`，在 `input()` 输入框输入数值 `123` 输出的内容是？**\n",
    "\n",
    "- A．str\n",
    "- B．int\n",
    "- C．float\n",
    "- D．异常报错"
   ]
  },
  {
   "cell_type": "markdown",
   "metadata": {},
   "source": [
    "**练习 4：完成一个用户验证程序，具体要求如下：**\n",
    "\n",
    "- 请用户输入用户名与密码，只有用户名为 `\"abc\"`，密码为数字 `666` 时，才能让用户通过验证，并显示 `\"欢迎来到开课吧！\"`； \n",
    "- 否则显示 \"您输入的账号或密码错误。\"。"
   ]
  },
  {
   "cell_type": "markdown",
   "metadata": {},
   "source": [
    "**练习 5：从键盘输入一个整数，判断该数字能否满足以下条件，并输出相应信息答案：**\n",
    "\n",
    "- 能否被 2 和 3 同时整除；\n",
    "- 能否被 2 整除；\n",
    "- 能否被 3 整除；\n",
    "- 既不能被 2 也不能被 3 整除。"
   ]
  },
  {
   "cell_type": "markdown",
   "metadata": {},
   "source": [
    "## 答案解析"
   ]
  },
  {
   "cell_type": "markdown",
   "metadata": {},
   "source": [
    "**练习 1 答案：B**\n",
    "\n",
    "- A 选项 `int(input())` 将输入数据转换为整数类型；\n",
    "- C 选项 `str(input())` 将输入数据转换为字符串类型；\n",
    "- D 选项 `floa(input())` 单词有误。    "
   ]
  },
  {
   "cell_type": "markdown",
   "metadata": {},
   "source": [
    "**练习 2 答案：A，B**\n",
    "\n",
    "- C 选项 `int(input())` 只能对输入的数字起作用，对英文、特殊字符不起作用。 "
   ]
  },
  {
   "cell_type": "markdown",
   "metadata": {},
   "source": [
    "**练习 3 答案：A**\n",
    "\n",
    "- `input()` 输入框默认输入 `str` 类型，如果不进行强制转换，则默认 `type()` 类型为 `str()` 字符串类型。"
   ]
  },
  {
   "cell_type": "markdown",
   "metadata": {},
   "source": [
    "**练习 4 答案：**\n",
    "\n",
    "```python\n",
    "name = input(\"请输入用户名\")\n",
    "pwd = int(input(\"请输入密码\"))\n",
    "if name == \"abc\" and pwd == 666:\n",
    "    print(\"欢迎来到开课吧！\")\n",
    "else:\n",
    "    print(\"您输入的账号或密码错误。\")\n",
    "```\n",
    "\n",
    ">**解析：**\n",
    ">- 完成此题目，第一步需要获取用户输入的用户名和密码，即 `name = input(\"请输入用户名\")`，`pwd = int(input(\"请输入密码\"))`；\n",
    ">- 在第一步中将用户输入的密码进行取整操作；\n",
    ">- 第二步进行相应的判断，完成判断条件 `name == \"abc\" and pwd == 666`；\n",
    ">- 第三步套用 `if...else...` 语句格式，完成代码。"
   ]
  },
  {
   "cell_type": "markdown",
   "metadata": {},
   "source": [
    "**练习 5 答案：**\n",
    "\n",
    "```python\n",
    "num = int(input(\"请输入一个整型数字：\"))\n",
    "\n",
    "# 分四种条件判断，输出不同结果\n",
    "# A == B 逻辑运算，用于判断 A 是否和 B 完全相等（= 是赋值符号，注意不要用错）\n",
    "# A and B 代表 A 和 B 是否都成立，都成立则整体表达式成立\n",
    "\n",
    "if num % 2 == 0 and num % 3 == 0:\n",
    "    print(str(num) + \" 既可以被 2 整除又可以被 3 整除\")\n",
    "    \n",
    "# != 代表不等于，注意是英文符号\n",
    "elif num % 2 == 0 and num % 3 != 0:\n",
    "    print(str(num) + \" 可以被 2 整除但不能被 3 整除\")\n",
    "    \n",
    "elif num % 2 != 0 and num % 3 == 0:\n",
    "    print(str(num) + \" 可以被 3 整除但不能被 2 整除\")\n",
    "    \n",
    "else:\n",
    "    print(str(num) + \" 既不能被 2 整除也不能被 3 整除\")\n",
    "```\n",
    "\n",
    ">**解析：**\n",
    ">此题分三步走：\n",
    ">- 第一步，接收用户输入的数据，`input()` 获取默认类型为字符串的数据，然后需要用 `int()` 强制转换为整型；\n",
    ">- 第二步，完成判断条件，在此题中需要判断该数字属于以下哪种情况：\n",
    "    - 被 2 和 3 同时整除\n",
    "    - 能否被 2 整除\n",
    "    - 能否被 3 整除\n",
    "    - 既不能被 2 也不能被 3 整除\n",
    ">- 需要三个条件判断语句来判断是否满足前三种情况，如果前三种情况都不满足，那么进入最后一种情况 `else` 代码块： \n",
    "    - 1. 判断 n 能否被 2 和 3 同时整除，`if n % 2 == 0 and n % 3 == 0:`\n",
    "        - 【A % B == 0 指 A 对 B 求余，判断余数是否为 0，如果余数为零，那么 A 能整除 B，例如 4 % 2 余数为 0 则 4 能整除 2】 \n",
    "        - 【A and B 是指是否同时满足 条件A 和 条件B，n % 2 和 n % 3 同时成立就意味着 n 能同时整除 2 和 3】\n",
    "    - 2. 可以被 2 整除但不能被 3 整除，`elif n % 2 == 0 and n % 3 != 0:`\n",
    "    - 3. 可以被 3 整除但不能被 2 整除，`elif n % 2 != 0 and n % 3 == 0:`\n",
    "        - 【A != B，指 A 不等于 B】 \n",
    "    - 4. 既不能被 2 整除也不能被 3 整除，即除以上三种情况的其他情况，`else`:\n",
    ">- 第三步，套用 `if...else...` 语句，完成该题目，流程图如下：\n",
    "><img align=\"left\" style=\"zoom: 0.3;\" src=\"material/chapter_4_answer_5.png\">"
   ]
  },
  {
   "cell_type": "markdown",
   "metadata": {
    "toc-hr-collapsed": true,
    "toc-nb-collapsed": true
   },
   "source": [
    "# 第五课 变形金刚战队"
   ]
  },
  {
   "cell_type": "markdown",
   "metadata": {},
   "source": [
    "<img src=\"material/chapter_5.png\">"
   ]
  },
  {
   "cell_type": "markdown",
   "metadata": {},
   "source": [
    "## 知识拓展"
   ]
  },
  {
   "cell_type": "markdown",
   "metadata": {},
   "source": [
    "### 知识拓展 01"
   ]
  },
  {
   "cell_type": "markdown",
   "metadata": {},
   "source": [
    "**例题 1: ```list = ['chaoyang', 'tongzhou', 18, 1995]```，则 `list [0: -1]` 的结果为？**\n",
    "\n",
    "- A．[]\n",
    "- B．['chaoyang', 'tongzhou', 18]\n",
    "- C．['chaoyang', 'tongzhou', 18, 1995]\n",
    "- D．[1995]"
   ]
  },
  {
   "cell_type": "markdown",
   "metadata": {},
   "source": [
    "**答案：B**"
   ]
  },
  {
   "cell_type": "markdown",
   "metadata": {},
   "source": [
    "**解析：**\n",
    "\n",
    "- 本题重点是 `-1` 代表的位置；\n",
    "- 取得一个数据的情况：\n",
    " - 如果要取最后一个元素，可以用 `-1` 做索引，直接获取最后一个元素，本题目中 `list[-1]` 对应得到 1995；\n",
    " - 以此类推，获取倒数第二个数据，可以用 `-2` 做索引，本题目中 `list[-2]` 对应得到 18；\n",
    "- 如果是取得一个区间的数据：\n",
    " - 冒号左边的数字对应的是：从左边第几个元素开始取，冒号右边的数字对应的是：取到右面第几个元素为止；\n",
    " - 这时，索引 `0` 对应第一个元素，它的值是 `'chaoyang'`，而索引 `-1` 对应从最后往回数一个元素，它的值就是 `18`；\n",
    " - `list[0: -1]` 代表的就是从第一个元素开始取到倒数第二个元素；\n",
    " - 因而结果为 B 选项。"
   ]
  },
  {
   "cell_type": "markdown",
   "metadata": {},
   "source": [
    "**拓展：**\n",
    "\n",
    "- 列表提取元素，可以正顺提取，也可以倒序提取；\n",
    "- 在列表中，`list[-1]` 就是用来获取最后一个元素的；\n",
    "- 同理：`list[-2]` 可以获得倒数第二个元素；\n",
    "- 如下例中，`list[-1]` 结果为 `1987`；`list[-2]` 结果为 `'xiaoyang'`。\n",
    "\n",
    "```python\n",
    "list = ['xiaowang', 'xiaoli', 'xiaoyang', 1987]\n",
    "list[-1]    # 1987\n",
    "list[-2]    # xiaoyang\n",
    "```"
   ]
  },
  {
   "cell_type": "markdown",
   "metadata": {},
   "source": [
    "### 知识拓展 02"
   ]
  },
  {
   "cell_type": "markdown",
   "metadata": {},
   "source": [
    "**例题 2：阅读下面的程序，选择正确的输出结果。**\n",
    "\n",
    "```python\n",
    "name = ['张三', '李四', '王五', '刘六', '常七', '朱八', '丁九']\n",
    "name[6: 2: -2] \n",
    "```\n",
    "\n",
    "- A．['丁九', '常七']\n",
    "- B．['王五', '常七', '丁九']\n",
    "- C．['王五', '常七']\n",
    "- D．[]"
   ]
  },
  {
   "cell_type": "markdown",
   "metadata": {},
   "source": [
    "**答案：A**"
   ]
  },
  {
   "cell_type": "markdown",
   "metadata": {},
   "source": [
    "**解析：**\n",
    "\n",
    "- 根据规则，`list[m: n: p:]` 表示要从索引为 `m` 的元素开始，以 `p` 为步长取数据，取到索引为 `n` 的元素为止，但不包括索引为 `n` 的元素；\n",
    "- 本题目中，`name[6: 2: -2]` 表示要从索引为 `6` 的元素开始，倒序以 `-2` 为步长取数据，取到索引为 `2` 的元素为止，但不包括索引为 `2` 的元素；\n",
    "- 因此，索引为 `6` 的 `'丁九'` 可以取到，然后是索引为 `4` 的 `'常七'`，然后终止获取其余的元素；\n",
    "- 故选 A。"
   ]
  },
  {
   "cell_type": "markdown",
   "metadata": {},
   "source": [
    "**拓展：**\n",
    "\n",
    "- 切片的用法：数据[起始下标：结束下标：步长]，如果步长不写，默认为 `1`；\n",
    "- 步长为 `2` 时，每隔 `2` 个元素才取出一个来；\n",
    "- 如果步长为负数，比如 `-1`，则 `name[::-1]` 相当于复制一个反转的列表，如下例：\n",
    "\n",
    "```python\n",
    "list = ['xiaowang','xiaoli','xiaoyang','xiaozhang','xiaosong']\n",
    "list[::-1]\n",
    "```\n",
    "\n",
    "- 在以上结果中，当索引超出范围时，默认是从最后一个元素开始获取，因而下述两种结果一样，均为 `['xiaosong', 'xiaoyang']`，如下例：\n",
    "\n",
    "```python\n",
    "list = ['xiaowang','xiaoli','xiaoyang','xiaozhang','xiaosong']\n",
    "list[4:1:-2]\n",
    "list[100:1:-2]\n",
    "```"
   ]
  },
  {
   "cell_type": "markdown",
   "metadata": {},
   "source": [
    "### 知识拓展 03"
   ]
  },
  {
   "cell_type": "markdown",
   "metadata": {},
   "source": [
    "**例题 3：编写 Python 程序，完成如下操作：**\n",
    "\n",
    "1. 将《英语课》成绩为 90，《数学课》成绩为 89，语文成绩为 70 传入字典；\n",
    "2. 查看键值对的个数；\n",
    "3. 查看是语文成绩是多少；\n",
    "4. 增加一门课程的成绩，《历史课》成绩为 69；\n",
    "5. 查看《物理课》成绩是多少；\n",
    "6. 查看返回成绩数据字典中的所有键（keys）；\n",
    "7. 查看返回成绩数据字典中所有值的列表（values）。"
   ]
  },
  {
   "cell_type": "markdown",
   "metadata": {},
   "source": [
    "**答案：**\n",
    "\n",
    "```python\n",
    "# 1. 将《英语课》成绩为 90，《数学课》成绩为 89，语文成绩为 70 传入字典；\n",
    "score = {\"英语\": 90, \n",
    "         \"数学\": 89, \n",
    "         \"语文\": 70}\n",
    "\n",
    "# 2. 查看键值对的个数；\n",
    "print(len(score))\n",
    "\n",
    "# 3. 查看是语文成绩是多少；\n",
    "score['语文']\n",
    "\n",
    "# 4. 增加一门课程的成绩，《历史课》成绩为 69；\n",
    "score['历史'] = 69\n",
    "\n",
    "# 5. 查看《物理课》成绩是多少；\n",
    "print(score)\n",
    "print(score.get('物理'))\n",
    "\n",
    "# 6. 查看返回成绩数据字典中的所有键（keys）；\n",
    "print(list(score.keys()))\n",
    "\n",
    "# 7. 查看返回成绩数据字典中所有值的列表（values）。\n",
    "print(list(score.values()))\n",
    "```"
   ]
  },
  {
   "cell_type": "markdown",
   "metadata": {},
   "source": [
    "**解析：**\n",
    "\n",
    "- 在以上程序中，重点是如何使用字典的几种常用函数，其中包括字典定义函数、查看键值对、增加元素等。"
   ]
  },
  {
   "cell_type": "markdown",
   "metadata": {},
   "source": [
    "**拓展：**\n",
    "\n",
    "- 根据键来获取值常用的方法为 字典[键]（`dict[key]`），但是当访问字典中并不存在的值时，这种方法就会引发 `KeyError` 错误，由此引出 `get()` 函数；\n",
    "- `get()` 也是用来根据键来获取值的一种常用方法，如果使用 `get()` 方法访问的键存在，便会返回值，如果访问不存在的键，该方法会简单地返回 `None`，不会导致程序运行异常；\n",
    "- `keys()` 函数 和 `values()` 函数分别用于获取字典中的所有键和所有值。"
   ]
  },
  {
   "cell_type": "markdown",
   "metadata": {},
   "source": [
    "## 知识练习"
   ]
  },
  {
   "cell_type": "markdown",
   "metadata": {},
   "source": [
    "**练习 1：以下不能创建字典的语句是？（多选）**\n",
    "\n",
    "- A．dict1 = {}\n",
    "- B．dict2 = {8 : 7}\n",
    "- C．dict3 = {[‘a’,’b’,’c’]: “uestc”}  \n",
    "- D．dict4 = {8: \"uestc\", \"abc\"}"
   ]
  },
  {
   "cell_type": "markdown",
   "metadata": {},
   "source": [
    "**练习 2：阅读如下代码，选出能输出 \"女\" 的选项。**\n",
    "\n",
    "```python\n",
    "S = {'Michael': \"女\", \n",
    "     'Bob': \"男\", \n",
    "     'Tracy': \"男\", \n",
    "     'Brian': \"男\"}\n",
    "```\n",
    "\n",
    "- A．print(S.keys())\n",
    "- B．print(S[\"Michael\"])\n",
    "- C．print(S.values())\n",
    "- D．print(S[\"Bob\"])"
   ]
  },
  {
   "cell_type": "markdown",
   "metadata": {},
   "source": [
    "**练习 3：在下面代码空格的位置上，填入哪些选项的数字可以把列表中的 \"刘备\" 换成 \"马超\" 呢？（多选）**\n",
    "\n",
    "```python\n",
    "a1 = [\"关羽\", \"张飞\", \"赵云\", \"刘备\", \"黄忠\"] \n",
    "a1[_____] = \"马超\"\n",
    "```\n",
    "\n",
    "- A．-2\n",
    "- B．1\n",
    "- C．2\n",
    "- D．3"
   ]
  },
  {
   "cell_type": "markdown",
   "metadata": {},
   "source": [
    "**练习 4：有如下程序，存储了一个成绩单，数据结构为** ```{\"名字\": 成绩, ...}``` **的数据字典：**\n",
    "\n",
    "```python\n",
    "scores = {\"Anne\": 90, \n",
    "          \"Bob\": 87, \n",
    "          \"Bald\": 86, \n",
    "          \"Moon\": 100, \n",
    "          \"Balfe\": 78}\n",
    "```\n",
    "**基于 `scores` 数据，编写 Python 程序，实现以下功能：**\n",
    "\n",
    "1. 获取字典的长度；\n",
    "2. 获取字典中键为 \"Bob\" 的值；\n",
    "3. Moon 的成绩输入错误了，现将其更新为100；\n",
    "4. 将 Balfe 的成绩删除掉；\n",
    "5. 新添加一个学生成绩，学生姓名为 Ada，成绩为 78；\n",
    "6. 清空整个字典；\n",
    "7. 删除字典。"
   ]
  },
  {
   "cell_type": "markdown",
   "metadata": {},
   "source": [
    "**练习 5：有如下程序，存储了一个体重列表，按照要求编写 Python 程序实现功能：**\n",
    "\n",
    "```python\n",
    "weight = [90, 89, 92, 101,\n",
    "          104, 109, 112, 127, \n",
    "          132, 145, 167, 156]\n",
    "```\n",
    "\n",
    "1. 计算列表长度并输出；\n",
    "2. 输出 `weight` 列表中第 `3` 个元素的数值；\n",
    "3. 输出 `weight` 列表中第 `1-6` 个元素的值；\n",
    "4. 取出 `weight` 列表中最后 `3` 个元素；\n",
    "5. `weight` 列表中，追加数值 `130`，并输出 `weight` 列表；\n",
    "6. 颠倒列表中的顺序；\n",
    "7. 删除列表中第一个元素；\n",
    "8. 创建新列表 `[135, 121, 103, 94, 115]`，合并到 `weight` 列表中。"
   ]
  },
  {
   "cell_type": "markdown",
   "metadata": {},
   "source": [
    "## 答案解析"
   ]
  },
  {
   "cell_type": "markdown",
   "metadata": {},
   "source": [
    "**练习 1 答案：C，D**\n",
    "\n",
    "- A 选项创建了一个空白的字典；\n",
    "- B 选项创建了一个键为 8，值为 7 的字典；\n",
    "- C 选项中试图将列表作为键，是不符合 Python 中字典数据结构的要求的，故 C 选项是不能创建字典的；\n",
    "- D 选项中一个键对应了两个值，Python 的字典类型不允许一个键对应多个值，一个键只能对应一个值，因而 D 选项不能创建数据字典。"
   ]
  },
  {
   "cell_type": "markdown",
   "metadata": {},
   "source": [
    "**练习 2 答案：B**\n",
    "\n",
    "- A 选项为输出字典所有的键，故 A 选项不对；\n",
    "- C 选项为输出字典所有的值，故 C 选项不对；\n",
    "- 根据 S 中的数据描述，\"Michael\" 的性别是 \"女\"，\"Bob\" 的性别是 \"男\"，故选择 A 选项。"
   ]
  },
  {
   "cell_type": "markdown",
   "metadata": {},
   "source": [
    "**练习 3 答案：A，D**\n",
    "\n",
    "- 这道题主要考察索引的使用，正序中，\"刘备\" 的索引为 3，所以 D 是正确的，在倒序中，\"刘备\" 的索引为 -2，所以 A 也正确。"
   ]
  },
  {
   "cell_type": "markdown",
   "metadata": {},
   "source": [
    "**练习 4 答案：**\n",
    "\n",
    "```python\n",
    "scores = {\"Anne\": 90, \n",
    "          \"Bob\": 87, \n",
    "          \"Bald\": 86, \n",
    "          \"Moon\": 100, \n",
    "          \"Balfe\": 78}\n",
    "\n",
    "# 1. 获取字典的长度；\n",
    "print(len(scores))\n",
    "\n",
    "# 2. 获取字典中键为 \"Bob\" 的成绩；\n",
    "print(scores[\"Bob\"])\n",
    "\n",
    "# 3. Moon 的成绩输入错误了，现将其更新为100；\n",
    "scores[\"Moon\"] = 100\n",
    "print(scores[\"Moon\"])\n",
    "\n",
    "# 4. 将 Balfe 的成绩删除掉；\n",
    "del scores[\"Balfe\"]\n",
    "print(scores)\n",
    "\n",
    "# 5. 新添加一个学生成绩，学生姓名为Ada，成绩为78；\n",
    "scores[\"Ada\"] = 78\n",
    "print(scores)\n",
    "\n",
    "# 6. 清空整个字典；\n",
    "scores.clear()\n",
    "print(scores)\n",
    "\n",
    "# 7. 删除字典。\n",
    "del scores\n",
    "# 这时，scores 变为为定义，\n",
    "# 如果使用 print(scores) 输出数据的话，Python 会抛出异常：\n",
    "# NameError: name 'scores' is not defined\n",
    "```\n",
    "\n",
    ">**解析：**\n",
    ">- `len()` 函数可以用来得到字典或列表的长度，`len()` 函数括号里放字典或列表的变量名；\n",
    "- 当从字典中提取元素时，由于字典没有下标，只能通过键名提取，也就是 `字典名[键]`；\n",
    "- 当更新字典中键对应的值时，可以将键对应的值进行修改，方式为 `字典名[键] = 新值`；\n",
    "- 当删除一个键值对时，使用 `del` 语句，方式为 `del 字典名[键]`；\n",
    "- 当新增键值时，使用 `字典名[键] = 值`；\n",
    "- `clear()` 函数可以用来清空整个字典中的数据；\n",
    "- `del` 字典名 可以用看来删除整个字典。"
   ]
  },
  {
   "cell_type": "markdown",
   "metadata": {},
   "source": [
    "**练习 5 答案：**\n",
    "\n",
    "```python\n",
    "weight = [90, 89, 92, 101,\n",
    "          104, 109, 112, 127, \n",
    "          132, 145, 167, 156]\n",
    "\n",
    "# 1. 计算列表长度并输出；\n",
    "print(\"length: \", len(weight))\n",
    "\n",
    "# 2. 输出 weight 列表中第 3 个元素的数值；\n",
    "print(\"weight[2]: \", weight[2])\n",
    "\n",
    "# 3. 输出 weight 列表中第 1-6 个元素的值；\n",
    "print(\"weight[0:6]: \", weight[0:6])\n",
    "\n",
    "# 4. 取出 weight 列表中最后 3 个元素；\n",
    "print(\"weight[-3:]: \", weight[-3:]) # [-3:]表示取值范围为从列表的倒数第三个到末尾\n",
    "\n",
    "# 5. weight 列表中，追加数值 130，并输出 weight 列表；\n",
    "weight.append(130)\n",
    "print(\"weight.append(130): \", weight)\n",
    "\n",
    "# 6. 颠倒列表中的顺序；\n",
    "weight_reverse = weight[::-1]\n",
    "print(\"weight[::-1]: \", weight_reverse)\n",
    "\n",
    "# 7. 删除列表中第一个元素；\n",
    "del weight[0]\n",
    "print(\"del weight[0]: \", weight)\n",
    "\n",
    "# 8. 创建新列表 [135, 121, 103, 94, 115]，合并到 weight 列表中。\n",
    "weight_two = [135, 121, 103, 94, 115]\n",
    "weight.extend(weight_two)\n",
    "print(\"weight.extend(weight_two): \", weight)\n",
    "```\n",
    "\n",
    ">**解析：**\n",
    ">- 用 len() 函数可以获得 list 列表中的数据个数；\n",
    ">- 当从列表中提取单个元素时，我们可以通过列表名搭配下标方式来提取列表中的元素，读取元素中的内容；\n",
    ">- 当从列表中提取多个元素时，可以采用切片的方式进行；\n",
    ">- 用 del 函数删除相应下标的元素；\n",
    ">- 用 append() 函数可以向列表中添加元素；\n",
    ">- 用 extend() 函数可以批量添加元素，extend() 是将另外一个列表中的元素逐一添加到当前列表中，而不是将另一个列表作为一个数据整体进行添加。"
   ]
  },
  {
   "cell_type": "markdown",
   "metadata": {
    "toc-hr-collapsed": true,
    "toc-nb-collapsed": true
   },
   "source": [
    "# 第六课 躲不过的重复"
   ]
  },
  {
   "cell_type": "markdown",
   "metadata": {},
   "source": [
    "## 知识回顾"
   ]
  },
  {
   "cell_type": "markdown",
   "metadata": {},
   "source": [
    "<img src=\"material/chapter_6.png\">"
   ]
  },
  {
   "cell_type": "markdown",
   "metadata": {},
   "source": [
    "## 知识拓展"
   ]
  },
  {
   "cell_type": "markdown",
   "metadata": {},
   "source": [
    "### 知识拓展 01"
   ]
  },
  {
   "cell_type": "markdown",
   "metadata": {},
   "source": [
    "**例题 1：以下 Python 程序，`\"Hello, Python!\"` 打印了多少次？**\n",
    "\n",
    "```python\n",
    "i = 0 \n",
    "while i < 3:\n",
    "    for j in range(3):\n",
    "        print(\"Hello, Python!\")\n",
    "    i += 1\n",
    "```\n",
    "\n",
    "- A．6\n",
    "- B．7\n",
    "- C．8\n",
    "- D．9"
   ]
  },
  {
   "cell_type": "markdown",
   "metadata": {},
   "source": [
    "**答案：D**"
   ]
  },
  {
   "cell_type": "markdown",
   "metadata": {},
   "source": [
    "**解析：**\n",
    "\n",
    "- 这段程序在运行时，是两层循环的嵌套；\n",
    "- 在外层 `while i < 3` 条件下，当 `i` 为 `0` 时，满足外层循环条件，内层循环 `for j in range(3)` 会执行 `3` 次，执行 `3` 次后，`i += 1` 使得 `i` 变为 `1`；\n",
    "- 当 `i` 为 `1` 时，满足外层条件，内层循环 `for j in range(3)` 再执行 `3` 次，执行 `3` 次后，`i` 变为 `2`；\n",
    "- 当 `i` 为 `2` 时，满足外层条件，内层循环 `for j in range(3)` 仍然执行 `3` 次，执行 `3` 次后，`i` 变为 `3`；\n",
    "- 当 `i` 为 `3` 时，不满足 `while` 中 `i < 3` 的条件，内层循环 `for j in range(3)` 不再执行，外层循环结束；\n",
    "- 因此，一共执行了 3 x 3 = 9 次 `print(\"Hello, Python!\")`，选择 D 选项。"
   ]
  },
  {
   "cell_type": "markdown",
   "metadata": {},
   "source": [
    "**拓展：**\n",
    "\n",
    "- 这道题目属于循环嵌套中的 `while ... : for ... :` 嵌套结构，可以看出，外循环使用的是 `while` 语句，内循环使用的是 `for` 语句；\n",
    "- 外循环将中 3 次，每次执行外循环时，内循环也执行 3 次，循环结束后总共执行 9 次；\n",
    "- 总结，嵌套循环执行的总次数为外循环次数与内循环次数的乘积。"
   ]
  },
  {
   "cell_type": "markdown",
   "metadata": {},
   "source": [
    "### 知识拓展 02"
   ]
  },
  {
   "cell_type": "markdown",
   "metadata": {},
   "source": [
    "**例题 2：下面语句执行后，能输出 \"循环结束\" 字符串吗？程序如下：**\n",
    "\n",
    "```python\n",
    "for i in range(1, 5):\n",
    "    print(i)\n",
    "else:\n",
    "    print(\"循环结束\")\n",
    "```\n",
    "\n",
    "- A．能输出 \"循环结束\"\n",
    "- B．不能输出 \"循环结束\""
   ]
  },
  {
   "cell_type": "markdown",
   "metadata": {},
   "source": [
    "**答案：A**"
   ]
  },
  {
   "cell_type": "markdown",
   "metadata": {},
   "source": [
    "**解析：**\n",
    "\n",
    "- 该循环在执行时，需要通过 `for i in range(1, 5)` 进行循环判断条件，才能执行 `print(i)`；\n",
    "- `for i in range(1, 5)` 只能从 1 执行，执行 4 次，当第 5 次不满足时，已经不能执行 `print(i)` 函数，而去执行 `else` 语句中的 `print(\"循环结束\")`，所以能输出 \"循环结束\"；\n",
    "- `for` 循环在正常结束时，会自动执行 `else` 中的代码块，选择 A 选项。"
   ]
  },
  {
   "cell_type": "markdown",
   "metadata": {},
   "source": [
    "**拓展：**\n",
    "\n",
    "- Python 中 `for` 循环使用 `else` 语句，只有当 `for` 中所有语句代码块正常执行完，才会执行 `else` 语句，通常在能预先确定循环次数的情况下使用，格式如下：\n",
    "\n",
    "```python\n",
    "for 迭代对象 in 序列:\n",
    "    代码块\n",
    "else:\n",
    "    代码块\n",
    "```\n",
    "\n",
    "- 另外，`while` 循环也可以使用 `else` 子句，即可在无法确定循环次数的情况下使用，也可以在循环次数可以预先确定的情况下使用。"
   ]
  },
  {
   "cell_type": "markdown",
   "metadata": {},
   "source": [
    "### 知识拓展 03"
   ]
  },
  {
   "cell_type": "markdown",
   "metadata": {},
   "source": [
    "**例题 3：编写 Python 程序，使用 `for` 循环输出 1～100 中所有的奇数，输出如下面所示的结果：**\n",
    "\n",
    "```\n",
    "1,3,5,7,9,11,13,15,......91,93,95,97,99\n",
    "```"
   ]
  },
  {
   "cell_type": "markdown",
   "metadata": {},
   "source": [
    "**答案：**\n",
    "```python\n",
    "odd_number_list = []\n",
    "for i in range(1, 100, 2):\n",
    "    odd_number_list.append(str(i))\n",
    "print(','.join(odd_number_list))\n",
    "```"
   ]
  },
  {
   "cell_type": "markdown",
   "metadata": {},
   "source": [
    "**解析：**\n",
    "\n",
    "- 这道题目，需要从 1～100 中找到所有的奇数，完成有两步：第一步，1～100 之间的循环，第二步，找到循环中的奇数；\n",
    "- 一种做法是：\n",
    " - 写一个 1～100 的循环，然后在循环中做 `if` 判断，如果不能被 2 整除，则找到一个奇数；\n",
    " - 这样做效率会比较低，一方面是需要循环 100 次才找到 1～100 所有的奇数，另一方面是需要做 100 次取余数计算。\n",
    "- 一种更为高效的做法是：\n",
    " - 使用 `range()` 函数；\n",
    " - `range(1, 100, 2)` 直接生成 1～100 之间所有的奇数，1 为循环起始的初值，99 为循环终止的终值，2 为循环步长，也就是每次循环变化的增量；\n",
    " - 再循环开始时 `i` 为 1，每循环一次 `i` 增加 2，以此类推，i 会依次变为 1，3，5，7，9，......, 99。\n",
    "- 推荐使用更高效的方法来实现本题目，最后 `','.join(odd_number_list)` 将所有的元素用逗号分割的方式连接起来，由于 `join()` 函数要求列表中所有元素都必须是 `str` 类型，我们用 `str(i)` 把 `i` 转换为字符串。"
   ]
  },
  {
   "cell_type": "markdown",
   "metadata": {},
   "source": [
    "**拓展：**\n",
    "\n",
    "- `range()` 函数一般与 `for` 循环一起使用，语法如下：\n",
    "\n",
    "```python\n",
    "range(start, stop[, step])\n",
    "```\n",
    "\n",
    "- 参数说明：\n",
    "    - `start`：从 `start` 开始迭代计数，默认是从 `0` 开始\n",
    "    - `stop`：到 `stop` 结束迭代计数，但不包括 `stop`\n",
    "    - `step`：步长，默认为 `1`"
   ]
  },
  {
   "cell_type": "markdown",
   "metadata": {},
   "source": [
    "## 知识练习"
   ]
  },
  {
   "cell_type": "markdown",
   "metadata": {},
   "source": [
    "**练习 1：Python 中的循环有几种方式_____？**\n",
    "\n",
    "- A．1\n",
    "- B．2\n",
    "- C．3\n",
    "- D．4"
   ]
  },
  {
   "cell_type": "markdown",
   "metadata": {},
   "source": [
    "**练习 2：下面代码的运行结果是_____？**\n",
    "\n",
    "```python\n",
    "x = 0\n",
    "while x <= 6:\n",
    "    x += 2\n",
    "    print(x, end = ' ')\n",
    "```\n",
    "\n",
    "- A．2 4 6 8\n",
    "- B．0 2 4 6 8\n",
    "- C．2 4 6\n",
    "- D．0 2 4 6"
   ]
  },
  {
   "cell_type": "markdown",
   "metadata": {},
   "source": [
    "**练习 3：以下代码的结果是_____？**\n",
    "\n",
    "```python\n",
    "x = 0\n",
    "for i in range(1, 5):\n",
    "    x = x + i\n",
    "print(x)\n",
    "```\n",
    "\n",
    "- A．1 至 5 的和\n",
    "- B．1 + 5 的和\n",
    "- C．1 至 4 的和\n",
    "- D．1 + 4 的和"
   ]
  },
  {
   "cell_type": "markdown",
   "metadata": {},
   "source": [
    "**练习 4：编写 Python 程序，使用 `for` 循环打印文字图形，要求输出结果如下：**\n",
    "\n",
    "```\n",
    "* \n",
    "* * \n",
    "* * *\n",
    "* * * * \n",
    "* * * * *\n",
    "* * * * * *\n",
    "```"
   ]
  },
  {
   "cell_type": "markdown",
   "metadata": {},
   "source": [
    "**练习 5：编写 Python 程序，使用 while 循环，实现以下要求：**\n",
    "\n",
    "- 用户输入账号和密码，与后端数据进行比对；\n",
    "- 比对正确则显示 \"登陆成功\"，错误则显示 \"登陆失败\"，且只有三次机会；\n",
    "- 后端数据，账号：\"小明\"，密码：\"Pass@word1\"。"
   ]
  },
  {
   "cell_type": "markdown",
   "metadata": {},
   "source": [
    "## 答案解析"
   ]
  },
  {
   "cell_type": "markdown",
   "metadata": {},
   "source": [
    "**练习 1 答案：B** \n",
    "\n",
    "- Python 中的循环有两种，一种是 `for` 循环，依次把数据集中的元素迭代出来，语法如下：\n",
    "\n",
    "```python\n",
    "for iterating_var in sequence:\n",
    "   statements(s)\n",
    "```\n",
    "\n",
    "- 另一种是 `while` 循环，只要满足条件，就不断循环，直到循环条件不满足时才退出循环，语法如下：\n",
    "\n",
    "```python\n",
    "while expression:\n",
    "   statement(s)\n",
    "```\n",
    "\n",
    "- 因此有两种循环方式，选择 B。"
   ]
  },
  {
   "cell_type": "markdown",
   "metadata": {},
   "source": [
    "**练习 2 答案：A**\n",
    "\n",
    "- `x` 初始值为 `0`，满足 `x <= 6` 的条件，进入 `while` 循环，`x` 的值先加 `2` 再打印出来 `2`；\n",
    "- `x` 值为 `2`，满足 `x <= 6` 的条件，继续 `while` 循环，`x` 的值先加 `2` 再打印出来 `4`；\n",
    "- `x` 值为 `4`，满足 `x <= 6` 的条件，继续 `while` 循环，`x` 的值先加 `2` 再打印出来 `6`；\n",
    "- `x` 值为 `6`，满足 `x <= 6` 的条件，继续 `while` 循环，`x` 的值先加 `2` 再打印出来 `8`；\n",
    "- `x` 值为 `8`，不满足循环条件，退出循环；\n",
    "- 因此打印的结果是 2 4 6 8，选则 A。"
   ]
  },
  {
   "cell_type": "markdown",
   "metadata": {},
   "source": [
    "**练习 3 答案：C**\n",
    "\n",
    "- `range(1, 5)` 函数中，初始值为 `1`，结束值为 `4`，不包括 `5`，生成的元素为 1, 2, 3, 4；\n",
    "- `for` 循环遍历所有元素，并将所有的元素进行累加，最后输出结果为 `10`，选则 C。"
   ]
  },
  {
   "cell_type": "markdown",
   "metadata": {},
   "source": [
    "**练习 4 答案：**\n",
    "\n",
    "- 第一种方法：\n",
    "\n",
    "```python\n",
    "for i in range(1, 7):\n",
    "    for j in range(7 - i, 7):\n",
    "        print('*', end=' ')\n",
    "    print()\n",
    "```\n",
    "\n",
    "- 第二种方法：\n",
    "\n",
    "```python\n",
    "for i in range(6):\n",
    "    print(('* ') * (i+1))\n",
    "```\n",
    "\n",
    ">**解析：**\n",
    ">- `rang(6)` 函数，初始迭代的值默认为 `0`，结束值为 `5`，元素为 `0, 1, 2, 3, 4, 5`；\n",
    ">- 执行 `for` 循环，遍历所有元素 0 至 5，执行打印语句，每次循环打印 `i + 1` 个 '* '；\n",
    ">- 随着 `i` 从 `0` 增加到 `5`，每行打印的 `'* '` 都比上一行多一个，共打印 `6` 行后，循环结束；\n",
    ">- 第二种实现方法比第一种方法更加优美，这种优美的代码也是 Python 语言受人青睐的一个原因。"
   ]
  },
  {
   "cell_type": "markdown",
   "metadata": {},
   "source": [
    "**练习 5 答案：**\n",
    "\n",
    "```python\n",
    "attempt_limit = 3\n",
    "while attempt_limit >= 1:\n",
    "    user_name = input(\"请输入账户：\")\n",
    "    password = input(\"请输入密码：\")\n",
    "    if user_name == \"小明\" and password == \"Pass@word1\":\n",
    "        print(\"登陆成功\")\n",
    "        break\n",
    "    else:\n",
    "        print(\"账户或者密码错误\")\n",
    "        attempt_limit -= 1\n",
    "```\n",
    "\n",
    ">**解析:** \n",
    ">- `attempt_limit` 表示还剩余的尝试次数，初始值为 `3` 次；\n",
    ">- 当还有尝试次数的时候，即 `attempt_limit >= 1` 满足 `while` 循环条件，执行循内的代码块：\n",
    "    - 提示用户输入账户 `user_name` 和密码 `password`，然后执行 `if` 语句进行账号和密码的比对；\n",
    "    - 如果比对成功，则打印 `\"登陆成功\"`，并执行 `break` 退出循环；\n",
    "    - 如果比对不成功，则执行 `else` 中的代码块，打印 `\"账户或者密码错误\"`，并让 `attempt_limit -= 1`；\n",
    "    - 继续执行下一次循环。\n",
    ">- 总结一下，有两种情况会导致程序退出：\n",
    "    - 第一，`if user_name == \"小明\" and password == \"Pass@word1\"` 逻辑运算返回 `True`，`if` 代码块中的 `break` 语句被执行，导致 `while` 循环结束；\n",
    "    - 第二，`else` 代码执行了 `3` 次，`attempt_limit` 被 `3` 次减 `1`，导致 `attempt_limit` 为 `0`，无法满足 `while` 循环继续执行的条件，也就是 `attempt_limit >= 1`。"
   ]
  },
  {
   "cell_type": "markdown",
   "metadata": {
    "toc-hr-collapsed": true,
    "toc-nb-collapsed": true
   },
   "source": [
    "# 第七课 跳出重复"
   ]
  },
  {
   "cell_type": "markdown",
   "metadata": {},
   "source": [
    "<img src=\"material/chapter_7.png\">"
   ]
  },
  {
   "cell_type": "markdown",
   "metadata": {},
   "source": [
    "## 知识拓展"
   ]
  },
  {
   "cell_type": "markdown",
   "metadata": {},
   "source": [
    "### 知识拓展 01"
   ]
  },
  {
   "cell_type": "markdown",
   "metadata": {},
   "source": [
    "**例题 1：以下选项，可以得到布尔值为 `True` 的语句是？**\n",
    "\n",
    "- A．3 > 5\n",
    "- B．True and False\n",
    "- C．(5 > 3) & (3 > 5)\n",
    "- D．(5 > 3) or (3 > 5)"
   ]
  },
  {
   "cell_type": "markdown",
   "metadata": {},
   "source": [
    "**答案：D**"
   ]
  },
  {
   "cell_type": "markdown",
   "metadata": {},
   "source": [
    "**解析：**\n",
    "- A 选项是两个数字作比较的布尔运算，因为 `3` 是小于 `5` 的，所以 A 选项的 `3 > 5` 是 `False`；\n",
    "- B 选项是布尔值之间的布尔运算，`and` 表示并且的含义，即 `and` 左右的布尔值都应该为真，才可以得到 `True` 的结果；\n",
    "- D 选项中 `or` 表示或者含义，也就是说 `or` 两端只要有 `1` 个布尔值结果为 `True`，则整体布尔运算的结果就为 `Ture`，故选择 D。"
   ]
  },
  {
   "cell_type": "markdown",
   "metadata": {},
   "source": [
    "**拓展：**\n",
    "\n",
    "- 在这里，因为 `&` 左右两端都是逻辑变量，结果为布尔值，所以这里 `&` 的作用相当于 `and` 的作用，都是「并且」的含义，例如： \n",
    "\n",
    "```python\n",
    ">>> (5 > 3) & (3 > 5)\n",
    "False\n",
    ">>> True & True\n",
    "True\n",
    ">>> True & False\n",
    "False\n",
    "```\n",
    "\n",
    "- 同样，在符号左右两端都是布尔值类型时，可以表示「或者」的符号为 `|`，作用同 `or`，例如：\n",
    "\n",
    "```python\n",
    ">>> (5 > 3) | (3 > 5)\n",
    "True\n",
    ">>> False | False\n",
    "False\n",
    ">>> True | False\n",
    "True\n",
    "```"
   ]
  },
  {
   "cell_type": "markdown",
   "metadata": {},
   "source": [
    "## 知识拓展 02"
   ]
  },
  {
   "cell_type": "markdown",
   "metadata": {},
   "source": [
    "**例题 2：阅读以下代码，选择正确的输出结果是？代码如下：**\n",
    "\n",
    "```python\n",
    "s = 0\n",
    "while s < 2:\n",
    "    for i in ['a', 'b']:\n",
    "        if i == 'b':\n",
    "            break\n",
    "        else:\n",
    "            print(s)\n",
    "    s = s + 1\n",
    "```\n",
    "\n",
    "- A．0\n",
    "- B．1\n",
    "- C．0 和 1\n",
    "- D．不会输出结果"
   ]
  },
  {
   "cell_type": "markdown",
   "metadata": {},
   "source": [
    "**答案：C**"
   ]
  },
  {
   "cell_type": "markdown",
   "metadata": {},
   "source": [
    "**解析：**\n",
    "\n",
    "- 本题主要考察对循环及 `break` 的掌握程度，在 `while` 循环内部又嵌套了 `for` 循环，并且 `for` 循环中使用了 `break`；\n",
    "- 初始状态 `s = 0`，所以 `s < 2` 的结果为布尔值 `True`，故进入 `while` 循环；\n",
    "- 在 `while` 循环中，首先进行 `for` 循环：\n",
    " - 第一次 `for` 循环，`i` 为 `'a'`，接着进行 `if` 判断，因为变量 `i` 的值为 `'a'` 是不等于 `'b'` 的，所以，不进入 `if` 结构下的部分，直接进入 `else`，打印 `s`，则此时打印出的 `s` 为 `0`；\n",
    " - 之后进入第二次 `for` 循环，此时 `i` 为 `'b'`，接着进行 `if` 判断，因为变量 `i` 的值为 `'b'` 是等于 `'b'` 的，所以执行 `break`，结束循环；\n",
    " - 但是要理解，该 `break` 是在 `for` 循环语句中出现的，所以它结束的只是该 `for` 循环语句，对外层的 `while` 循环没有影响；\n",
    " - 所以，程序继续进行，此时，`s = s + 1` 后 `s` 变为 `1`。\n",
    "- `s = 1`，继续如上述步骤，开始第 `2` 次 `while` 循环，打印出 `s` 为 `1`；\n",
    "- `s = 2`，不满足 `while` 循环的条件，程序运行结束；\n",
    "- 因此最终输出结果为 `0` 和 `1`."
   ]
  },
  {
   "cell_type": "markdown",
   "metadata": {},
   "source": [
    "**拓展：**\n",
    "\n",
    "- 正如上述过程中所述，当循环中还有循环的这种情况，我们称之为多层循环，也可以叫做循环嵌套；\n",
    "- 循环嵌套的情况下，无论是 `break` 语句还是 `continue` 语句，影响的都只是最靠近他们这一层的循环，外层的循环不会收到影响。"
   ]
  },
  {
   "cell_type": "markdown",
   "metadata": {},
   "source": [
    "### 知识拓展 03"
   ]
  },
  {
   "cell_type": "markdown",
   "metadata": {},
   "source": [
    "**例题 3：编写 Python 程序，使用循环找到列表 `list = ['a', 'b', 'c', 'd']` 中元素 `'b'` 的索引为多少？**"
   ]
  },
  {
   "cell_type": "markdown",
   "metadata": {},
   "source": [
    "**答案：**\n",
    "\n",
    "```python\n",
    "list_for_search = ['a', 'b', 'c', 'd']\n",
    "i = 0\n",
    "l = len(list_for_search)\n",
    "while i < l:\n",
    "    if 'b' == list_for_search[i]:\n",
    "        print(\"'b' 的索引为：\", i)\n",
    "        break\n",
    "    i = i + 1\n",
    "\n",
    "# 'b' 的索引为 1\n",
    "```"
   ]
  },
  {
   "cell_type": "markdown",
   "metadata": {},
   "source": [
    "**解析：**\n",
    "\n",
    "- 首先得到整个列表的长度 `l`，定义变量 `i` 为 `list_for_search` 列表的下标，通过 `while` 循环，控制循环条件 `i < l`；\n",
    "- 通过下标 `i` 取值的方式取得 `list_for_search[i]` 的值，判断本次循环中 `list_for_search[i]` 的值是否为 `'b'`，如果为 `'b'`，打印 `print(\"'b' 的索引为：\", i)`，并且结束循环。"
   ]
  },
  {
   "cell_type": "markdown",
   "metadata": {},
   "source": [
    "**拓展：**\n",
    "\n",
    "- 这个题目有很多中实现方法，也可以用 `for` 循环和下标变量 `i` 相结合的方式：\n",
    "\n",
    "```python\n",
    "list_for_search = ['a', 'b', 'c', 'd']\n",
    "i = 0\n",
    "for e in list_for_search:\n",
    "    if 'b' == e:\n",
    "        print(\"'b' 的索引为：\", i)\n",
    "        break\n",
    "    i = i + 1\n",
    "```\n",
    "\n",
    "- 再给大家介绍一个更为简单的实现方法，使用 `enumerate()` 函数，这个函数用于将一个可遍历的数据对象（如列表、元组或字符串）组合为一个索引序列，同时列出数据下标和数据，一般用在 `for` 循环当中，代码如下：\n",
    "\n",
    "```python\n",
    "list_for_search = ['a', 'b', 'c', 'd']\n",
    "for i, e in enumerate(list_for_search):\n",
    "    if 'b' == e:\n",
    "        print(\"'b' 的索引为：\", i)\n",
    "```\n",
    "\n",
    "- 大家对比一下三种实现方式：`while` 和下标变量 `i` 的方法，`for` 和下标变量 `i` 的方法，`for` 和 `enumerate()` 的方法，哪种方法更符合 Python 语言的优雅气质呢^^"
   ]
  },
  {
   "cell_type": "markdown",
   "metadata": {},
   "source": [
    "## 知识练习"
   ]
  },
  {
   "cell_type": "markdown",
   "metadata": {},
   "source": [
    "**练习 1：以下语句中，表示跳跃到下一次循环的开始的语句是_____？**\n",
    "\n",
    "- A．`break`\n",
    "- B．`continue`\n",
    "- C．`pass`\n",
    "- D．`else`"
   ]
  },
  {
   "cell_type": "markdown",
   "metadata": {},
   "source": [
    "**练习 2：以下说法正确的是_____？**\n",
    "\n",
    "- A．`else` 语句一定是和 `if` 语句结合使用的\n",
    "- B．在一个 `while` 死循环中，如果在循环里的最后一行加入 `continue` 语句可以结束死循环\n",
    "- C．因为 `pass` 表示什么也不做，所以任何情况下都没必要使用它\n",
    "- D．以上说法都不正确"
   ]
  },
  {
   "cell_type": "markdown",
   "metadata": {},
   "source": [
    "**练习 3：阅读以下 Python 代码，选择正确的执行结果为_____？**\n",
    "\n",
    "```python\n",
    "for e in [1, 2, 3]:\n",
    "    if e % 2 == 1:\n",
    "        print(e)\n",
    "        break\n",
    "    else:\n",
    "```\n",
    "\n",
    "- A．1\n",
    "- B．1 和 3\n",
    "- C．报错\n",
    "- D．执行结果为空"
   ]
  },
  {
   "cell_type": "markdown",
   "metadata": {},
   "source": [
    "**练习 4：编写 Python 程序，使用 `while` 循环，将数字 1 到 10（包括 1 和 10）进行相加，但是 5 不参与相加计算，最后打印出求和结果。**"
   ]
  },
  {
   "cell_type": "markdown",
   "metadata": {},
   "source": [
    "**练习 5：编写 Python 程序，对数字 1 到 10（包括 1 和 10）按照顺序进行查找，当第二次出现偶数时，打印该偶数并且结束循环。**"
   ]
  },
  {
   "cell_type": "markdown",
   "metadata": {},
   "source": [
    "## 答案解析"
   ]
  },
  {
   "cell_type": "markdown",
   "metadata": {},
   "source": [
    "**练习 1 答案：B**\n",
    "\n",
    "- `break` 是从循环内跳出；\n",
    "- `pass` 是什么也不做，只是保持语句和代码结构的完整性；\n",
    "- `else` 通常和 `if` 和 `for` 结合使用，分别表示未满足 `if` 的条件和循环正常结束；\n",
    "- `continue` 是可以跳跃到下一次循环判断的开始；\n",
    "- 选择 B 选项。"
   ]
  },
  {
   "cell_type": "markdown",
   "metadata": {},
   "source": [
    "**练习 2 答案：D**\n",
    "\n",
    "- `else` 语句也可以结合 `for` 语句使用，选项 A 说法不正确；\n",
    "- `continue` 只是跳跃到下一次循环的开始，不会从循环内跳出，B 选项的说法不正确；\n",
    "- 虽然 `pass` 表示什么也不做，但是它起到保持语句和代码完整性的作用，例如，如果在 `else`: 里面什么也不做的情况下，要使用 `pass` 语句，否则会出现语法错误；\n",
    "- 选则 D 选项。"
   ]
  },
  {
   "cell_type": "markdown",
   "metadata": {},
   "source": [
    "**练习 3 答案：C**\n",
    "\n",
    "- 由于 `else` 语句下没有任何语句，应该使用 `pass` 进行占位，保持代码结构的完整性，题目代码中没有使用 `pass` 语句，会引起语法错误问题，选则 C 选项。"
   ]
  },
  {
   "cell_type": "markdown",
   "metadata": {},
   "source": [
    "**练习 4 答案：**\n",
    "\n",
    "```python\n",
    "i = 0\n",
    "sum = 0\n",
    "while i < 10:\n",
    "    i = i + 1\n",
    "    if i == 5:\n",
    "        continue\n",
    "    sum += i \n",
    "print(\"累加结果为：\", sum)\n",
    "\n",
    "# sum 的值 50\n",
    "```\n",
    "\n",
    ">**解析：**\n",
    ">- 在 `while` 循环中，设置变量 `i` 作为要进行加和数据的变量；\n",
    ">- 因为只有当循环到 `i` 为 `5` 的时候 i 不被累加，因此当 `i` 等于 `5` 的时，使用 `continue` 跳过此次循环，进入下一次循环的开始；\n",
    ">- 由于使用了 `continue` 语句，`i = i + 1` 语句须放到 `continue` 之前，才能保证每次循环 `i` 值都会加 `1`；\n",
    ">- 如果 `i = i + 1` 语句放到 `continue` 之后，那么当 `i` 累加到 `5` 的时候成就就会陷入死循环。"
   ]
  },
  {
   "cell_type": "markdown",
   "metadata": {},
   "source": [
    "**练习 5 答案：**\n",
    "\n",
    "```python\n",
    "num = 1\n",
    "even_count = 0\n",
    "while num < 11:\n",
    "    if num % 2 == 0:\n",
    "        even_count += 1\n",
    "    if even_count == 2:\n",
    "        print(num)\n",
    "        break\n",
    "    num = num + 1 \n",
    "\n",
    "# 打印出的值为 4\n",
    "```\n",
    "\n",
    ">**解析：**\n",
    "- 设置变量 `num` 为要遍历的数字，初始值为 `1`；\n",
    "- 设置变量 `even_count` 用于记录偶数出现的次数，初始值为 `0`；\n",
    "- 当 `num` 对整数 `2` 取余为 `0` 时，可以判断 `num` 为偶数，并执行 `even_count += 1`，表示总共发现的整数数量增加了一个；\n",
    "- 当 `even_counnt == 2` 时，说明当前发现的是第二个偶数，打印当前的偶数 `num`，并且使用 `break` 结束循环。"
   ]
  },
  {
   "cell_type": "markdown",
   "metadata": {
    "toc-hr-collapsed": true,
    "toc-nb-collapsed": true
   },
   "source": [
    "# 第八课 李逍遥 VS 拜月教主"
   ]
  },
  {
   "cell_type": "markdown",
   "metadata": {},
   "source": [
    "## 知识回顾"
   ]
  },
  {
   "cell_type": "markdown",
   "metadata": {},
   "source": [
    "<img src=\"material/chapter_8.png\">"
   ]
  },
  {
   "cell_type": "markdown",
   "metadata": {},
   "source": [
    "## 知识拓展"
   ]
  },
  {
   "cell_type": "markdown",
   "metadata": {},
   "source": [
    "### 知识拓展 01"
   ]
  },
  {
   "cell_type": "markdown",
   "metadata": {},
   "source": [
    "**例题 1：以下选项中，哪个选项是表示 `print()` 函数字符串输出占位符的？**\n",
    "\n",
    "- A．`%o`\n",
    "- B．`%s`\n",
    "- C．`%f`\n",
    "- D．`%x`"
   ]
  },
  {
   "cell_type": "markdown",
   "metadata": {},
   "source": [
    "**答案：B**"
   ]
  },
  {
   "cell_type": "markdown",
   "metadata": {},
   "source": [
    "**解析：**\n",
    "\n",
    "- `print()` 函数通过 `%` 运算符来完成输出字符串的格式化，采用类型的首字母进行占位，`%s` 对应 `string` 类型，其他的选项与字符串类型不相关，所以选择 B。"
   ]
  },
  {
   "cell_type": "markdown",
   "metadata": {},
   "source": [
    "**拓展：**\n",
    "\n",
    "- 格式化输出 `%` 的用法很灵活，在 Python 中，可以使用以下的形式进行占位输出：\n",
    " - `%o` -> oct 八进制\n",
    " - `%d` -> dec 十进制\n",
    " - `%x` -> hex 十六进制\n",
    " - `%f` -> float 浮点型\n",
    " - `%s` -> string 字符串\n",
    "- 通过占位输出就能够输出想要的数据类型和格式了。\n",
    "\n",
    "- `%s` 字符串的一些用法举例：\n",
    "\n",
    "```python\n",
    "string = \"hello\"  \n",
    "  \n",
    "# %s 打印时结果是 hello  \n",
    "print(\"string=%s\" % string)      # output: string=hello\n",
    "  \n",
    "# %2s 意思是字符串长度为 2，当原字符串的长度超过 2 时，按原长度打印，\n",
    "# 所以 %2s 的打印结果还是 hello  \n",
    "print(\"string=%2s\" % string)     # output: string=hello\n",
    "  \n",
    "# %7s 意思是字符串长度为7，当原字符串的长度小于 7 时，在原字符串左侧补空格，  \n",
    "# 所以 %7s 的打印结果是   \"  hello\"\n",
    "print(\"string=%7s\" % string)     # output: string=  hello  \n",
    "  \n",
    "# %-7s 意思是字符串长度为 7，当原字符串的长度小于 7 时，在原字符串右侧补空格，  \n",
    "# 所以 %-7s 的打印结果是 \"hello  \"\n",
    "print(\"string=%-7s!\" % string)   # output: string=hello  !  \n",
    "  \n",
    "# %.2s 意思是截取字符串的前 2 个字符，所以 %.2s 的打印结果是 he  \n",
    "print(\"string=%.2s\" % string)    # output: string=he\n",
    "  \n",
    "# %.7s 意思是截取字符串的前 7 个字符，当原字符串长度小于 7 时，即是字符串本身，  \n",
    "# 所以 %.7s 的打印结果是 \"hello\"  \n",
    "print(\"string=%.7s\" % string)    # output: string=hello\n",
    "  \n",
    "# %a.bs 这种格式是上面两种格式的综合，首先根据小数点后面的数 b 截取字符串，\n",
    "# 当截取的字符串长度小于 a 时，还需要在其左侧或右侧补空格，\n",
    "# a > 0 时在左侧不空格，a < 0 时在右侧不空格\n",
    "print(\"string=%7.2s\" % string)   # output: string=     he  \n",
    "print(\"string=%2.7s\" % string)   # output: string=hello\n",
    "print(\"string=%10.7s\" % string)  # output: string=     hello  \n",
    "  \n",
    "# 还可以用 %*.*s 来表示精度，两个 * 的值分别在后面小括号的前两位数值指定  \n",
    "print(\"string=%*.*s\" % (7, 2, string))  # output: string=     he\n",
    "```\n",
    "\n",
    "- `%d` 整型的一些用法举例\n",
    "\n",
    "```python\n",
    "num=14  \n",
    "\n",
    "# %d 打印时结果是 14  \n",
    "print(\"num=%d\" % num)            # output: num=14  \n",
    "  \n",
    "# %1d 意思是打印结果为 1 位整数，当整数的位数超过 1 位时，按整数原值打印，所以 %1d 的打印结果还是 14  \n",
    "print(\"num=%1d\" % num)           # output: num=14  \n",
    "  \n",
    "# %3d 意思是打印结果为 3 位整数，当整数的位数不够 3 位时，在整数左侧补空格，所以 %3d 的打印结果是 14  \n",
    "print(\"num=%3d\" % num)           # output: num= 14  \n",
    "  \n",
    "# %-3d 意思是打印结果为 3 位整数，当整数的位数不够 3 位时，在整数右侧补空格，所以 %-3d 的打印结果是 14_  \n",
    "print(\"num=%-3d\" % num)          # output: num=14_  \n",
    "  \n",
    "# %05d 意思是打印结果为 5 位整数，当整数的位数不够 5 位时，在整数左侧补 0，所以 %05d 的打印结果是 00014  \n",
    "print(\"num=%05d\" % num)          # output: num=00014  \n",
    "  \n",
    "# %.3d 小数点后面的 3 意思是打印结果为 3 位整数，  \n",
    "# 当整数的位数不够 3 位时，在整数左侧补 0，所以 %.3d 的打印结果是014  \n",
    "print(\"num=%.3d\" % num)          # output: num=014  \n",
    "  \n",
    "# %.0003d 小数点后面的 0003 和 3 一样，都表示 3，意思是打印结果为 3 位整数，  \n",
    "# 当整数的位数不够 3 位时，在整数左侧补 0，所以 %.0003d 的打印结果还是 014  \n",
    "print(\"num=%.0003d\" % num)       # output: num=014  \n",
    "  \n",
    "# %5.3d 是两种补齐方式的综合，当整数的位数不够 3 时，先在左侧补 0，还是不够 5 位时，再在左侧补空格，  \n",
    "# 规则就是补 0 优先，最终的长度选数值较大的那个，所以 %5.3d 的打印结果是 __014  \n",
    "print(\"num=%5.3d\" % num)         # output: num=  014  \n",
    "  \n",
    "# %05.3d 是两种补齐方式的综合，当整数的位数不够 3 时，先在左侧补 0，还是不够 5 位时，  \n",
    "# 由于是 05，再在左侧补 0，最终的长度选数值较大的那个，所以 %05.3d 的打印结果是 00014  \n",
    "print(\"num=%05.3d\" % num)        # output: num=00014  \n",
    "  \n",
    "# 还可以用 %*.*d 来表示精度，两个 * 的值分别在后面小括号的前两位数值指定， \n",
    "# 如下，不过这种方式 04 就失去补 0 的功能，只能补空格，只有小数点后面的 3 才能补 0  \n",
    "print(\"num=%*.*d\" % (4, 3, num)) # output: num= 014\n",
    "```\n",
    "\n",
    "- `%f` 浮点型的一些用法举例\n",
    "\n",
    "```python\n",
    "import math  \n",
    "  \n",
    "# %a.bf，a 表示浮点数的打印长度，b 表示浮点数小数点后面的精度  \n",
    "  \n",
    "# 只是 %f 时表示原值，默认是小数点后 6 位数  \n",
    "print(\"PI=%f\" % math.pi)             # output: PI=3.141593  \n",
    "  \n",
    "# 只是 %9f 时，表示打印长度 9 位数，小数点也占一位，不够左侧补空格  \n",
    "print(\"PI=%9f\" % math.pi)            # output: PI=_3.141593  \n",
    "  \n",
    "# 只有 . 没有后面的数字时，表示去掉小数输出整数，03 表示不够 3 位数左侧补 0  \n",
    "print(\"PI=%03.f\" % math.pi)          # output: PI=003  \n",
    "  \n",
    "# %6.3f 表示小数点后面精确到 3 位，总长度为 6 位，包括小数点，不够左侧补空格  \n",
    "print(\"PI=%6.3f\" % math.pi)          # output: PI=_3.142  \n",
    "  \n",
    "# %-6.3f 表示小数点后面精确到 3 位，总长度 6 位数，包括小数点，不够右侧补空格  \n",
    "print(\"PI=%-6.3f\" % math.pi)         # output: PI=3.142_  \n",
    "  \n",
    "# 还可以用 %*.*f 来表示精度，两个 * 的值分别在后面小括号的前两位数值指定， \n",
    "# 如下，不过这种方式 6 就失去补 0 的功能，只能补空格 \n",
    "print(\"PI=%*.*f\" % (6,3,math.pi))   # output: PI=_3.142 \n",
    "```"
   ]
  },
  {
   "cell_type": "markdown",
   "metadata": {},
   "source": [
    "### 知识拓展 02\n",
    "\n",
    "**例题 2：在 Python 中，下列哪个语句能输出 \"123，开课吧加油\"？**\n",
    "\n",
    "- A．`print('123' + '，开课吧加油')`\n",
    "- B．`print(\"123\" + \"，开课吧加油\")`\n",
    "- C．`print(123 + '，开课吧加油')`\n",
    "- D．`print(str(123) + '，开课吧加油')`"
   ]
  },
  {
   "cell_type": "markdown",
   "metadata": {},
   "source": [
    "**答案：A、B、D**"
   ]
  },
  {
   "cell_type": "markdown",
   "metadata": {},
   "source": [
    "**解析：**\n",
    "\n",
    "- A 选项通过字符串相加将两个字符串拼接在一起；\n",
    "- B 选项在没有转译字符出现的时候与单引号功能一致，都是字符串输出的形式；\n",
    "- D 选项是通过 `str()` 函数将 `123` 转换成字符串，然后再拼接字符串，可以实现题目功能；\n",
    "- 而 C 选项是整型和字符串的相加，数据类型不匹配，程序执行中会出现异常，不能实现题目功能。"
   ]
  },
  {
   "cell_type": "markdown",
   "metadata": {},
   "source": [
    "**拓展：**\n",
    "\n",
    "- 可以使用 `format()` 函数来进行输出的格式化，更加灵活的按找格式输出字符串；\n",
    "- `format()` 函数的强大功能，把字符串当成一个模板，通过传入的参数来进行格式化输出；\n",
    "- 使用 `{}` 来定义字符串模版中需要被替换的部分；\n",
    "- 格式输出：\n",
    " - 'b' - 二进制，将数字以 2 为基数进行输出\n",
    " - 'c' - 字符，在打印之前将整数转换成对应的 Unicode 字符\n",
    " - 'd' - 十进制整数，将数字以 10 为基数进行输出\n",
    " - 'o' - 八进制，将数字以 8 为基数进行输出\n",
    " - 'x' - 十六进制，将数字以 16 为基数进行输出，9 以上的位数用小写字母\n",
    " - 'e' - 幂符号，用科学计数法打印数字\n",
    " - 'g' - 一般格式，将数值以定点小数（fixed-point）格式输出，当数值特别大的时候，会切换为幂形式输出\n",
    " - 'f' - 以浮点数的形式输出，不会因为数值特别大切换为幂形式输出\n",
    " - 'n' - 数字，当值为整数时和 'd' 相同，值为浮点数时和 'g' 相同，不同的是，它会根据当前操作系统区域设置来调整输出，根据不同地理区域的习惯插入数字分隔符\n",
    " - '%' - 百分数，将数值乘以 100 然后以 'f' 格式进行输出，后面会有一个百分号\n",
    "- 示例代码：\n",
    "\n",
    "```python\n",
    "# :b 将 123 转换为二进制数形式输出\n",
    "print('{:b}，开课吧加油'.format(123))\n",
    "\n",
    "# :c 将 123 转换为对应的 Unicode 字符 - '{'\n",
    "print('{:c}，开课吧加油'.format(123))\n",
    "\n",
    "# :d 将 123 转换为十进制整数形式输出\n",
    "print('{:d}，开课吧加油'.format(123))\n",
    "\n",
    "# :o 将 123 转换为八进制整数形式输出\n",
    "print('{:o}，开课吧加油'.format(123))\n",
    "\n",
    "# :x 将 123 转换为十六进制整数形式输出\n",
    "print('{:x}，开课吧加油'.format(123))\n",
    "\n",
    "# :e 将 123 转换为科学技术法的形式输出\n",
    "print('{:e}，开课吧加油'.format(123))\n",
    "\n",
    "# :g 将 123.4 转换为小数形式输出\n",
    "print('{:g}，开课吧加油'.format(123.4))\n",
    "\n",
    "# :f 将 123 转换为浮点数形式输出\n",
    "print('{:f}，开课吧加油'.format(123.4))\n",
    "\n",
    "# :n 将 134 根据操作系统的区域设置输出\n",
    "print('{:n}，开课吧加油'.format(123))\n",
    "\n",
    "# :% 将 123 转换为百分数形式输出\n",
    "print('{:%}，开课吧加油'.format(123))\n",
    "```"
   ]
  },
  {
   "cell_type": "markdown",
   "metadata": {},
   "source": [
    "### 知识拓展 03"
   ]
  },
  {
   "cell_type": "markdown",
   "metadata": {},
   "source": [
    "**例题 3: 从 1 到 100 的整数中随机生成的 5 个数，并按照如下形式进行展示：** \n",
    "\n",
    "```\n",
    "96 59 47 82 90\n",
    "```"
   ]
  },
  {
   "cell_type": "markdown",
   "metadata": {},
   "source": [
    "**答案：**\n",
    "\n",
    "```python\n",
    "# 导入随机函数模块\n",
    "import random\n",
    "\n",
    "# 生成 1~5 的列表\n",
    "nums = range(1,6)\n",
    "\n",
    "# 接收随机值的字符串\n",
    "random_nums_str = ''\n",
    "\n",
    "# 循环遍历列表\n",
    "for i in nums:\n",
    "    # 产生随机值\n",
    "    rand = random.randint(1, 100)\n",
    "    # 拼接字符串\n",
    "    random_nums_str += ' ' + str(rand)\n",
    "print(random_nums_str)\n",
    "```"
   ]
  },
  {
   "cell_type": "markdown",
   "metadata": {},
   "source": [
    "**解析：**\n",
    "\n",
    "- 完成这道编程题目，需要使用 `random` 和 `range`，使用循环生成多个随机数，并将所有的随机数拼接为字符串；\n",
    "- 其中 `random_nums_str += ' ' + str(rand)` 语句不太像 Python 优雅的风格，像是 Java 程序员写出来的代码，不过还是可以训练我们的计算思维，体会所有的事情都可以通过计算来完成的感觉。"
   ]
  },
  {
   "cell_type": "markdown",
   "metadata": {},
   "source": [
    "**拓展：**\n",
    "\n",
    "- 既然说答案里的代码不够优雅，我们可以换个写法，如下：\n",
    "\n",
    "```python\n",
    "random_nums_list = []\n",
    "for i in range(1, 6):\n",
    "    random_nums_list.append(str(random.randint(1, 101)))\n",
    "print(' '.join(random_nums_list))\n",
    "```\n",
    "- 我们再把上面这段代码翻译成人话，就是...\n",
    " - 第一句代码：现在 `random_nums_list` 还是一个空盒子，\n",
    " - 第二句代码：让名字叫 `i` 的小朋友把冒号后面的事情做 5 遍（有没有领导冒号的感觉），\n",
    " - 第三句代码：从 100 个数字里面随便挑一个放到编号为 random_nums_list 的盒子里，\n",
    " - 第四句代码：以一个空格 ' ' 为间隔向左看齐（有没有小时候体育老师喊话的感觉）。\n",
    "- 体会到 Python 语言的优雅了吗？^^"
   ]
  },
  {
   "cell_type": "markdown",
   "metadata": {},
   "source": [
    "## 知识练习"
   ]
  },
  {
   "cell_type": "markdown",
   "metadata": {},
   "source": [
    "**练习 1：以下哪个选项是生成随机整数的函数_____？**\n",
    "\n",
    "- A．range\n",
    "- B．random \n",
    "- C．randint"
   ]
  },
  {
   "cell_type": "markdown",
   "metadata": {},
   "source": [
    "**练习 2：Python 中关于 `time` 的 `sleep()` 函数说明正确的是_____？**\n",
    "\n",
    "- A．`sleep()` 函数默认间隔的是分钟数\n",
    "- B．`sleep()` 函数默认间隔的是秒数\n",
    "- C．`sleep()` 函数默认间隔的是小时数"
   ]
  },
  {
   "cell_type": "markdown",
   "metadata": {},
   "source": [
    "**练习 3：完成_____处代码，使得输出相应结果是 10 到 20 之间的随机数？**\n",
    "\n",
    "```python\n",
    "import random\n",
    "num = random.randint(10, _____)\n",
    "print(num)\n",
    "```"
   ]
  },
  {
   "cell_type": "markdown",
   "metadata": {},
   "source": [
    "**练习 4：编写 Python 程序，完成以下功能：**\n",
    "\n",
    "- 用户输入年份和月份，年份不能小于 1900 年；\n",
    "- 按照如下格式输出日历。\n",
    "\n",
    " <img align=\"left\" width=\"400\" src=\"material/chapter_8_exercise_1.png\">"
   ]
  },
  {
   "cell_type": "markdown",
   "metadata": {},
   "source": [
    "**练习 5：编写 Python 程序，实现人机大战猜拳游戏，游戏功能如下：**\n",
    "\n",
    "- 玩家输入自己要出「石头」、「剪刀」还是「布」；\n",
    "- 机器随机选择「石头」、「剪刀」还是「布」；\n",
    "- 然后判断玩家与机器的输赢，并输出结果，结果中需要包含玩家和机器赢的次数；\n",
    "- 询问玩家是否继续游戏，游戏一直运行，直到玩家选择不继续；\n",
    "- 界面效果如下：\n",
    "\n",
    "```\n",
    "--------------------人机大战—猜拳游戏---------------------\n",
    "【第 001 局】\n",
    "  1 - 代表石头\n",
    "  2 - 代表剪刀\n",
    "  3 - 代表布\n",
    "  请出拳吧 (1 - 3)，输入其他数字将退出游戏: 1\n",
    "  ;-/ 平局 # 机器赢了 0 局，你赢了 0 局， 1 局平了\n",
    "-------------------------------------------------------\n",
    "【第 002 局】\n",
    "  1 - 代表石头\n",
    "  2 - 代表剪刀\n",
    "  3 - 代表布\n",
    "  请出拳吧 (1 - 3)，输入其他数字将退出游戏: 1\n",
    "  :-) 你赢了 # 机器赢了 1 局，你赢了 0 局， 1 局平了\n",
    "-------------------------------------------------------\n",
    "【第 003 局】\n",
    "  1 - 代表石头\n",
    "  2 - 代表剪刀\n",
    "  3 - 代表布\n",
    "  请出拳吧 (1 - 3)，输入其他数字将退出游戏: 1\n",
    "  ;-( 机器赢了 # 机器赢了 1 局，你赢了 1 局， 1 局平了\n",
    "-------------------------------------------------------\n",
    "【第 004 局】\n",
    "  1 - 代表石头\n",
    "  2 - 代表剪刀\n",
    "  3 - 代表布\n",
    "  请出拳吧 (1 - 3)，输入其他数字将退出游戏:_________________\n",
    "```"
   ]
  },
  {
   "cell_type": "markdown",
   "metadata": {},
   "source": [
    "## 答案解析"
   ]
  },
  {
   "cell_type": "markdown",
   "metadata": {},
   "source": [
    "**练习 1 答案：C**\n",
    "\n",
    "- `range()` 表示生成指定范围的数值列表；\n",
    "- `random()` 生成 0 到 1 之间的随机浮点数；\n",
    "- 所以 C 选项正确。"
   ]
  },
  {
   "cell_type": "markdown",
   "metadata": {},
   "source": [
    "**练习 2 答案：B**\n",
    "\n",
    "- `sleep()` 函数是 `time` 模块中推迟线程运行的函数，默认时间间隔是秒数，所以选则 B。"
   ]
  },
  {
   "cell_type": "markdown",
   "metadata": {},
   "source": [
    "**练习 3 答案：20**\n",
    "\n",
    "- `random.randint()` 用于生成指定范围的一个整数，包括边界值；\n",
    "- 空格处应为范围 10 到 20 的上边界，即 20。\n",
    "- 整体代码如下：\n",
    "\n",
    "```python\n",
    "import random\n",
    "num = random.randint(10, 20)\n",
    "print(num)\n",
    "```"
   ]
  },
  {
   "cell_type": "markdown",
   "metadata": {},
   "source": [
    "**练习 4 答案：**\n",
    "\n",
    "- 第一种答案：\n",
    "\n",
    "```python\n",
    "year = int(input('请输入年份：\\t'))     # 输入年份\n",
    "month = int(input('请输入月份：\\t'))   # 输入月份\n",
    "\n",
    "day = 0     # 每个月的天数\n",
    "total = 0   # 总天数\n",
    "space = 0   # 空格数\n",
    "\n",
    "# 判断输入的年份是否是闰年\n",
    "isRun = year % 4 == 0 and year % 100 != 0 or year % 400 == 0\n",
    "\n",
    "# 计算 1900 到 输入年份之前的所有天数\n",
    "for y in range(1900, year):\n",
    "    if y % 4 == 0 and y % 100 != 0 or y % 400 == 0:\n",
    "        total += 366\n",
    "    else:\n",
    "        total += 365\n",
    "\n",
    "# 计算输入月份之前到 1 月 1 日之间的所有天数\n",
    "for m in range(1, month + 1):\n",
    "    if m == 1 or m == 3 or m == 5 or m == 7 or m == 8 or m == 10 or m == 12:\n",
    "        day = 31\n",
    "    elif m == 2:\n",
    "        if isRun == True:\n",
    "            day = 29\n",
    "        else:\n",
    "            day = 28\n",
    "    else:\n",
    "        day = 30\n",
    "    if m < month:\n",
    "        total += day\n",
    "\n",
    "# 计算输入月份第一天的空格数，及获取是星期几\n",
    "space = total % 7 + 1\n",
    "\n",
    "if space == 7:\n",
    "    space = 0\n",
    "print('日\\t一\\t二\\t三\\t四\\t五\\t六')\n",
    "\n",
    "for s in range(0, space):\n",
    "    print('\\t', end='')\n",
    "\n",
    "for d in range(1, day + 1):\n",
    "    print('{}\\t'.format(d), end='')\n",
    "    \n",
    "    # 判断是否是周六  换行\n",
    "    if(total + d) % 7 == 6:\n",
    "        print('')\n",
    "```\n",
    "\n",
    ">**解析：**\n",
    ">- 完成这个日历程序需要有一些小知识，1900 年 1 月 1 日是星期一，这是给出答案能够正确运行的前提条件；\n",
    ">- 需要掌握平年和闰年的计算方式；\n",
    ">- 判断某一天是星期几：\n",
    "    - 首先，需要计算从 1900 年 1 月 1 日开始到某天的天数累计；\n",
    "    - 通过累计天数对 7 取余数判断是星期几，用于按照日历格式进行输出。\n",
    ">- 难点是需要按照日历的格式到周六就能够自动换行显示，可以使用 (总天数 % 7 == 6) 进行判断何时换行。\n",
    "\n",
    "- 第二种答案：\n",
    "\n",
    "```python\n",
    "input_year = int(input('请输入年份：\\t'))     # 输入年份\n",
    "input_month = int(input('请输入月份：\\t'))    # 输入月份\n",
    "\n",
    "if input_year < 1900:\n",
    "    print(\"请您输入 1900 年以后的年份。\")\n",
    "else:\n",
    "    # 判断用户输入的年份是否是闰年\n",
    "    is_leap_year = (input_year % 4 == 0 and input_year % 100 != 0) or (input_year % 400 == 0)\n",
    "\n",
    "    # 存储 1～12 月的天数，列表中每个元组存储的是 (非闰年天数, 闰年天数)，\n",
    "    # 除了 2 月份，其他月份的天数与是否是闰年无关，那为什么还要这么存储数据呢？\n",
    "    # 阅读后面的代码你就能体会到，数据适当的冗余，可以简化代码，提高代码的可维护性\n",
    "    days_in_months = [(31, 31), (28, 29), (31, 31), (30, 30), (31, 31), (30, 30),   # 1～6 月\n",
    "                      (31, 31), (31, 31), (30, 30), (31, 31), (30, 30), (31, 31)]   # 7～12 月\n",
    "\n",
    "    # day_in_week 存储周的数据，以字典形式存储，键用于定义如何显示星期中的日期，\n",
    "    # 值用于方便定位某一天在一周当中的排列位置，方便在输出日历的过程中简化代码的书写；\n",
    "    # 这样存储可以让我们灵活调整周日、周六的排布位置，\n",
    "    # 大多数日历是 日、一、二、三、四、五、六，但有的日历是 一、二、三、四、五、六、日，\n",
    "    day_in_week = {'日': 0, '一': 1, '二': 2, '三': 3, '四': 4, '五': 5, '六': 6}\n",
    "\n",
    "    # 我提供几种 day_in_week 的定义，你可以试着换一下，体会以下程序的乐趣：\n",
    "    # 1）day_in_week = {'日': 0, '一': 1, '二': 2, '三': 3, '四': 4, '五': 5, '六': 6}\n",
    "    # 2）day_in_week = {'星期天': 0, '星期一': 1, '星期二': 2, '星期三': 3, '星期四': 4, '星期五': 5, '星期六': 6}\n",
    "    # 3）day_in_week = {'星期一': 1, '星期二': 2, '星期三': 3, '星期四': 4, '星期五': 5, '星期六': 6, '星期天': 0}\n",
    "\n",
    "    # 我们需要计算一下用户选择的 y 年 m 月的第一天是星期几，思路是如下这样的：\n",
    "    # 1）计算从 1900 年 1 月 1 日开始，到用户输入的年月一共有多少天：days_from_1900_1_1\n",
    "    # 2）我们还知道 1900 年 1 月 1 日是星期一\n",
    "    # 3）那么我们用 (days_from_1900_1_1 + 1) % 7 就可以计算 y 年 m 月 1 日是星期几了\n",
    "    # 4）我们把用户输入的年月的第一天是星期几存储在：day_of_input_year_month\n",
    "    days_from_1900_1_1 = 0\n",
    "    for y in range(1900, input_year):\n",
    "        if (y % 4 == 0 and y % 100 != 0) or (y % 400 == 0):\n",
    "            days_from_1900_1_1 += 366\n",
    "        else:\n",
    "            days_from_1900_1_1 += 365\n",
    "    for m in range(1, input_month):\n",
    "        days_from_1900_1_1 += days_in_months[m - 1][int(is_leap_year)]\n",
    "    day_of_input_year_month = (days_from_1900_1_1 + 1) % 7\n",
    "    \n",
    "    # 获取周中每一天的显示方式\n",
    "    calendar_header = list(day_in_week.keys())\n",
    "    \n",
    "    # 初始化一个日历，一个月最大的周跨度是 6 周，例如 2020 年 8 月的跨度就是 6 周\n",
    "    calendar_body = [0, 0, 0, 0, 0, 0, 0,     # 第一周\n",
    "                     0, 0, 0, 0, 0, 0, 0,     # 第二周\n",
    "                     0, 0, 0, 0, 0, 0, 0,     # 第三周 \n",
    "                     0, 0, 0, 0, 0, 0, 0,     # 第四周 \n",
    "                     0, 0, 0, 0, 0, 0, 0,     # 第五周\n",
    "                     0, 0, 0, 0, 0, 0, 0]     # 第六周\n",
    "    \n",
    "    # 找到用户输入年月的第一天在日历中的位置（就是 calendar_body 的下标）\n",
    "    first_day_position = list(day_in_week.values()).index(day_of_input_year_month)\n",
    "    \n",
    "    # 从第一天开始，把日期写入 calendar_body\n",
    "    for d in range(0, days_in_months[input_month - 1][int(is_leap_year)]):\n",
    "        calendar_body[first_day_position + d] = d + 1\n",
    "        \n",
    "    # 如果用户选择的是 2020 年 2 月，那么当代码执行到这里的时候，calendar_body 应该\n",
    "    # 会长成这个样子了，print(calendar_body) 你会看到：\n",
    "    #     [ 0,  0,  0,  0,  0,  0,  1,     # 第一周\n",
    "    #       2,  3,  4,  5,  6,  7,  8,     # 第二周\n",
    "    #       9, 10, 11, 12, 13, 14, 15,     # 第三周 \n",
    "    #      16, 17, 18, 19, 20, 21, 22,     # 第四周 \n",
    "    #      23, 24, 25, 26, 27, 28, 29,     # 第五周\n",
    "    #       0,  0,  0,  0,  0,  0,  0]     # 第六周\n",
    "\n",
    "    # 好啦，下面我们就只剩下把日历打印或输出出来了...这里不多解释了...\n",
    "    for d in calendar_header:\n",
    "        print(f'{d:<4s}', end='\\t')    # f'{d:<6s}' 等同于 {:<6s}.format(d) 等同于 '%6s' % (d)\n",
    "\n",
    "    for i, d in enumerate(calendar_body):\n",
    "        if i % 7 == 0:\n",
    "            print('')\n",
    "        if d == 0: \n",
    "            print(f'{\"\":<4s}', end='\\t')\n",
    "        else:\n",
    "            print(f'{d:<4d}', end='\\t')\n",
    "```\n",
    "\n",
    ">**拓展：**\n",
    ">- 这个题目，我还想提供第二种实现方法，第二种实现方法体现了更多的数据思维；\n",
    ">- 希望你通过阅读源代码和注释的方式来学习。"
   ]
  },
  {
   "cell_type": "markdown",
   "metadata": {},
   "source": [
    "**练习 5 答案：**\n",
    "\n",
    "- 第一种答案：\n",
    "\n",
    "```python\n",
    "# import random     # 导入随机模块\n",
    "player = 0        # 玩家赢的次数\n",
    "machine = 0       # 机器赢的次数\n",
    "draw = 0          # 平局的次数\n",
    "index = 0         # 记录局数\n",
    "\n",
    "print(\"人机大战—猜拳游戏\".center(50, '-'))    # 文字居中显示\n",
    "\n",
    "while True:\n",
    "    index += 1\n",
    "    print('【第 %03d 局】' % (index))\n",
    "    rand = random.randint(1, 3)             # 随机生成机器的出拳\n",
    "    print('  1 - 代表石头\\n'\n",
    "          '  2 - 代表剪刀\\n'\n",
    "          '  3 - 代表布')\n",
    "    hit = int(input(\"  \"\n",
    "                    \"请出拳吧 (1 - 3)，\"\n",
    "                    \"输入其他数字将退出游戏:\"))    # 玩家出拳\n",
    "\n",
    "    if hit > 3 or hit < 1:                  # 判断输入数字是否合理\n",
    "        print('游戏结束！')\n",
    "        break\n",
    "    elif rand == 1 and hit == 2:            # 机器石头，玩家剪刀\n",
    "        print('  ;-( 机器赢了', end=' # ')\n",
    "        machine = machine + 1\n",
    "    elif rand == 1 and hit == 3:            # 机器石头，玩家布\n",
    "        print('  :-) 你赢了', end=' # ')\n",
    "        player = player + 1\n",
    "    elif rand == 2 and hit == 1:            # 机器剪刀，玩家石头\n",
    "        print('  :-) 你赢了', end=' # ')\n",
    "        player = player + 1\n",
    "    elif rand == 2 and hit == 3:            # 机器剪刀，玩家布\n",
    "        print('  ;-( 机器赢了', end=' # ')\n",
    "        machine = machine + 1\n",
    "    elif rand == 3 and hit == 1:            # 机器布，玩家石头\n",
    "        print('  ;-( 机器赢了', end=' # ')\n",
    "        machine = machine + 1\n",
    "    elif rand == 3 and hit == 2:            # 机器布，玩家剪刀\n",
    "        print('  :-) 你赢了', end=' # ')\n",
    "        player = player + 1\n",
    "    else:                                   # 机器 和 玩家一样\n",
    "        print('  ;-/ 平局', end=' # ')\n",
    "        draw = draw + 1\n",
    "\n",
    "    print('机器赢了{0:^3d}局，你赢了{1:^3d}局，{2:^3d}局平了'.format(machine, player, draw))\n",
    "    print('-' * 55)                         # 打印分割线\n",
    "```\n",
    "\n",
    ">**解析：**\n",
    ">- 人机大战猜拳游戏，首先要理解游戏规则，剪刀石头布通过规则进行输赢的判断；\n",
    ">- 玩家赢的条件：玩家出石头，机器出剪刀 or 玩家出剪刀，机器出布 or 玩家出布，机器出石头；\n",
    ">- 玩家输的条件：玩家出石头，机器出布 or 玩家出剪刀，机器出石头 or 玩家出布，机器出剪刀；\n",
    ">- 其他的情况就是平局；\n",
    ">- 为记录局数和输赢情况：\n",
    "    - 增加了玩家 player 变量记录玩家赢的次数；\n",
    "    - 增加了机器 machine  变量记录机器赢的次数；\n",
    "    - 增加了平局 draw 变量记录平局的次数。\n",
    "\n",
    "- 第二种答案：\n",
    "\n",
    ">Python 是一门为数据而生的语言，我们用数据思维来编写程序的话，会比第一种答案来的更加有逻辑性、灵活性，代码也更简洁。\n",
    ">- 在第一个答案里，我们不难看出，代码最多的地方就是做判断输赢，做输赢的判断部分，if ... elif ... else ... 就有 8 个分支，如果眼力^^不够的话，很容易出错；\n",
    ">- 代码很难维护，「业务逻辑」的代码和「显示输出」的代码混在一起，行数一多就更难找了，赢了 对应 :-)、输了 对应 ;-(、平局 对应 ;-/，确保完全准确是很耗时、耗力的有没有...\n",
    ">数据思维的解决方案能解决这些问题：\n",
    ">- 我们把数据、操作数据的代码、显示数据的代码分开；\n",
    ">- 巧妙的构建数据结构，来简化输赢的判断逻辑，如下图：\n",
    ">\n",
    ">  <img style=\"zoom: 0.4\" src=\"material/chapter_8_exercise_2.png\">\n",
    "> \n",
    ">   看到这张图你可能就恍然大悟了：\n",
    ">   - 矩阵中 0 代表 输，1 代表 赢，2 代表 平；\n",
    ">   - 想象一下，当玩家出「石头」，机器出「剪刀」的时候，我们只需要找到矩阵中的第 2 行、第 1 列的值就可以了，计算机很会干这件事情 - 在一个矩阵里面寻找数据。\n",
    ">\n",
    ">\n",
    ">- 阅读一下代码，体会一下数据思维吧。\n",
    "\n",
    "```python\n",
    "import random     # 导入随机模块\n",
    "\n",
    "#################### 定义数据 ####################\n",
    "game_decision_matrix = [2, 0, 1,\n",
    "                        1, 2, 0,\n",
    "                        0, 1, 2]\n",
    "game_options = ['石头', '剪刀', '布']\n",
    "game_result = [[' # ;-( 机器赢了 # ', 0], \n",
    "               [' # :-) 你赢了 # ', 0], \n",
    "               [' # ;-/ 平局 # ', 0]]\n",
    "game_index = 0\n",
    "\n",
    "print(\"人机大战—猜拳游戏\".center(50, '-'))           # 文字居中显示\n",
    "\n",
    "#################### 操作数据 ####################\n",
    "while True:\n",
    "    game_index += 1\n",
    "    print('【第 %03d 局】' % (game_index))\n",
    "    for i, e in enumerate(game_options):\n",
    "        print('  {0} - 代表{1}'.format(i + 1, e))\n",
    "    player_hit = int(input(\"  \"                   # 玩家出拳\n",
    "                           \"请出拳吧 (1 - 3)，\"\n",
    "                           \"输入其他数字将退出游戏:\")) \n",
    "    if player_hit > 3 or player_hit < 1:\n",
    "        break\n",
    "        \n",
    "    robot_hit = random.randint(1, 3)              # 随机生成机器人的出拳\n",
    "    this_match_result = game_decision_matrix[     # 在决策矩阵中找 robot_hit 行，player_hit 列\n",
    "        (robot_hit - 1) * 3 + (player_hit - 1)\n",
    "    ]\n",
    "    game_result[this_match_result][1] += 1        # 记录游戏输、赢、平的计数\n",
    "    \n",
    "#################### 显示数据 ####################\n",
    "    print(\n",
    "        ' ',\n",
    "        game_options[player_hit-1], ' V.S. ', game_options[robot_hit-1],\n",
    "        game_result[this_match_result][0]\n",
    "    )\n",
    "    print(\n",
    "        ' ',\n",
    "        '机器赢了{0[1]:^3d}局，你赢了{1[1]:^3d}局，{2[1]:^3d}局平了'.format(\n",
    "            game_result[0], game_result[1], game_result[2]\n",
    "        )\n",
    "    )\n",
    "```"
   ]
  },
  {
   "cell_type": "markdown",
   "metadata": {
    "toc-hr-collapsed": true,
    "toc-nb-collapsed": true
   },
   "source": [
    "# 第九课 打通任督二脉"
   ]
  },
  {
   "cell_type": "markdown",
   "metadata": {},
   "source": [
    "## 知识回顾"
   ]
  },
  {
   "cell_type": "markdown",
   "metadata": {},
   "source": [
    "<img src=\"material/chapter_9.png\">"
   ]
  },
  {
   "cell_type": "markdown",
   "metadata": {},
   "source": [
    "## 知识拓展"
   ]
  },
  {
   "cell_type": "markdown",
   "metadata": {},
   "source": [
    "### 知识拓展 01"
   ]
  },
  {
   "cell_type": "markdown",
   "metadata": {},
   "source": [
    "**例题 1：以下选项中，哪个选项能够输出 \"www.kaikeba.com\" ？**\n",
    "\n",
    "- A．`print(\"www\", \"kaikeba\", \"com\")`\n",
    "- B．`print(\"www\", \"kaikeba\", \"com\", sep=\".\")`\n",
    "- C．`print(\"www\", \"kaikeba\", \"com\", end=\".\")`\n",
    "- D．`print(\"www\", \"kaikeba\", \"com\", flush=\".\")`"
   ]
  },
  {
   "cell_type": "markdown",
   "metadata": {},
   "source": [
    "**答案：B**"
   ]
  },
  {
   "cell_type": "markdown",
   "metadata": {},
   "source": [
    "**解析：**\n",
    "\n",
    "- A 选项 `print(\"www\", \"kaikeba\", \"com\")`, 打印出来结果是 `www kaikeba com`，没有 `.` 符号；\n",
    "- C 选项 `print(\"www\", \"kaikeba\", \"com\", end=\".\")`，打印出来结果是 `www kaikeba com.`，在最后只有一个 `.` 符号；\n",
    "- D 选项 `print(\"www\", \"kaikeba\", \"com\", flush=\".\")`，打印出来结果是 `www kaikeba com`, 没有 `.` 符号；\n",
    "- B 选项 `print(\"www\", \"kaikeba\", \"com\", sep=\".\")`，`sep=\".\"` 作为间隔符号，会在 `\"www\"`、`\"kaikeba\"`、`\"com\"` 之间加上 `.` 符号，打印出来结果是 `\"www.kaikeba.com\"` 。"
   ]
  },
  {
   "cell_type": "markdown",
   "metadata": {},
   "source": [
    "**拓展：**\n",
    "\n",
    "- Python 语言中，`print()` 函数可以支持很多参数，具体格式如下：\n",
    "\n",
    "    **print(*objects, sep=' ', end='\\n' )**\n",
    "\n",
    "    - `objects` - 对象，表示可以一次打印多个对象，输出多个对象时，需要用 `,` 分隔\n",
    "    - `sep` – 间隔符，用来间隔多个对象，默认是空格\n",
    "    - `end` – 结束符，用来设定以什么结尾，默认值是换行符 `\\n`，可以换成其他字符串\n"
   ]
  },
  {
   "cell_type": "markdown",
   "metadata": {},
   "source": [
    "### 知识拓展 02"
   ]
  },
  {
   "cell_type": "markdown",
   "metadata": {},
   "source": [
    "**例题 2：如何将列表 `list_a = ['Audi', 'BMW', 'Benz']` 中所有元素的字符都变成大写_____？**\n",
    "\n",
    "- A．`list_a.lower()`\n",
    "- B．`list_a.upper()`\n",
    "- C．`list_a = [s.upper() for s in list_a]`\n",
    "- D．`list_a = [s.lower() for s in list_a]`"
   ]
  },
  {
   "cell_type": "markdown",
   "metadata": {},
   "source": [
    "**答案：C**"
   ]
  },
  {
   "cell_type": "markdown",
   "metadata": {},
   "source": [
    "**解析：**\n",
    "\n",
    "- 这个练习中，需要将 `list_a` 中的每个元素的字符都变成大写；\n",
    "- 英文字符变大写，需要使用 `upper()` 方法，而 `lower()` 方法是将英文字符变为小写，排除 A 与 D；\n",
    "- 我们需要对列表中的每一个元素进行操作，使用列表生成式进行生成，选项 C 正确。 "
   ]
  },
  {
   "cell_type": "markdown",
   "metadata": {},
   "source": [
    "**拓展：**\n",
    "\n",
    "- 列表生成式（List Comprehensions），是 Python 内置的非常简单却强大的工具，可以用来创建 `list` 的生成式；\n",
    "- 举例 1，生成列表 `[1, 2, 3, 4, 5, 6, 7, 8, 9, 10]`\n",
    "\n",
    "```python\n",
    "list(range(1, 11))\n",
    "```\n",
    "\n",
    "- 举例 2，生成列表 `[1x1, 2x2, 3x3, ..., 10x10]` 用循环来做，当然可以：\n",
    "\n",
    "```python\n",
    "L = []\n",
    "for x in range(1, 11):\n",
    "    L.append(x * x)\n",
    "```\n",
    "\n",
    "- 我们看看 Python 中优雅的做法是怎样的，用列表生成式，一行语句代替上面的循环：\n",
    "\n",
    "```python\n",
    "[x * x for x in range(1, 11)]\n",
    "```\n",
    "\n",
    "- 写列表生成式时，把要生成的元素 x * x 放到前面，后面跟 `for` 循环，就可以把 `list` 创建出来，十分有用，多写几次，很快就可以熟悉这种语法。"
   ]
  },
  {
   "cell_type": "markdown",
   "metadata": {},
   "source": [
    "### 知识拓展 03"
   ]
  },
  {
   "cell_type": "markdown",
   "metadata": {},
   "source": [
    "**例题 3：编写 Python 程序，去除列表 `[1, 3, 5, 5, 3, 2]` 中重复的数字，输入结果如下：**\n",
    "\n",
    "```python\n",
    "[1, 2, 3, 5]\n",
    "```"
   ]
  },
  {
   "cell_type": "markdown",
   "metadata": {},
   "source": [
    "**答案：**\n",
    "\n",
    "```python\n",
    "# 去除前的列表\n",
    "list_a = [1, 3, 5, 5, 3, 2]\n",
    "\n",
    "# 将列表转换成集合\n",
    "set_a = set(list_a)\n",
    "\n",
    "# 将集合转换成列表\n",
    "list_b = list(set_a)\n",
    "\n",
    "#输出转换后的列表\n",
    "print(list_b)\n",
    "```"
   ]
  },
  {
   "cell_type": "markdown",
   "metadata": {},
   "source": [
    "**解析：**\n",
    "\n",
    "- 完成这道编程题，使用 Python 中的另一种数据结构 `set`（集合），列表中重复的元素在 `set` 中会自动被去除；\n",
    "- 第一句：`list_a = [1, 3, 5, 5, 3, 2]` 初始化整个列表；\n",
    "- 第二句：`set_a = set(list_a)` 将列表 `list_a` 转换成集合 `set_a`，它的数据是：\n",
    "\n",
    "```python\n",
    "{1, 2, 3, 5}\n",
    "```\n",
    "    已经将重复的元素去除，但是数据类型变成了集合类型；\n",
    "\n",
    "- 第三句：`list_b = list(set_a)` 将集合 `set_a` 转换成列表 `list_b`, 它的数据是：\n",
    "\n",
    "```python\n",
    "[1, 2, 3, 5]\n",
    "```     "
   ]
  },
  {
   "cell_type": "markdown",
   "metadata": {},
   "source": [
    "## 知识练习"
   ]
  },
  {
   "cell_type": "markdown",
   "metadata": {},
   "source": [
    "**练习 1：以下 Python 语句返回的值为_____？**\n",
    "\n",
    "```python\n",
    "pow(2, 10) \n",
    "```\n",
    "\n",
    "- A．210\n",
    "- B．20\n",
    "- C．1024"
   ]
  },
  {
   "cell_type": "markdown",
   "metadata": {},
   "source": [
    "**练习 2：以下 Python 代码片段最终打印结果为_____？**\n",
    "\n",
    "```python\n",
    "x = 2\n",
    "x += 1\n",
    "print(x)\n",
    "```\n",
    "\n",
    "- A．3\n",
    "- B．2\n",
    "- C．1"
   ]
  },
  {
   "cell_type": "markdown",
   "metadata": {},
   "source": [
    "**练习 3：编写程序过程中，形成思路的第一步是_____？**\n",
    "\n",
    "- A．分析问题\n",
    "- B．自上而下探入\n",
    "- C．完成代码"
   ]
  },
  {
   "cell_type": "markdown",
   "metadata": {},
   "source": [
    "**练习 4：有一个球从 50 米高的地方自由落下，每次落地后反弹回上一次下落时高度的 50%，求：它在第 10 次落地时，共经过多少米的距离，第 10 次反弹到多高的位置？**"
   ]
  },
  {
   "cell_type": "markdown",
   "metadata": {},
   "source": [
    "**练习 5：公司发放的提成，需要根据业绩进行计算。编写 Python 程序，输入某个销售的业绩，根据规则求销售的提成。具体提成规则如下：**\n",
    "\n",
    "- 业绩低于或等于 10 万元时，提成为 3%；\n",
    "- 业绩高于 10 万元，低于或等于 20 万元时，所有业绩都按 5% 提成；\n",
    "- 业绩高于 20 万元，低于或等于 40 万元时，所有业绩都按 8% 提成；\n",
    "- 业绩高于 40 万元，所有业绩都按 10% 提成。\n",
    "    \n"
   ]
  },
  {
   "cell_type": "markdown",
   "metadata": {},
   "source": [
    "## 答案解析"
   ]
  },
  {
   "cell_type": "markdown",
   "metadata": {},
   "source": [
    "**练习 1 答案：C**\n",
    "\n",
    "- Python 中，`pow(x, y)` 用于计算 `x` 的 `y` 次方, 也就是求 `2` 的 `10` 次方，结果是 `1024`，选则 C。"
   ]
  },
  {
   "cell_type": "markdown",
   "metadata": {},
   "source": [
    "**练习 2 答案：A**\n",
    "\n",
    "- `x = 2`，就是给 `x` 赋初值 `2`；\n",
    "- `x += 1` 等价于 `x` = `x + 1`，那么 `x = 2 + 1`，`x` 的最终结果为 `3`；\n",
    "- 选选 A 选项。"
   ]
  },
  {
   "cell_type": "markdown",
   "metadata": {},
   "source": [
    "**练习 3 答案：A**\n",
    "\n",
    "- 编程思路第一步就是「分析问题，明确需求」，选则 A。"
   ]
  },
  {
   "cell_type": "markdown",
   "metadata": {},
   "source": [
    "**练习 4 答案：**\n",
    "\n",
    "- 输出结果为：\n",
    "  - 小球在第 10 次落地时，共经过 149.805 米\n",
    "  - 小球在第 10 次反弹 0.049 米\n",
    "\n",
    "\n",
    "- 第一种解法：\n",
    "\n",
    "```python\n",
    "# 定义初始高度\n",
    "height = 50\n",
    "# 定义第一次反弹高度\n",
    "height_rebound = height * 0.5\n",
    "\n",
    "# 进入多次反弹\n",
    "for i in range(2, 11): \n",
    "    # 第 10 次落地时共经过的距离\n",
    "    height = height + 2 * height_rebound\n",
    "    # 第 10 次反弹的高度\n",
    "    height_rebound = height_rebound*0.5\n",
    "\n",
    "print(\"小球在第10次落地时，共经过 %5.5f 米\" % height)\n",
    "print(\"小球在第10次反弹 %5.3f 米\" % height_rebound)\n",
    "```\n",
    "\n",
    ">**解析：**\n",
    ">- 分析问题，明确需求\n",
    "    - 「在第 10 次落地时，共经过多少米的距离」，思路：第 10 次落地实际上只弹起了 9 次：\n",
    " $$初始高度 + 2\\times\\sum_{i=1}^{9} 第i次弹起高度$$ \n",
    "    - 「第 10 次反弹到多高的位置」，思路：\n",
    " $$初始高度 \\times 0.5^{10}$$\n",
    "    - 可以做一个循环，每次循环将谈起的距离乘以 0.5，一共循环 10 次。\n",
    ">- 列举所需知识点：\n",
    "    - 小球反弹高度运算；\n",
    "    - 小球反弹十次循环；\n",
    "    - 小球反弹高度与走过距离运算；\n",
    "    - 结果输出 `print()`；\n",
    "  \n",
    "- 第二种解法：\n",
    "\n",
    "```python\n",
    "# 定义初始高度\n",
    "init_height = 50\n",
    "# 定义反弹高度\n",
    "rebound_ratio = 0.5\n",
    "distance_traveled = 0\n",
    "\n",
    "# 生成前 10 次弹起的高度的数据\n",
    "rebound_height_list = [init_height * pow(0.5, p) for p in range(1, 11)]\n",
    "\n",
    "# 它在第 10 次落地时，共经过多少米的距离\n",
    "distance_traveled = init_height + 2 * sum(rebound_height_list[0: -1])\n",
    "print('小球在第 10 次落地时，共经过 %5.3f 米' % distance_traveled)\n",
    "\n",
    "# 第 10 次反弹到多高的位置\n",
    "print('小球在第 10 次反弹 %5.3f 米' % (rebound_height_list[-1]))\n",
    "```\n",
    "\n",
    ">**拓展：**\n",
    ">- 第二种解题方法也是采用了先计算所有需要的数据，然后再进行结果输出的方式；\n",
    ">- 利用列表生成器，生成前 10 次次弹起的高度，再计算总距离。"
   ]
  },
  {
   "cell_type": "markdown",
   "metadata": {},
   "source": [
    "**练习 5 答案：**\n",
    "\n",
    "```python\n",
    "# 获取用户输入的业绩\n",
    "sales_revenue = float(input(\"请输入业绩：\"))\n",
    "# 业绩区间点数据\n",
    "sales_range = [0, 100000, 200000, 400000]\n",
    "# 提成比例区间数据\n",
    "performance_rate = [0.03, 0.05, 0.08, 0.10]\n",
    "# 提成\n",
    "bonus = 0.0\n",
    "# 进入计算\n",
    "performance_index = 0\n",
    "# 判断业绩的范围\n",
    "while performance_index < len(performance_rate):\n",
    "    if sales_revenue > sales_range[performance_index]:\n",
    "        performance_index += 1\n",
    "    else:\n",
    "        break\n",
    "\n",
    "# 提成的计算\n",
    "bonus = sales_revenue * performance_rate[performance_index - 1]  \n",
    "\n",
    "#6.输出结果\n",
    "print(\"您的提成有 %.2f 元\" % bonus)\n",
    "```\n",
    "\n",
    ">**解析：**\n",
    ">- 分析问题，明确需求，根据用户的业绩来计算提成\n",
    "    - 业绩的数据类型为浮点型，精确到小数点后两位是一个比较合理的选择。\n",
    ">- 列举所需知识点；\n",
    "    - 获取用户输入的业绩 `input()`\n",
    "    - 定义业绩总额区间、提成率区间所需要的数据\n",
    "    - 通过 `while` 循环找到提成区间\n",
    "    - 提成计算运算\n",
    "    - 用 `print()` 函数结果输出 "
   ]
  },
  {
   "cell_type": "markdown",
   "metadata": {
    "toc-hr-collapsed": true,
    "toc-nb-collapsed": true
   },
   "source": [
    "# 第十课 经营 KFC"
   ]
  },
  {
   "cell_type": "markdown",
   "metadata": {},
   "source": [
    "## 知识回顾"
   ]
  },
  {
   "cell_type": "markdown",
   "metadata": {},
   "source": [
    "<img src=\"material/chapter_10.png\">"
   ]
  },
  {
   "cell_type": "markdown",
   "metadata": {},
   "source": [
    "## 知识拓展"
   ]
  },
  {
   "cell_type": "markdown",
   "metadata": {},
   "source": [
    "### 知识拓展 01"
   ]
  },
  {
   "cell_type": "markdown",
   "metadata": {},
   "source": [
    "**例题 1：以下选项，哪个选项对参数描写的是错误的？**\n",
    "\n",
    "- A．默认参数可以放在位置参数前面\n",
    "- B．在函数调用时可以使用位置传参与关键字传参两种方式\n",
    "- C．函数是可以没有参数的\n",
    "- D．在不确定需要传递多少个参数时，我们可以用不定长参数来解决"
   ]
  },
  {
   "cell_type": "markdown",
   "metadata": {},
   "source": [
    "**答案：A**"
   ]
  },
  {
   "cell_type": "markdown",
   "metadata": {},
   "source": [
    "**解析：**\n",
    "\n",
    "- 默认参数必须放在位置参数之前，如果放在之后，我们遵循位置参数的传递规则，首先传入参数时会覆盖默认参数的默认值，导致无法正常使用默认值，因此只有默认参数放在位置参数后，才可以灵活运用默认参数。"
   ]
  },
  {
   "cell_type": "markdown",
   "metadata": {},
   "source": [
    "**拓展：**\n",
    "\n",
    "- 除了位置传参方式外，还可以使用关键字传参方式，关键字传参方式可以不必考虑传参时参数的位置，同样可以传递参数的值，例如:\n",
    "\n",
    "```python\n",
    "def my_func(a, b, c):\n",
    "    print(a, b, c)\n",
    "    \n",
    "# 关键字传参方式\n",
    "my_func(b = 2, \n",
    "        a = 1,\n",
    "        c = 3)\n",
    "        \n",
    "# 输出为 1 2 3\n",
    "```\n",
    "\n",
    "- 关键字参数还可以结合不定长参数来使用，可以使用 `**kwargs` 来定义不定长关键字参数，例如:\n",
    "\n",
    "```python\n",
    "def my_func(**kwargs):\n",
    "    print(kwargs)\n",
    "\n",
    "# 关键字传参方式\n",
    "my_func(a=1, b=2, c=3)\n",
    "```"
   ]
  },
  {
   "cell_type": "markdown",
   "metadata": {},
   "source": [
    "### 知识拓展 02"
   ]
  },
  {
   "cell_type": "markdown",
   "metadata": {},
   "source": [
    "**例题 2：下列对返回值描述错误的是？**\n",
    "\n",
    "- A．返回值可以是一个变量\n",
    "- B．返回值不可以是一个函数\n",
    "- C．一个函数可以有多个返回值\n",
    "- D．函数可以没有返回值"
   ]
  },
  {
   "cell_type": "markdown",
   "metadata": {},
   "source": [
    "**答案：B**"
   ]
  },
  {
   "cell_type": "markdown",
   "metadata": {},
   "source": [
    "**解析：**\n",
    "\n",
    "- 函数的返回值可以是一个函数是正确的"
   ]
  },
  {
   "cell_type": "markdown",
   "metadata": {},
   "source": [
    "**拓展：**\n",
    "\n",
    "- 返回值可以是一个变量，一个公式，甚至是一个函数；\n",
    "- 只要是符合 Python 语法的表达式，都可以作为一个返回值；\n",
    "- 可以用以下代码来学习一下，函数作为返回值是怎样使用的：\n",
    "\n",
    "```python\n",
    "# 定义了 my_func 外部函数\n",
    "def my_func():\n",
    "    \n",
    "    # 定义了嵌套函数 in_func 功能是打印传递的参数\n",
    "    def in_func(a,b):\n",
    "            print(a,b)\n",
    "            \n",
    "    # 将 in_func 作为返回值传递给函数调用处，\n",
    "    # 这里需要的注意的是缩进格式，\n",
    "    # 要和 in_func 函数对齐，\n",
    "    # 否则 in_func 函数将作为自己本身函数的返回值，\n",
    "    # 导致递归，死循环。\n",
    "    return in_func\n",
    "\n",
    "# 调用 my_func 函数，因为 my_func 函数有返回值并且返回值是 in_func，\n",
    "# 用 result 来承接，注意：这里的 result 就是 in_func 函数。\n",
    "result = my_func()\n",
    "\n",
    "# 调用 result 函数就是调用 in_func 函数，\n",
    "# in_func 函数需要参数，所以调用函数时需要传递参数。\n",
    "result(1, 2)\n",
    "```\n",
    "\n",
    "- 数据结果为：\n",
    "```\n",
    "1 2\n",
    "```"
   ]
  },
  {
   "cell_type": "markdown",
   "metadata": {},
   "source": [
    "### 知识拓展 03"
   ]
  },
  {
   "cell_type": "markdown",
   "metadata": {},
   "source": [
    "**例题 3：使用匿名函数，对传递的参数进行奇偶判断。**"
   ]
  },
  {
   "cell_type": "markdown",
   "metadata": {},
   "source": [
    "**答案：**\n",
    "\n",
    "```python\n",
    "new_func = lambda num: True if num % 2 == 0 else False\n",
    "result = new_func(1)\n",
    "print(result)\n",
    "```"
   ]
  },
  {
   "cell_type": "markdown",
   "metadata": {},
   "source": [
    "**解析：**\n",
    "\n",
    "- 完成该编程题，我们需要了解什么是匿名函数：\n",
    "\n",
    ">匿名函数顾名思义就是没有名字的函数，使用 `lambda` 关键字修饰的函数就是匿名函数，匿名函数只适合做一些简单的事情，并且返回值不需要使用 `return`。\n",
    ">\n",
    ">例如：一个简单的完成将两个参数求和的功能，就可以使用匿名函数：\n",
    ">```python\n",
    ">result = (lambda x, y: x+y)(1,2)\n",
    ">```\n",
    ">\n",
    ">我们可以分两个部分来看匿名函数：\n",
    ">- 前部分就是匿名函数的定义，x ,y 我们可以看做是形式参数，而 `x + y` 我们可以看做是函数实现的功能；\n",
    ">- 后部分的 `(1, 2)` 可以看做是函数的调用；\n",
    ">- 加上 `lambda` 关键词，一个简单的匿名函数就实现了。\n",
    ">匿名函数定义好以后，用 `result` 来承接匿名函数的返回值。\n",
    "\n",
    "- 我们再来看本练习的实现方法，如何使用匿名函数进行奇偶判断：\n",
    "\n",
    ">判断需要 `if` 语句来实现，匿名函数也是可以使用判断语句，我们拆分一下答案：\n",
    ">- `lambda` 修饰 `num` 是需要传递到函数中的参数；\n",
    ">- 判断传递的 `num` 是奇数还是偶数，返回 `True` 代表是偶数，返回 `False` 代表是奇数； \n",
    ">- 那么后面的表达式 `if num % 2 == 0` 就是判别 `num` 是否是偶数的具体代码，如果满足则返回 `True`，否则执行 `else` 返回 `False`；\n",
    ">- 这样就写好了一个匿名函数了，更加简洁的实现了功能。"
   ]
  },
  {
   "cell_type": "markdown",
   "metadata": {},
   "source": [
    "## 知识练习"
   ]
  },
  {
   "cell_type": "markdown",
   "metadata": {},
   "source": [
    "**练习 1：以下代码片段最终输出结果为_____？**\n",
    "\n",
    "```python\n",
    "def sum(*args):\n",
    "    x = 0\n",
    "    for i in args:\n",
    "        x += i\n",
    "    return x\n",
    "result = sum(1, 2, 3, 4)\n",
    "print(result)\n",
    "```\n",
    "\n",
    "- A．15\n",
    "- B．25\n",
    "- C．10\n",
    "- D．35"
   ]
  },
  {
   "cell_type": "markdown",
   "metadata": {},
   "source": [
    "**练习 2：下方对函数描述正确的是_____？**\n",
    "\n",
    "- A．函数名可以使用中文\n",
    "- B．函数可以有多个参数\n",
    "- C．返回值只能返回一个值\n",
    "- D．`min()` 函数的功能是求最小值"
   ]
  },
  {
   "cell_type": "markdown",
   "metadata": {},
   "source": [
    "**练习 3：代码 `abs(-3)` 的结果是_____？**\n",
    "\n",
    "- A．-3\n",
    "- B．3\n",
    "- C．-9\n",
    "- D．15"
   ]
  },
  {
   "cell_type": "markdown",
   "metadata": {},
   "source": [
    "**练习 4：编写一个函数，输入不确定个数的数字，返回所有数字的和与乘积。**"
   ]
  },
  {
   "cell_type": "markdown",
   "metadata": {},
   "source": [
    "**练习 5：编写一个函数，可以输入多个正整数，只把其中的奇数过滤出来并以列表形式返回。**"
   ]
  },
  {
   "cell_type": "markdown",
   "metadata": {},
   "source": [
    "## 答案解析"
   ]
  },
  {
   "cell_type": "markdown",
   "metadata": {},
   "source": [
    "**练习 1 答案：C**"
   ]
  },
  {
   "cell_type": "markdown",
   "metadata": {},
   "source": [
    "- `sum` 函数是求和函数，函数内将传递进来的不定参数进行遍历，取出每一个值并进行相加；\n",
    "- 调用时传递的参数为 `1, 2, 3, 4`，因此 `1 + 2 + 3 + 4 = 10`；\n",
    "- 选择 C 选项。"
   ]
  },
  {
   "cell_type": "markdown",
   "metadata": {},
   "source": [
    "**练习 2 答案：B、D**\n",
    "\n",
    "- 选项 A 不符合函数的命名规则，函数名只能使用英文、数字、下划线；\n",
    "- 选项 B 函数可以有多个参数，也可以支持不定参数，正确；\n",
    "- 选项 C 错误是因为返回值是可以有多个的；\n",
    "- 选项 D 中的 `min()` 函数是系统内置函数，功能作用找出最小值并返回，正确。"
   ]
  },
  {
   "cell_type": "markdown",
   "metadata": {},
   "source": [
    "**练习 3 答案：C**\n",
    "\n",
    "- `abs()` 函数是 Python 内置函数，函数的功能是取绝对值，`-3` 的绝对值为 `3`，因此选 C 选项。"
   ]
  },
  {
   "cell_type": "markdown",
   "metadata": {},
   "source": [
    "**练习 4 答案：**\n",
    "\n",
    "```python\n",
    "def sum_product (*args):\n",
    "    s = 0 \n",
    "    p = 1\n",
    "    for i in args:\n",
    "        s += i\n",
    "        p *= i\n",
    "    return s, p\n",
    "\n",
    "s, p = sum_product(2, 2, 3)\n",
    "print(s, p)\n",
    "```\n",
    "\n",
    "**解析：**\n",
    "\n",
    "- 定义一个名为 `sum_product()` 函数，功能为计算传入所有参数的和与乘积：\n",
    " - 因为参数个数不确定，所以使用了不定长位置参数 `*args`；\n",
    " - 函数体里面 `s` 与 `p` 变量的作用为承接和与乘积；\n",
    " - 要使用到 `args` 中的每一个参数，所以需要遍历不定长 `args`；\n",
    " - 取出每一个参数之后，分别进行和的操作 `s += i`，乘积的操作 `p *= i`；\n",
    " - 返回 `s, p`。\n",
    "- `sum_product()` 函数的返回值有两个，所以该函数时也需要两个变量来承接返回结果；\n",
    "- 最终求出和的值为 `2 + 2 + 3 = 7`，乘积的值为 `2 * 2 * 3 = 12`。"
   ]
  },
  {
   "cell_type": "markdown",
   "metadata": {},
   "source": [
    "**练习 5 答案：**\n",
    "\n",
    "```python\n",
    "# 定义函数 odd_filter，可变参数 args\n",
    "def odd_filter(*args):\n",
    "    # 带返回的列表数据\n",
    "    result = []\n",
    "    #遍历所有参数\n",
    "    for i in args:\n",
    "        # 奇数判断\n",
    "        if i % 2 != 0:\n",
    "            #放入到结果列表中\n",
    "            result.append(i)\n",
    "    return result\n",
    "\n",
    "# 调用函数\n",
    "print(odd_filter(1, 3, 5, 4, 2, 10))\n",
    "\n",
    "# 程序输出\n",
    "# [1, 3, 5]\n",
    "```\n",
    "\n",
    ">**解析：**\n",
    ">- 首先需要定义一个函数 `odd_filter()`，因不确定外部传入参数的个数，故使用 `*args` 进行参数声明；\n",
    ">- 函数内部，需要对接收到的参数进行遍历，把奇数筛选出来，通过 `i % 2 != 0` 来判断是否是奇数；\n",
    ">- 凡是奇数的数据，通过 `append()` 添加到 `result` 列表中；\n",
    ">- 在使用 `odd_filter()` 函数时，接收多少个参数都可以，例如 `odd_filter(1, 3, 5, 4, 2, 10)`。"
   ]
  },
  {
   "cell_type": "markdown",
   "metadata": {
    "toc-hr-collapsed": true,
    "toc-nb-collapsed": true
   },
   "source": [
    "# 第十一课 闪电快递"
   ]
  },
  {
   "cell_type": "markdown",
   "metadata": {},
   "source": [
    "## 知识回顾"
   ]
  },
  {
   "cell_type": "markdown",
   "metadata": {},
   "source": [
    "<img src=\"material/chapter_11.png\">"
   ]
  },
  {
   "cell_type": "markdown",
   "metadata": {},
   "source": [
    "## 知识拓展"
   ]
  },
  {
   "cell_type": "markdown",
   "metadata": {
    "toc-hr-collapsed": true,
    "toc-nb-collapsed": true
   },
   "source": [
    "### 知识拓展 01"
   ]
  },
  {
   "cell_type": "markdown",
   "metadata": {},
   "source": [
    "**例题 1：以下选项中，哪个方法能够使得 `x = 13.76`，`y = 14.1` 都能转换为整数 `14` ？**\n",
    "\n",
    "- A．math.ceil()\n",
    "- B．math.floor()\n",
    "- C．math.round()\n",
    "- D．round()"
   ]
  },
  {
   "cell_type": "markdown",
   "metadata": {},
   "source": [
    "**答案：B**"
   ]
  },
  {
   "cell_type": "markdown",
   "metadata": {},
   "source": [
    "**解析：**\n",
    "\n",
    "- 选项 A 中 `math.ceil()` 函数的结果为 `14 15`；\n",
    "- 选项 B 中 `math.floor()` 函数的结果为 `13 14`；\n",
    "- 选项 C 中描述的函数 `math.round()` 不存在，`math` 模块库里没有 `math.round()` 函数；\n",
    "- 选项 D 正确，`round()` 是 Python 的内置函数，功能是四舍五入。"
   ]
  },
  {
   "cell_type": "markdown",
   "metadata": {},
   "source": [
    "**拓展：**\n",
    "\n",
    "- Python 中的 `math` 库给我们提供了大量的数学函数；\n",
    "- `math.floor()`：向下取整，`floor()` 返回数字的下舍整数，无论小数部分是 `0.1` 还是 `0.9`，都会舍去小数部分，只保留整数部分，我们称 `floor()` 方法为向下取整；\n",
    "- `math.ceil()`：向上取整，`ceil()` 返回上入整数，无论小数部分是 `0.1` 还是 `0.9`，都会上入小数部分，向上凑整，我们称 `ceil()` 方法为向上取整；\n",
    "- `round()` 为四舍五入函数。\n",
    "- 试着运行以下下面的代码，增进学习吧：\n",
    "\n",
    "```python\n",
    "import math\n",
    "x = 13.76\n",
    "y = 14.1\n",
    "print(round(x), round(y))\n",
    "print(math.ceil(x), math.ceil(y))\n",
    "print(math.floor(x), math.floor(y))\n",
    "print(math.round(x), math.round(y))\n",
    "```"
   ]
  },
  {
   "cell_type": "markdown",
   "metadata": {},
   "source": [
    "### 知识拓展 02"
   ]
  },
  {
   "cell_type": "markdown",
   "metadata": {},
   "source": [
    "**例题 2：以下代码运行的结果是_____？**\n",
    "\n",
    "```python\n",
    "num = 100 \n",
    "def fun():\n",
    "    num = 200 \n",
    "    print(\"函数里面 \", num)\n",
    "fun()\n",
    "print(\"函数外面 \", num)\n",
    "```\n",
    "\n",
    "- A．函数里面 200    函数外面 100\n",
    "- B．函数里面 100    函数外面 200\n",
    "- C．函数里面 100    函数外面 100\n",
    "- D．函数里面 200    函数外面 200"
   ]
  },
  {
   "cell_type": "markdown",
   "metadata": {},
   "source": [
    "**答案：A**"
   ]
  },
  {
   "cell_type": "markdown",
   "metadata": {},
   "source": [
    "**解析：**\n",
    "\n",
    "- 代码执行时，`fun()` 函数中，局部变量 `num` 的值是 `200`；\n",
    "- 在函数内部 `print(\"函数里面 \", num)` 打印的结果将是 `200`；\n",
    "- 在函数外面 `print(\"函数外面 \", num)` 打印的是全局变量 `num = 100` 的值，打印的结果将是 `100`；\n",
    "- 因此选择 A 选项。"
   ]
  },
  {
   "cell_type": "markdown",
   "metadata": {},
   "source": [
    "**拓展：**\n",
    "\n",
    "- 在 Python 程序中，所有的变量并不是在哪个位置都可以访问的，有作用域的区分；\n",
    "- 致于如何访问，取决于变量的位置，变量的位置就是变量的作用域，变量的作用域决定着变量在哪个位置起作用；\n",
    "- 因此，我们可以将变量分为：\n",
    " - 全局变量\n",
    " - 局部变量\n",
    "- 在函数外面定义的变量，叫做全局变量，拥有全局作用域；\n",
    "- 在函数内部定义的变量，叫做局部变量，拥有局部作用域；\n",
    "- 局部变量只能在函数内部使用，而全局变量可以在整个程序范围内访问；\n",
    "- 当全局变量与局部变量重名时，在函数内部，Python 会优先使用局部变量。\n",
    "\n",
    "```python\n",
    "num = 100\n",
    "sum = 1000\n",
    "\n",
    "# 函数内\n",
    "def func():\n",
    "    num = 200\n",
    "    print(\"局部变量 num \", num)\n",
    "    \n",
    "    # 虽然在函数内部打印，但 sum 是在函数外面赋值，\n",
    "    # sum 是全局变量，函数内部也没有与 sum 重名的变量，\n",
    "    # 因此函数内部调用 sum 的值也是 1000\n",
    "    print(\"全局变量 sum \", sum)\n",
    "    \n",
    "func()\n",
    "print(\"全部变量 num \", num)\n",
    "print(\"全部变量 sum \", sum)\n",
    "\n",
    "# 输出结果：\n",
    "# 局部变量 num  200\n",
    "# 全局变量 sum  1000\n",
    "# 全部变量 num  100\n",
    "# 全部变量 sum  1000\n",
    "```"
   ]
  },
  {
   "cell_type": "markdown",
   "metadata": {},
   "source": [
    "### 知识拓展 03"
   ]
  },
  {
   "cell_type": "markdown",
   "metadata": {},
   "source": [
    "**例题 3：编写 Python 程序，求 5 的阶乘（5! = 5 x 4 x 3 x 2 x 1）。**"
   ]
  },
  {
   "cell_type": "markdown",
   "metadata": {},
   "source": [
    "**答案：**\n",
    "\n",
    "```python\n",
    "def fact(n):\n",
    "    return fact_iter(n, 1)\n",
    "\n",
    "def fact_iter(num, product):\n",
    "    if num == 1:\n",
    "        return product\n",
    "    return fact_iter(num - 1, num * product)\n",
    "\n",
    "fact(5)\n",
    "```"
   ]
  },
  {
   "cell_type": "markdown",
   "metadata": {},
   "source": [
    "**解析：**\n",
    "\n",
    "```python\n",
    "5! = 5 x 4 x 3 x 2 x 1 = 5 x 4!\n",
    "4! = 4 x 3 x 2 x 1 = 4 x 3!\n",
    "3! = 3 x 2 x 1 = 3 x 2!\n",
    "2! = 2 x 1 = 2 x 1!\n",
    "1! = 1 \n",
    "```\n",
    "- 通过上述过程，编写一个求阶乘的函数 `fact()`，括号内传入所求的阶乘数； \n",
    "- 当计算 `fact(5)` 时，可以根据函数定义看到计算过程如下：\n",
    "\n",
    "```python\n",
    "===> fact(5)\n",
    "===> 5 * fact(4)\n",
    "===> 5 * (4 * fact(3))\n",
    "===> 5 * (4 * (3 * fact(2)))\n",
    "===> 5 * (4 * (3 * (2 * fact(1))))\n",
    "===> 5 * (4 * (3 * (2 * 1)))\n",
    "===> 5 * (4 * (3 * 2))\n",
    "===> 5 * (4 * 6)\n",
    "===> 5 * 24\n",
    "===> 120\n",
    "```\n",
    "- 观察上面过程，函数 `fact()` 在不断的调用它自身；\n",
    "- 如果一个函数在内部调用自身，这个函数就是递归函数；\n",
    "- `fact(n)` 可以表示为 `n` x `fact(n - 1)`，只有 `n = 1` 时需要特殊处理。\n",
    "\n",
    "```python\n",
    "def fact(n):\n",
    "    if n==1:\n",
    "        return 1\n",
    "    return n * fact(n - 1)\n",
    "```\n",
    "\n",
    "- 递归优化，防止递归函数栈溢出：\n",
    " - 递归函数的优点是定义简单，逻辑清晰。理论上，所有的递归函数都可以写成循环的方式，但循环的逻辑不如递归清晰。使用递归函数需要注意防止栈溢出。在计算机中，函数调用是通过栈（stack）这种数据结构实现的，每当进入一个函数调用，栈就会加一层栈帧，每当函数返回时，栈就会减一层栈帧。由于栈的大小不是无限的，所以，递归调用的次数过多，会导致栈溢出；\n",
    " - 解决递归调用栈溢出的方法是通过尾递归优化，事实上尾递归和循环的效果是一样的，所以，把循环看成是一种特殊的尾递归函数也是可以的；\n",
    " - 尾递归是指，在函数返回的时候，调用自身本身，并且 `return` 语句不能包含表达式。这样，编译器或者解释器就可以把尾递归做优化，使递归本身无论调用多少次，都只占用一个栈帧，不会出现栈溢出的情况；\n",
    " - 上面的 `fact(n)` 函数，由于 `return n * fact(n - 1)` 引入了乘法表达式，所以就不是尾递归了，要改成尾递归方式，需要多一点代码，主要是要把每一步的乘积传入到递归函数内：\n",
    "\n",
    "    ```python\n",
    "    def fact(n):\n",
    "        return fact_iter(n, 1)\n",
    "\n",
    "    def fact_iter(num, product):\n",
    "        if num == 1:\n",
    "            return product\n",
    "    return fact_iter(num - 1, num * product)\n",
    "    ```\n",
    "    <br>\n",
    " - 可以看到，`return fact_iter(num - 1, num * product)` 仅返回递归函数本身，`num - 1` 和 `num * product` 在函数调用前就会被计算，不影响函数调用过程。\n",
    " - `fact(5)` 对应的 `fact_iter(5, 1)` 的调用如下：\n",
    "\n",
    "    ```python\n",
    "    ===> fact_iter(5, 1)\n",
    "    ===> fact_iter(4, 5)\n",
    "    ===> fact_iter(3, 20)\n",
    "    ===> fact_iter(2, 60)\n",
    "    ===> fact_iter(1, 120)\n",
    "    ===> 120\n",
    "    ```\n",
    "    <br>\n",
    " - 尾递归调用时，如果做了优化，栈不会增长，因此，无论多少次调用也不会导致栈溢出。"
   ]
  },
  {
   "cell_type": "markdown",
   "metadata": {},
   "source": [
    "## 知识练习"
   ]
  },
  {
   "cell_type": "markdown",
   "metadata": {},
   "source": [
    "**练习 1：Python 中如何调用 `main` 函数的文档说明？**\n",
    "\n",
    "- A．`main.__doc__`\n",
    "- B．`main.__dict__`\n",
    "- C．`main.doc`"
   ]
  },
  {
   "cell_type": "markdown",
   "metadata": {},
   "source": [
    "**练习 2：阅读以下代码，正确的输出结果是_____？**\n",
    "\n",
    "```python\n",
    "def sum_func(*args):\n",
    "    sm = 0\n",
    "    for i in args:\n",
    "        sm += i\n",
    "    return sm\n",
    "print(sum_func(1, 2, 3, 4, 5))\n",
    "```\n",
    "- A．报错\n",
    "- B．无输出\n",
    "- C．15"
   ]
  },
  {
   "cell_type": "markdown",
   "metadata": {},
   "source": [
    "**练习 3：函数定义的关键字是_____?**\n",
    "\n",
    "- A．def\n",
    "- B．del\n",
    "- C．det"
   ]
  },
  {
   "cell_type": "markdown",
   "metadata": {},
   "source": [
    "**练习 4：使用 Python 编写一个计算器函数，用户可以传入两个数字及相应的运算符（加、减、乘、除），实现两个数字的四则运算功能。**"
   ]
  },
  {
   "cell_type": "markdown",
   "metadata": {},
   "source": [
    "**练习 5：使用 Python 编写程序，完成以下计算。**\n",
    "\n",
    "- 输入 `n` 为偶数时，调用函数求：\n",
    "$$ \\frac{1}{2} + \\frac{1}{4} + ... + \\frac{1}{n}$$\n",
    "- 输入 `n` 为奇数时，调用函数求：\n",
    "$$ \\frac{1}{1} + \\frac{1}{3} + ... + \\frac{1}{n}$$\n"
   ]
  },
  {
   "cell_type": "markdown",
   "metadata": {},
   "source": [
    "## 答案解析"
   ]
  },
  {
   "cell_type": "markdown",
   "metadata": {},
   "source": [
    "**练习 1 答案：A**\n",
    "\n",
    "- 函数的注释说明被保存在 `__doc__` 属性中；\n",
    "- 使用 `mian.__doc__` 可以查看函数的说明。例如：\n",
    "\n",
    "```python\n",
    "def main():\n",
    "    '''\n",
    "    关于函数的信息。\n",
    "    '''\n",
    "    pass\n",
    "\n",
    "print(main.__doc__)\n",
    "```"
   ]
  },
  {
   "cell_type": "markdown",
   "metadata": {},
   "source": [
    "**练习 2 答案：C**\n",
    "\n",
    "- 函数 `sum_func(*args)` 通过 `*args` 接收传入函数中的所有参数，`sum_func(1, 2, 3, 4, 5)` 函数运行时，将 `1, 2, 3, 4, 5` 传给 `*args`；\n",
    "- 在函数内部，`*args` 会依次通过 `for i in args:` 将 `1, 2, 3, 4, 5` 数字赋值给 `i`， `sm += i` 即为 1 + 2 + 3 + 4 + 5 的和，结果为15，选则 C 选项。"
   ]
  },
  {
   "cell_type": "markdown",
   "metadata": {},
   "source": [
    "**练习 3 答案：A**\n",
    "\n",
    "- 函数的定义关键字是def。"
   ]
  },
  {
   "cell_type": "markdown",
   "metadata": {},
   "source": [
    "**练习 4 答案：**\n",
    "\n",
    "- 第一种解法：\n",
    "\n",
    "```python\n",
    "# 定义计算方法\n",
    "def cal_func(x, y, op):\n",
    "    res = 0 \n",
    "    if op == \"+\":\n",
    "        res = x + y\n",
    "    elif op == \"-\":\n",
    "        res = x - y\n",
    "    elif op == \"*\":\n",
    "        res = x * y\n",
    "    elif op == \"/\":\n",
    "        res = x/y\n",
    "    else:\n",
    "        res = \"输入的运算符不正确！\"\n",
    "    return res\n",
    "\n",
    "# 获取用户输入内容\n",
    "argx = int(input(\"请输入第一个数字：\"))\n",
    "argy = int(input(\"请输入第二个数字：\"))\n",
    "operator = input(\"请输入计算的形式（+、-、* 、/）：\")\n",
    "\n",
    "#进行计算显示结果\n",
    "result = cal_func(argx, argy, operator)\n",
    "print(result)\n",
    "```\n",
    "\n",
    ">**解析：**\n",
    ">- 本题目首先需要定义函数，在函数中接收三个参数，两个用于计算的数字，一个运算符号；\n",
    ">- 在函数内部，需要根据计算符号来判断用户所需进行的运算，并将计算结果赋值给 res，最后通过return 作为返回值将 res 传递出去；\n",
    ">- 用户在输入数字时，程序对数字进行取整操作，int(input(\"...\"))；\n",
    ">- 最后，将获取的数据作为函数参数传递到函数中，调用方法即可。 \n",
    "\n",
    "- 第二种解法：\n",
    "\n",
    "```python\n",
    "def cal_func(x, y, op):\n",
    "    cal_func_list = [lambda x, y: x + y]\n",
    "\n",
    "operators = ['+', '-', '*', '/']\n",
    "cal_func_list = [lambda x, y: x + y,\n",
    "                 lambda x, y: x - y,\n",
    "                 lambda x, y: x * y,\n",
    "                 lambda x, y: x / y]\n",
    "\n",
    "# 获取用户输入内容\n",
    "argx = int(input(\"请输入第一个数字：\"))\n",
    "argy = int(input(\"请输入第二个数字：\"))\n",
    "operator = input(\"请输入计算的形式（+、-、* 、/）：\")\n",
    "\n",
    "index = operators.index(operator)\n",
    "cal_func_list[index](argx, argy)\n",
    "```\n",
    "\n",
    ">**拓展：**\n",
    ">- 第二种方法使用了 Python 中的匿名函数，把函数也当作数据进行管理，让代码也变得更加整洁，可维护性增强。"
   ]
  },
  {
   "cell_type": "markdown",
   "metadata": {},
   "source": [
    "**练习 5 答案：**\n",
    "\n",
    "```python\n",
    "# 定义偶数的函数，sum(1/2 + 1/4 + … + 1/n)\n",
    "def peven(n):\n",
    "    s = 0.0\n",
    "    for i in range(2, n + 1, 2):\n",
    "        s += 1.0 / i\n",
    "    return s\n",
    "\n",
    "# 奇数的函数，sum(1/1 + 1/3 + … + 1/n)\n",
    "def podd(n):\n",
    "    s = 0.0\n",
    "    for i in range(1, n + 1, 2):\n",
    "        s += 1.0 / i\n",
    "    return s\n",
    "\n",
    "# 判断输入是奇数还是偶数，根据判断调用不同的函数\n",
    "result = input(\"请输入一个整数：\\n\")\n",
    "n = int(result)\n",
    "\n",
    "# n 如果为偶数调用偶数公式的函数，奇数调用奇数公式的函数\n",
    "if n % 2 == 0:\n",
    "    print(peven(n))\n",
    "else:\n",
    "    print(podd(n)) \n",
    "```\n",
    "\n",
    ">**解析：**\n",
    ">- 我们先来分解一下题目要求，题目需要根据输入的数字 `n` 的奇偶来完成不同的计算；\n",
    ">- 那么，可以根据需求来定义两个函数以完成相应功能：\n",
    "    - 当 `n` 为偶数时，创建一个完成偶数情况下的计算函数 `peven()`；\n",
    "    - 当 `n` 为奇数时，同理创建一个完成奇数情况下的计算函数 `podd()`。\n",
    ">- `peven()` 函数是 `n` 为偶数时的计算函数，来看一下 `peven()` 的内部实现：\n",
    "    - 因为在 `peven()` 函数里我们要计算的是 `1/2 + 1/4 + … + 1/n`，可能会出现小数，所以我们定义了变量 `s` 来承接计算结果；\n",
    "    - 变量 `s` 定义的数据类型为浮点型；\n",
    "    - 语句 `for i in range(2, n + 1, 2)`，用来迭代计算最终结果，`range()` 来控制遍历的长度，从 `2` 开始遍历，`range()` 的特点为最后一个值不遍历，所以我们可以使用 `n + 1` 来控制长度，并采用步长为 `2` 来完成循环，每次循环 `s += 1.0/i`，这样就可以实现题目的功能了。\n",
    ">- `podd()` 函数是 `n` 为奇数时的计算函数，内部实现与 `penven()` 函数大同小异，唯一不同的就是语句 `for i in range(1, n + 1, 2)`，从整数 `1` 开始遍历，这里就不多做解释了；\n",
    ">- 我们现在完成最后的功能，需要根据传入数据 `n` 的奇、偶调用不同功能的函数：\n",
    ">- 语句 `result = input(\"请输入一个整数：\\n\")` 来承接用户的输入值，将用户输入的数据强制转换为整型，`n = int(result)`；\n",
    ">- 接下来的语句 `if n % 2 == 0` 判断用户输入的值是偶数还是奇数：\n",
    "    - 条件为 `True` 时是偶数，调用 `peven()` 函数求出公式 `(1/2 + 1/4 + … + 1/n)` 的值；\n",
    "    - 条件为 `False` 时是奇数，调用 `podd()` 函数求出公式 `(1/1 + 1/3 + … + 1/n)` 的值。"
   ]
  },
  {
   "cell_type": "markdown",
   "metadata": {
    "toc-hr-collapsed": true,
    "toc-nb-collapsed": true
   },
   "source": [
    "# 第十二课 雍正专治 bug"
   ]
  },
  {
   "cell_type": "markdown",
   "metadata": {},
   "source": [
    "## 知识回顾"
   ]
  },
  {
   "cell_type": "markdown",
   "metadata": {},
   "source": [
    "<img src=\"material/chapter_12.png\">"
   ]
  },
  {
   "cell_type": "markdown",
   "metadata": {},
   "source": [
    "## 知识拓展"
   ]
  },
  {
   "cell_type": "markdown",
   "metadata": {},
   "source": [
    "### 知识拓展 01"
   ]
  },
  {
   "cell_type": "markdown",
   "metadata": {},
   "source": [
    "**例题 1：以下 Python 代码有 bug，请选出正确描述错误的选项。**\n",
    "\n",
    "``` python\n",
    "while True:\n",
    "    num = num + 1\n",
    "    if num == 10:\n",
    "        return\n",
    "```\n",
    "\n",
    "- A．代码关键词拼写错误\n",
    "- B．忘记冒号，代码结构不完整\n",
    "- C．缩进不合理，导致逻辑混乱\n",
    "- D．语法错误，错误的语句使用"
   ]
  },
  {
   "cell_type": "markdown",
   "metadata": {},
   "source": [
    "**答案：D**"
   ]
  },
  {
   "cell_type": "markdown",
   "metadata": {},
   "source": [
    "**解析：**\n",
    "\n",
    "- 执行代码将会报错，“SyntaxError: 'return' outside function”，意思是语法错误：`return` 出现在函数外部，故选择 D 选项。"
   ]
  },
  {
   "cell_type": "markdown",
   "metadata": {},
   "source": [
    "**拓展：**\n",
    "\n",
    "- 语法错误的提示为 “SyntaxError”，常见的语法错误类型还有，使用中文字符，使用关键字做标识符等，这些都是初学者常犯的错误，要多加练习。"
   ]
  },
  {
   "cell_type": "markdown",
   "metadata": {},
   "source": [
    "### 知识拓展 02"
   ]
  },
  {
   "cell_type": "markdown",
   "metadata": {},
   "source": [
    "**例题 2：下面 Python 代码块的 bug 类型是什么？**\n",
    "\n",
    "```python\n",
    "def fun():\n",
    "    print('hello world')\n",
    "fun\n",
    "```\n",
    "\n",
    "- A．缩进不一致\n",
    "- B．调用函数未使用括号\n",
    "- C．缺少冒号\n",
    "- D．引号使用方式有错误"
   ]
  },
  {
   "cell_type": "markdown",
   "metadata": {},
   "source": [
    "**答案：B**"
   ]
  },
  {
   "cell_type": "markdown",
   "metadata": {},
   "source": [
    "**解析：**\n",
    "\n",
    "- 定义一个函数 `fun()`，函数功能为打印 `'hello world'` 字符串，调用函数没有加括号，出现错误，选择 B 选项；\n",
    "- 代码中的 `fun` 会返回 <function __main__.fun()>。\n",
    "\n",
    "**拓展：**\n",
    "\n",
    "- Python 的函数是有特殊功能的对象，而函数调用是用括号来触发的，无论一个函数是否需要参数，必须加上一对括号才能调用；\n",
    "- 另外，函数不加括号指的是函数本身，也就是函数这个 Python 对象；\n",
    "- 如果你看到了一行代码是这样写的，`func()()`，说明 `func()` 函数的返回值是一个函数对象，`func()()` 是对 `func()` 返回的函数的再次调用。"
   ]
  },
  {
   "cell_type": "markdown",
   "metadata": {},
   "source": [
    "### 知识拓展 03"
   ]
  },
  {
   "cell_type": "markdown",
   "metadata": {},
   "source": [
    "**例题 3：编写一个 Python 的自定义异常类 `StringLengthException`，当输入一个字符串，如果判断该字符串的长度超过 5，则抛出这个自定义异常对象。期望的程序功能如下：**\n",
    "\n",
    "```python\n",
    "try:\n",
    "    num = input('请输入一个字符串：')\n",
    "    if len(num) > 5:\n",
    "        raise StringLengthException(len(num))\n",
    "except StringLengthException as ex:\n",
    "    print('有异常出现，异常信息是：%s' % ex)\n",
    "```"
   ]
  },
  {
   "cell_type": "markdown",
   "metadata": {},
   "source": [
    "**答案：**\n",
    "\n",
    "```python\n",
    "class StringLengthException(Exception):\n",
    "    def __init__(self, length):\n",
    "        super(Exception, self).__init__()\n",
    "        self.length = length\n",
    "    def __str__(self):\n",
    "        return '错误[1002]：字符串的长度超过 5'\n",
    "\n",
    "try:\n",
    "    num = input('请输入一个字符串：')\n",
    "    if len(num) > 5:\n",
    "        raise StringLengthException(len(num))\n",
    "except StringLengthException as ex:\n",
    "    print('有异常出现，异常信息是：%s' % ex)\n",
    "```"
   ]
  },
  {
   "cell_type": "markdown",
   "metadata": {},
   "source": [
    "**解析：**\n",
    "\n",
    "- 定义一个异常类 `StringLengthException`，需要从 Python 中的异常父类 `Exception` 继承；\n",
    "- 实现两个关键的方法，一个是 `__init__(self, length)` 用于初始化异常对象，一个是 `__str__(self)` 用于实现异常对象输出异常信息。\n",
    "\n",
    "**拓展：**\n",
    "\n",
    "- 什么是异常？Python 使用异常对象来管理程序运行的异常状态，当程序运行遇到错误时使用 raise 关键词来引发异常；\n",
    "- 异常机制能够大幅度的提升程序的可维护性，统一管理程序当中所有的异常，并按照统一的规范记录异常信息的日志，异常管理在开发大型的项目中是必不可少的能力；\n",
    "- 异常对象未被处理（或捕获）时，程序将终止并显示错误信息（Traceback），从 Trackback 这个英文单词，就不难看出，它有向回追溯的意思；\n",
    "- Python 中的异常机制可以把异常出现的位置和路径精准的记录下来，例如，有 `a()`，`b()`，`c()` 三个函数，`a()` 调用 `b()`，`b()` 又调用 `c()`，`c()` 函数中由于某个 bug 导致抛出异常，这时抛出的异常中能精确的知道异常是从 `c()` 函数中发起的，并知道这次异常的发起是因为 `a()` -> `b()` -> `c()` 这个调用路径下产生的；\n",
    "\n",
    "```python\n",
    "def a():\n",
    "    b()\n",
    "    \n",
    "def b():\n",
    "    c()\n",
    "    \n",
    "def c():\n",
    "    raise Exception()\n",
    "    \n",
    "a()\n",
    "```\n",
    "    执行上面的程序，将会产生如下的 Exception Traceback（异常追溯）：\n",
    "```\n",
    "--------------------\n",
    "ExceptionTraceback (most recent call last)\n",
    "<ipython-input-88-1b6122c5bb1b> in <module>\n",
    "      8     raise Exception()\n",
    "      9 \n",
    "---> 10 a()\n",
    "\n",
    "<ipython-input-88-1b6122c5bb1b> in a()\n",
    "      1 def a():\n",
    "----> 2     b()\n",
    "      3 \n",
    "      4 def b():\n",
    "      5     c()\n",
    "\n",
    "<ipython-input-88-1b6122c5bb1b> in b()\n",
    "      3 \n",
    "      4 def b():\n",
    "----> 5     c()\n",
    "      6 \n",
    "      7 def c():\n",
    "\n",
    "<ipython-input-88-1b6122c5bb1b> in c()\n",
    "      6 \n",
    "      7 def c():\n",
    "----> 8     raise Exception()\n",
    "      9 \n",
    "     10 a()\n",
    "\n",
    "Exception: \n",
    "```\n",
    "\n",
    "- 大家能否思考一下，现实生活中有哪些场景和 Python 中的异常管理机制非常相似呢？\n",
    "- 抛出异常，使用 `raise` 语句，并使用异常类作为参数，语法是 `raise Exception(AttributeError)`。\n",
    "- 异常的类型常见的有：\n",
    "\n",
    "> `BaseException`\t所有异常的基类<br>\n",
    "> `SystemExit`\t解释器请求退出<br>\n",
    "> `KeyboardInterrupt`\t用户中断执行<br>\n",
    "> `Exception`\t常规错误的基类<br>\n",
    "> `StopIteration`\t迭代器没有更多的值<br>\n",
    "> `GeneratorExit`\t生成器（generator）发生异常来通知退出<br>\n",
    "> `StandardError`\t所有的内建标准异常的基类<br>\n",
    "> `ArithmeticError`\t所有数值计算错误的基类<br>\n",
    "> `FloatingPointError`\t浮点计算错误<br>\n",
    "> `OverflowError`\t数值运算超出最大限制<br>\n",
    "> `ZeroDivisionError`\t除（或取模）零（所有数据类型）<br>\n",
    "> `AssertionError`\t断言语句失败<br>\n",
    "> `AttributeError`\t对象没有这个属性<br>\n",
    "> `EOFError`\t没有内建输入，到达 EOF 标记<br>\n",
    "> `EnvironmentError`\t操作系统错误的基类<br>\n",
    "> `IOError`\t输入/输出操作失败<br>\n",
    "> `OSError`\t操作系统错误<br>\n",
    "> `WindowsError`\t系统调用失败<br>\n",
    "> `ImportError`\t导入模块/对象失败<br>\n",
    "> `LookupError`\t无效数据查询的基类<br>\n",
    "> `IndexError`\t序列中没有此索引（index）<br>\n",
    "> `KeyError`\t映射中没有这个键<br>\n",
    "> `MemoryError`\t内存溢出错误（对于 Python 解释器不是致命的）<br>\n",
    "> `NameError`\t未声明/初始化对象（没有属性）<br>\n",
    "> `UnboundLocalError`\t访问未初始化的本地变量<br>\n",
    "> `ReferenceError`\t弱引用（Weak reference）试图访问已经垃圾回收了的对象<br>\n",
    "> `RuntimeError`\t一般的运行时错误<br>\n",
    "> `NotImplementedError`\t尚未实现的方法<br>\n",
    "> `SyntaxError`\tPython 语法错误<br>\n",
    "> `IndentationError`\t缩进错误<br>\n",
    "> `TabError`\tTab 和空格混用<br>\n",
    "\n",
    "- 捕获异常类型主要有三种：\n",
    " - 第一种：**try/except**，如：\n",
    "\n",
    "    ```python\n",
    "    try:\n",
    "        pass\n",
    "    except XxxEroor:\n",
    "        pass\n",
    "    ```\n",
    "\n",
    " - 第二种：**try/except/else**，如：\n",
    "\n",
    "    ```python\n",
    "    try:\n",
    "        pass\n",
    "    except XXEroor:\n",
    "        pass\n",
    "    else:\n",
    "        pass\n",
    "    ```\n",
    "\n",
    " - 第三种：**try/except/finally**，如：\n",
    "\n",
    "    ```python\n",
    "    try:\n",
    "        pass\n",
    "    except XXEroor:\n",
    "        pass\n",
    "    finally:\n",
    "        pass\n",
    "    ```"
   ]
  },
  {
   "cell_type": "markdown",
   "metadata": {},
   "source": [
    "### 知识练习"
   ]
  },
  {
   "cell_type": "markdown",
   "metadata": {},
   "source": [
    "**练习 1：下列哪个异常类型是所有异常对象的父类（基类）_____？**\n",
    "   \n",
    "- A．Exception\n",
    "- B．BaseException\n",
    "- C．ImportError\n",
    "- D．Waring"
   ]
  },
  {
   "cell_type": "markdown",
   "metadata": {},
   "source": [
    "**练习 2：ValueError 异常表示怎样的含义_____？**\n",
    "\n",
    "- A．内存不足\n",
    "- B．解释错误\n",
    "- C．无效参数\n",
    "- D．缩进错误"
   ]
  },
  {
   "cell_type": "markdown",
   "metadata": {},
   "source": [
    "**练习 3：以下代码有几处错误_____？**\n",
    "\n",
    "```python\n",
    "str = ['a', 'b', 'c', 'd']\n",
    "for i in str\n",
    "print(i)\n",
    "```\n",
    "\n",
    "- A．3\n",
    "- B．2\n",
    "- C．1\n",
    "- D．0"
   ]
  },
  {
   "cell_type": "markdown",
   "metadata": {},
   "source": [
    "**练习 4：下面是某同学编写的一段 Python 代码，功能是求 1 至 100 的所有整数的和，请问该学生的代码是否有 bug，如果有，应该怎么修改？**\n",
    "\n",
    "```python\n",
    "sum = 0\n",
    "a = 1\n",
    "while True\n",
    "    sum = sum + a\n",
    "    if a == 100:\n",
    "        break\n",
    "a += 1\n",
    "print(sum)\n",
    "```"
   ]
  },
  {
   "cell_type": "markdown",
   "metadata": {},
   "source": [
    "**练习 5：运用异常处理的知识，用 Python 编写一个计算除法的函数，要求：当除数大于被除数时，抛出异常信息 \"除数 a 不能大于被除数 b\" 。**"
   ]
  },
  {
   "cell_type": "markdown",
   "metadata": {},
   "source": [
    "## 答案解析"
   ]
  },
  {
   "cell_type": "markdown",
   "metadata": {},
   "source": [
    "**练习 1 答案：B**\n",
    "\n",
    "- 系统定义的异常中，BaseException 是所有异常对象的父类，选择 B 选项。"
   ]
  },
  {
   "cell_type": "markdown",
   "metadata": {},
   "source": [
    "**练习 2 答案：C**\n",
    "\n",
    "- MemoryError 是内存不足；\n",
    "- SyntaxError 是语法错误；\n",
    "- ValueError 是无效参数；\n",
    "- IndentationError 是缩进错误；\n",
    "- 因此，选则 A 选项。"
   ]
  },
  {
   "cell_type": "markdown",
   "metadata": {},
   "source": [
    "**练习 3 答案：B**\n",
    "\n",
    "- 第一处错误是：`for` 循环缺少冒号；\n",
    "- 第二处错误是，`print()` 函数没有进行缩进；\n",
    "- 选则 C 选项。"
   ]
  },
  {
   "cell_type": "markdown",
   "metadata": {},
   "source": [
    "**练习 4 答案：存在 bug**\n",
    "\n",
    ">**解析：**\n",
    ">- 第一处错误是：`while` 循环处，忘记写冒号；\n",
    ">- 第二处错误是：变量 `a` 自增处代码没有按规定缩进，所以不能执行出预期结果。\n",
    ">- 修改后的代码如下：\n",
    "\n",
    "```python\n",
    "sum = 0\n",
    "a = 1\n",
    "while True:\n",
    "    sum = sum + a\n",
    "    if a == 100:\n",
    "        break\n",
    "a += 1\n",
    "print(sum)\n",
    "```"
   ]
  },
  {
   "cell_type": "markdown",
   "metadata": {},
   "source": [
    "**练习 5 答案：**\n",
    "\n",
    "```python\n",
    "def division(a, b): \n",
    "    try: \n",
    "        if b > a: \n",
    "            raise BaseException('除数 {} 不能大于被除数 {}'.format(b, a)) \n",
    "        else: \n",
    "            print(a / b) \n",
    "    except BaseException as result : \n",
    "        print(result) \n",
    "        \n",
    "x = int(input('请输入第一个整数（被除数）：'))\n",
    "y = int(input('请输入第二个整数（除数）：'))\n",
    "\n",
    "division(x, y)\n",
    "```\n",
    "\n",
    "> **解析：**\n",
    ">- 定义一个函数 `division()`，函数功能为：只有当输入的被除数小于除数时才可以执行，否则抛出异常；\n",
    ">- 如果 `b > a`，则抛出异常 `\"除数 b 不能大于被除数 a\"`，否则计算 `a/b` 的值并打印出来；\n",
    ">- 两个整数从键盘输入。 "
   ]
  },
  {
   "cell_type": "markdown",
   "metadata": {
    "toc-hr-collapsed": true,
    "toc-nb-collapsed": true
   },
   "source": [
    "# 第十三课 我们都是音乐人"
   ]
  },
  {
   "cell_type": "markdown",
   "metadata": {},
   "source": [
    "## 知识回顾"
   ]
  },
  {
   "cell_type": "markdown",
   "metadata": {},
   "source": [
    "<img src=\"material/chapter_13.png\">"
   ]
  },
  {
   "cell_type": "markdown",
   "metadata": {},
   "source": [
    "## 知识拓展"
   ]
  },
  {
   "cell_type": "markdown",
   "metadata": {},
   "source": [
    "### 知识拓展 01"
   ]
  },
  {
   "cell_type": "markdown",
   "metadata": {},
   "source": [
    "**例题 1：下面哪个关键字_____是用来声明 Python 中的类的？** \n",
    "\n",
    "- A．object\n",
    "- B．def \n",
    "- C．class\n",
    "- D．self "
   ]
  },
  {
   "cell_type": "markdown",
   "metadata": {},
   "source": [
    "**答案：C**"
   ]
  },
  {
   "cell_type": "markdown",
   "metadata": {},
   "source": [
    "**解析：**\n",
    "\n",
    "- A 选项中 `object` 是对象的意思，它在 Python 中并不能申明一个类；\n",
    "- B 选项中 `def` 虽然是 Python 中的关键字，但它是用来声明方法的；\n",
    "- D 选项中 `self` 是在声明类的时候，作为参数传递当前实例化对象本身的，并不能申明类；\n",
    "- 选择 C 选项。"
   ]
  },
  {
   "cell_type": "markdown",
   "metadata": {},
   "source": [
    "**拓展：**\n",
    "\n",
    "- Python 的关键字一定要注意区分，清楚各个关键字都是用来干什么的；\n",
    "- 常用的关键字有 False、None、True、and、as、assert、break、class、continue、def、del、elif、else、except、finally、for、from、global、if、import、in、is、lambda、nonlocal、not、or、pass、raise、return、try、while、with、yield；\n",
    "- 我们先重点了解一些核心关键字的主要功能：\n",
    " - 比如 `class` 是用来定义类的；\n",
    " - `def` 是用来定义函数或方法的；\n",
    " - `for` 用于定义循环语句的；\n",
    " - `import` 是用来导入模块的，通常用和 `from` 一起使用。"
   ]
  },
  {
   "cell_type": "markdown",
   "metadata": {},
   "source": [
    "### 知识拓展 02"
   ]
  },
  {
   "cell_type": "markdown",
   "metadata": {},
   "source": [
    "**例题 2：以下哪种描述符合类与实例的描述？**\n",
    "\n",
    "- A．汽车、电动车\n",
    "- B．汽车、方向盘\n",
    "- C．汽车、大众\n",
    "- D．汽车、小汽车  "
   ]
  },
  {
   "cell_type": "markdown",
   "metadata": {},
   "source": [
    "**答案：C**"
   ]
  },
  {
   "cell_type": "markdown",
   "metadata": {},
   "source": [
    "**解析：**\n",
    "\n",
    "- A 选项，汽车与电动车关系并不是类与实例的关系，因为汽车与电动车是两个不同的类；\n",
    "- B 选项中方向盘并不能看作是汽车类的一个实例，它们之间是一个包含的关系；\n",
    "- D 选项，小汽车与汽车也不是类是实例的关系，小汽车可以看成汽车类的一个子类，它们之间是一种逻辑上的包含关系；\n",
    "- 只有 C 选项能满足要求，大众就是汽车的一种，可以看成汽车类的一个实例。"
   ]
  },
  {
   "cell_type": "markdown",
   "metadata": {},
   "source": [
    "**拓展：**\n",
    "\n",
    "- 关于类与实例之间的关系，我们在辨别时一定要清楚哪个是一类事物的统称，哪个是某个类中具体的一个实例；\n",
    "- 类就好像是产生对象的工厂，每次调用类时，就会产生一个独立的新实例；\n",
    "- 类（`class`）是抽象的概念，而对象实例（`instance`）是一个具体的存在：\n",
    " - 汽车是一类交通工具，而你家的那辆车是一个具体的实例；\n",
    " - 钢琴是一类乐器，而朗朗在春晚上谈的那台钢琴是一个具体的实例；\n",
    " - 等等...这样的例子还可以据出来很多。\n",
    "- 类也是对事物的高度概括和抽象，抽取一类事物的共性，尽量去除不同个体之间的差异，而个体上差异化的特点留给对象去体现，再举个例子：\n",
    " - 在现实的应用中，我们可能会有抽象一个 `Employee` 类，用来描述员工的各种属性和可以被调用的方法；\n",
    " - 员工有很多共性的属性，例如薪资、身份证号、性别等等，也有很多共性的可被调用的方法，例如加班、写代码、开会等等；\n",
    " - 通过这个类，我们就可以产生实际的 `Employee` 实例，例如有一个员工叫小开；\n",
    " - 小开是一个具体的 `Employee` 类实例化出来的对象实例，比如说小开的薪资是 50k/月、身份证号是 110101...0826、性别男，这些都是一类属性的特性；\n",
    " - 小开加班需要独占消耗掉泡面，写代码的时候需要 2 个 27 寸以上的显示器，开会的时候喜欢讨论占用大家的时间，这些动作和行为是一类方法的特性；\n",
    " - 通过这些例子，希望大家能区分类和对象的概念，类是抽象的概括，而对象是鲜活的存在。"
   ]
  },
  {
   "cell_type": "markdown",
   "metadata": {},
   "source": [
    "### 知识拓展 03"
   ]
  },
  {
   "cell_type": "markdown",
   "metadata": {},
   "source": [
    "**例题 3：采用面向对象的编程方法编写 Python 程序实现如下功能：**\n",
    "\n",
    "- 有一个学生类，包括两个主要的属性：名字和分数，还有一个打印分数的方法；\n",
    "- 利用我们刚刚学习的 Python 面向对象的编程方法来完成本程序的设计。"
   ]
  },
  {
   "cell_type": "markdown",
   "metadata": {},
   "source": [
    "**答案：**\n",
    "\n",
    "```python\n",
    "class Student(object):\n",
    "\n",
    "    def __init__(self, name, score):\n",
    "        self.name = name\n",
    "        self.score = score\n",
    "\n",
    "    def print_score(self):\n",
    "        print('%s: %s' % (self.name, self.score))\n",
    "\n",
    "bart = Student('Bart Simpson', 59)\n",
    "lisa = Student('Lisa Simpson', 87)\n",
    "bart.print_score()\n",
    "lisa.print_score()\n",
    "```\n",
    "\n",
    "**解析：**\n",
    "\n",
    "- 采用面向对象的程序设计思想，首先思考的不是程序的执行流程，而是 `Student` 这种数据类型应该被视为一个对象，这个对象拥有 `name` 和 `score` 这两个属性（`Property`），学生对象应该拥有哪些数据。如果要打印一个学生的成绩，首先必须创建出这个学生对应的对象，然后给对象发一个 `print_score` 消息，让对象自己把自己的数据打印出来。\n",
    "- 第一步：先创建一个学生类，包括我们想要的属性和方法：\n",
    "\n",
    "```python\n",
    "class Student(object):\n",
    "\n",
    "    def __init__(self, name, score):\n",
    "        self.name = name\n",
    "        self.score = score\n",
    "\n",
    "    def print_score(self):\n",
    "        print('%s: %s' % (self.name, self.score))     \n",
    "```\n",
    "\n",
    "- 第二步：给对象发消息实际上就是调用对象对应的关联函数，我们称之为对象的方法（`Method`），面向对象的程序写出来就像这样：\n",
    "\n",
    "```python\n",
    "bart = Student('Bart Simpson', 59)\n",
    "lisa = Student('Lisa Simpson', 87)\n",
    "bart.print_score()\n",
    "lisa.print_score()\n",
    "```"
   ]
  },
  {
   "cell_type": "markdown",
   "metadata": {},
   "source": [
    "**拓展：**\n",
    "\n",
    "- 面向对象的设计思想是从自然界中来的，因为在自然界中，类（class）和实例（instance）的概念是很自然的。Class 是一种抽象概念，比如我们定义的 `class Student`，是指学生这个概念，而实例（instance）则是一个个具体的 `Student`；\n",
    "- 例如，Bart Simpson 和 Lisa Simpson 是两个具体的 `Student`；\n",
    "- 所以，面向对象的设计思想是抽象出 `class`，根据 `class` 创建 `instance`；\n",
    "- 面向对象的抽象程度又比函数要高，因为一个 `class` 既包含数据，又包含操作数据的方法。"
   ]
  },
  {
   "cell_type": "markdown",
   "metadata": {},
   "source": [
    "## 知识练习"
   ]
  },
  {
   "cell_type": "markdown",
   "metadata": {},
   "source": [
    "**练习 1：以下哪种方式可以调用类方法？**\n",
    "\n",
    "- A．实例名.对象名\n",
    "- B．类名.对象名\n",
    "- C．对象名.类名\n",
    "- D．对象名.实例名"
   ]
  },
  {
   "cell_type": "markdown",
   "metadata": {},
   "source": [
    "**练习 2：以下哪种描述是错误的？**\n",
    "\n",
    "- A．类与实例是两种不同的对象类型\n",
    "- B．类是一种产生实例的工厂\n",
    "- C．当我们调用附属于类的函数时，总会隐含着这个类的实例\n",
    "- D．我们通常使用 `class` 来声明一个方法"
   ]
  },
  {
   "cell_type": "markdown",
   "metadata": {},
   "source": [
    "**练习 3：以下哪种描述是错误的？**\n",
    "\n",
    "- A．类方法中调用类属性或者其他方法时，需要使用 `self` 来代表实例\n",
    "- B．类与实例是一一对应的，一个类只能创建一个实例\n",
    "- C．类的实例化就是通过一个具体的类来创建一个具体的实例\n",
    "- D．属性和方法都属于类的一部分"
   ]
  },
  {
   "cell_type": "markdown",
   "metadata": {},
   "source": [
    "**练习 4：请使用 Python 面向对象的编程方法编写程序，实现以下功能。**\n",
    "\n",
    "- 有一个代表所有员工的基类 `Employee`，主要有两个属性，名字和工资；\n",
    "- 类 `Employee` 有两个方法：\n",
    " - 方法 `display_count` 主要用来输出当前有多少个员工；\n",
    " - 方法 `display_employee` 主要用来输出员工的个人信息，包括员工的姓名信息和工资信息。"
   ]
  },
  {
   "cell_type": "markdown",
   "metadata": {},
   "source": [
    "**练习 5：编写 Python 程序，对练习 4 进行拓展，实现以下功能。**\n",
    "\n",
    "- 创建一个 `Employee` 类具体化的实例，创建一个实例对象并调用其方法，最终输出自己想要的信息；\n",
    "- 尝试创建多个实例对象，赋予不同的属性信息，再使用同一个方法来进行输出，看看最终在展示信息时显示的效果有什么样的不同。"
   ]
  },
  {
   "cell_type": "markdown",
   "metadata": {},
   "source": [
    "## 答案解析"
   ]
  },
  {
   "cell_type": "markdown",
   "metadata": {},
   "source": [
    "**练习 1 答案：A**\n",
    "\n",
    "**解析：**\n",
    "\n",
    ">当调用类的方法时，只能通过 `实例名.对象名` 才可以调用，类名.对象名是不行的，其他的两种也是不合法的，故选则 A 选项。"
   ]
  },
  {
   "cell_type": "markdown",
   "metadata": {},
   "source": [
    "**练习 2 答案：D**\n",
    "\n",
    "- D 选项中所述的内容是明显错误的，声明方法时是使用 def 来声明的，class 是用来声明类的；\n",
    "- A 选项中类与实例是两种不同的对象类型，这句话是没问题的，可以这么理解，例如，“谈论飞机运输的安全性”和“谈论乘坐的飞机上的饮食”中的“飞机”都是谈论的对象，不同的是，前者是类，后者是实例；\n",
    "- B 选项中是一个比喻化的解释，我们可以使用一个类来创建出多个具体的实例；\n",
    "- C 选项中说法是正确的，这个是 Python 中固有的设计；\n",
    "- 因此 A、B、C 选项的说法都是正确的，故选则 D 选项。"
   ]
  },
  {
   "cell_type": "markdown",
   "metadata": {},
   "source": [
    "**练习 3 答案：B**\n",
    "\n",
    "- B 选项描述是错误的，正确的说法是，实例是对应着所属的类的，不能说类与实例是一一对应的，因为一个类可以对应或创建出多个不同的实例；\n",
    "- A 选项中说法是没问题的，self 确实有这样一个功能；\n",
    "- C 选项中说法是没问题的，类的实例化确实是这么一个含义；\n",
    "- D 选项中的解释是正确的，方法和属性都是类的重要组成部分；\n",
    "- A、C、D 的说法都是正确的，故选则 B 选项。"
   ]
  },
  {
   "cell_type": "markdown",
   "metadata": {},
   "source": [
    "**练习 4 答案：**\n",
    "\n",
    "```python\n",
    "class Employee:\n",
    "\n",
    "    emp_count = 0\n",
    " \n",
    "    def __init__(self, name, salary):\n",
    "        self.name = name\n",
    "        self.salary = salary\n",
    "        Employee.emp_count += 1\n",
    "\n",
    "    def display_count(self):\n",
    "        print(\"员工总数 %d\" % Employee.emp_count)\n",
    "\n",
    "    def display_employee(self):\n",
    "        print(\"姓名: \", self.name, \", 薪资: \", self.salary)\n",
    "```\n",
    "\n",
    "**解析：**\n",
    "\n",
    "- `emp_count` 变量是一个类变量，它的值将在这个类的所有实例之间共享；\n",
    "- 可以在内部类或外部类使用 `Employee._emp_count` 访问；\n",
    "- 第一个方法 `__init__()` 方法是一个特殊的方法，被称为类的构造函数或初始化方法，当创建这个类的实例时该方法就会被调用；\n",
    "- `self` 代表类的实例，`self` 在定义类的方法时是必须有的，虽然在调用时不必传入相应的参数，它是被系统自动传入的。 "
   ]
  },
  {
   "cell_type": "markdown",
   "metadata": {},
   "source": [
    "**练习 5 答案：**\n",
    "\n",
    "```python\n",
    "class Employee:\n",
    "\n",
    "    emp_count = 0\n",
    "\n",
    "    def __init__(self, name, salary):\n",
    "        self.name = name\n",
    "        self.salary = salary\n",
    "        Employee.emp_count += 1\n",
    "\n",
    "    def display_count(self):\n",
    "        print(\"员工总数 %d\" % Employee.emp_count)\n",
    "\n",
    "    def display_employee(self):\n",
    "        print(\"姓名: \", self.name, \", 薪资: \", self.salary)\n",
    "\n",
    "# 创建 Employee 类的第一个对象\n",
    "emp1 = Employee(\"Zara\", 2000)\n",
    "\n",
    "# 创建 Employee 类的第二个对象\n",
    "emp2 = Employee(\"Manni\", 5000)\n",
    "emp1.display_employee()\n",
    "emp2.display_employee()\n",
    "print(\"Total Employee %d\" % Employee.emp_count)\n",
    "```\n",
    "\n",
    "- 输出结果：\n",
    "\n",
    "```python\n",
    "Name :  Zara ,Salary:  2000\n",
    "Name :  Manni ,Salary:  5000\n",
    "Total Employee\n",
    "```\n",
    "\n",
    ">**解析：**\n",
    ">- 创建实例对象：实例化类在其他编程语言中一般用关键字 `new`，但是在 Python 中并没有这个关键字，类的实例化类似函数调用方式；\n",
    ">- 以下使用类的名称 `Employee` 来实例化，实例化的对象通过 `__init__` 方法接收参数：\n",
    "    ```python\n",
    "    emp1 = Employee(\"Zara\", 2000)\n",
    "    emp2 = Employee(\"Manni\", 5000)\n",
    "    ```\n",
    ">- 使用点号 `.` 来访问对象的属性，使用类的名称访问类变量：\n",
    "    ```python\n",
    "    emp1.display_employee()\n",
    "    emp2.display_employee()\n",
    "    print(\"Total Employee %d\" % Employee._emp_count)\n",
    "    ```"
   ]
  },
  {
   "cell_type": "markdown",
   "metadata": {},
   "source": [
    "# 第十四课 音乐人与 Rapper"
   ]
  },
  {
   "cell_type": "markdown",
   "metadata": {},
   "source": [
    "## 知识回顾"
   ]
  },
  {
   "cell_type": "markdown",
   "metadata": {},
   "source": [
    "<img src=\"material/chapter_14.png\">"
   ]
  },
  {
   "cell_type": "markdown",
   "metadata": {},
   "source": [
    "## 知识拓展"
   ]
  },
  {
   "cell_type": "markdown",
   "metadata": {},
   "source": [
    "### 知识拓展 01"
   ]
  },
  {
   "cell_type": "markdown",
   "metadata": {},
   "source": [
    "**例题 1：以下选项中，哪个选项描述的是错误的？**\n",
    "\n",
    "- A．子类不需要继承父类，就可以使用父类的属性\n",
    "- B．子类继承父类后才能使用父类的属性\n",
    "- C．当类名后的括号中没有写继承那个父类时，默认继承的是 `object` 这个基类\n",
    "- D．当类名后没有括号时，默认继承的是 `object` 这个基类"
   ]
  },
  {
   "cell_type": "markdown",
   "metadata": {},
   "source": [
    "**答案：A**"
   ]
  },
  {
   "cell_type": "markdown",
   "metadata": {},
   "source": [
    "**解析：**\n",
    "\n",
    "- A 选项错误，子类必须继承父类才能使用父类的属性以及方法，严格来说，如果类 `A` 没有继承类 `B`，那么类 `B` 就不是类 `A` 的父类；\n",
    "- B 选项是正确的，在声明类的时候如果需要使用到其他类中的属性或方法，必须现有继承关系；\n",
    "- C 和 D 选项描述的其实是一个问题，如果类名后面 `()` 内没有写继承的父类，或者类名后没有括号，那么这个类就是默认继承 `object` 基类。"
   ]
  },
  {
   "cell_type": "markdown",
   "metadata": {},
   "source": [
    "**拓展：**\n",
    "\n",
    "- 在 Python 的类中，如果父类有不想被子类继承的属性和方法，要怎么办呢？\n",
    " - 这时需要在父类的属性和方法名上进行设置，我们熟知的 Python 的变量名命名规范为：不能以数字开头，可以以下划线开头，而这里的私有属性和私有方法的命名规范就是以双下划线开头，格式为 `__xxx` （双下划线后面加属性名或者方法名），这个 `__xxx` 就是这个类中的私有属性或者方法。\n",
    " - 如果父类中有私有属性或者私有方法，那么只有类对象可以访问，子类不能继承，子类也不能访问；\n",
    " - 以此种方式来达到 Python 类中的伪私有，为什么是伪私有呢？大家可以通过 `类名.__dict__` 来查看，就会发现我们的私有属性或者私有方法是换了一个名字存在，也就是以 `_类名__私有方法名`（单下划线类名双下划线方法名/属性名）的命名规则来表示。\n",
    " \n",
    "    ```python\n",
    "    class MyClass(object):\n",
    "        __abc = []\n",
    "        def __xyz():\n",
    "            pass\n",
    "    MyClass.__dict__\n",
    "    ```\n",
    "\n",
    "    ```python\n",
    "    # 上面代码输出的结果\n",
    "    mappingproxy({'__module__': '__main__',\n",
    "                  '_MyClass__abc': [],\n",
    "                  '_MyClass__xyz': <function __main__.MyClass.__xyz()>,\n",
    "                  '__dict__': <attribute '__dict__' of 'MyClass' objects>,\n",
    "                  '__weakref__': <attribute '__weakref__' of 'MyClass' objects>,\n",
    "                  '__doc__': None})\n",
    "    ```"
   ]
  },
  {
   "cell_type": "markdown",
   "metadata": {},
   "source": [
    "### 知识拓展 02"
   ]
  },
  {
   "cell_type": "markdown",
   "metadata": {},
   "source": [
    "**例题 2：以下代码的输出结果为？**\n",
    "\n",
    "```python\n",
    "class Grandfather(object):\n",
    "    def __init__(self):\n",
    "        self.money = 1000000\n",
    "        self.house = 2\n",
    "class Parent(Grandfather):\n",
    "    def shopping(self):\n",
    "        print('花钱')\n",
    "class Son(Parent):\n",
    "    pass\n",
    "son = Son()       \n",
    "print(son.money)\n",
    "```\n",
    "\n",
    "- A．错误，`Son` 这个类没有 `money` 这个属性\n",
    "- B．2\n",
    "- C．1000000\n",
    "- D．怎么可能还会有钱？都被 `Parent` 花完了"
   ]
  },
  {
   "cell_type": "markdown",
   "metadata": {},
   "source": [
    "**答案：C**"
   ]
  },
  {
   "cell_type": "markdown",
   "metadata": {},
   "source": [
    "**解析：**\n",
    "\n",
    "- A 选项 `Son` 确实是没有 `money` 这个属性，并且他的父类 `Parent` 也没有，但是 `Parent` 的父类 `Grandfather` 是有 `money` 这个属性的，所以 `Son` 可以通过多层继承来获取到 `Grandfather` 的 `money` 这个属性；\n",
    "- B 选项，题中打印的是 `money` 这个属性，并非 `house` 这个属性；\n",
    "- C 选项这个答案是正确的，`Parent` 类从 `Grandfather` 类继承来 `money` 属性，`Son` 再从 `Parent` 类继承 `money` 属性；\n",
    "- D 选项，虽然 `Parent` 类中有个 `shopping` 方法，但是并没有减少 `money` 的继承。"
   ]
  },
  {
   "cell_type": "markdown",
   "metadata": {},
   "source": [
    "**拓展：**\n",
    "\n",
    "- self 到底是什么呢？\n",
    "- Python 解释器提供的初始化方法 ```__init__(selft)``` 中有这个参数，自己写的 `Parent` 类的 `shoppinng(self)` 方法中也会用到这个参数，但是我们从来没有给这个参数赋过值，为什么大家都写 `self` 呢？不能修改吗？\n",
    "- `self` 是指代当前调用该方法的类的实例，题目的代码中 `son.money` 这个语句在执行时，`self` 就会指代 `son` 这个对象；\n",
    "- 也就是说哪个实例调用了类方法方法，`self` 就指代哪个实例，虽然 `self` 在方法中需要被定义为默认的第一个参数，但是我们不需要显示传参，在调用方法的时候 Python 解释器会自动传入；\n",
    "- `self` 并非是规定死的写法，可以修改为其他的名字，例如 `def shopping(me)` 也是允许的，但是大家都约定俗成的写为 `self`，所以建议还是按照约定来写。"
   ]
  },
  {
   "cell_type": "markdown",
   "metadata": {},
   "source": [
    "### 知识拓展 03"
   ]
  },
  {
   "cell_type": "markdown",
   "metadata": {},
   "source": [
    "**例题 3：编写 Python 程序，完成以下要求：**\n",
    "\n",
    "- 定义一个 `Animal` 类，该类具有 `run` 方法\n",
    "- 定义一个 `Dog` 类，继承 `Animal` 类，并重写 `Dog` 类中 `run` 方法；\n",
    "- 定义一个 `Cat` 类，继承 `Animal` 类，并重写 `Cat` 类中 `run` 方法。"
   ]
  },
  {
   "cell_type": "markdown",
   "metadata": {},
   "source": [
    "**答案：**\n",
    "\n",
    "```python\n",
    "class Animal(object):\n",
    "    def run(self):\n",
    "        print('Animal is running...')\n",
    "        \n",
    "class Dog(Animal):\n",
    "    def run(self):\n",
    "        print('Dog 横冲直撞的跑...')\n",
    "\n",
    "class Cat(Animal):\n",
    "    def run(self):\n",
    "        print('Cat 以 50 迈的速度跑...')\n",
    "```"
   ]
  },
  {
   "cell_type": "markdown",
   "metadata": {},
   "source": [
    "**解析：**\n",
    "\n",
    "- 在最开始编写的 `Animal` 类中，有一个 `run()` 方法可以打印出 'Animal is running...'；\n",
    "\n",
    "```python\n",
    "class Animal(object):\n",
    "    def run(self):\n",
    "        print('Animal is running...')\n",
    "```\n",
    "- 当编写 `Dog` 和 `Cat` 类时，从 `Animal` 类继承就可以直接得到同样的、能够打印出 'Animal is running' 的 `run()` 方法；\n",
    "\n",
    "```python\n",
    "class Dog(Animal):\n",
    "    pass\n",
    "class Cat(Animal):\n",
    "    pass\n",
    "```\n",
    "- 对于 `Dog` 类来说，`Animal` 就是它的父类，对于 `Animal` 来说，`Dog` 就是它的子类，`Cat` 和 `Dog` 类似；\n",
    "- 由于 `Animial` 实现了 `run()` 方法，因此 `Dog` 和 `Cat` 作为它的子类，没有编写任何额外的代码，就自动拥有了 `run()` 方法；\n",
    "- 但如果需要让 `Dog` 类与 `Cat` 类分别具有自己的 `run()` 方法，就需要重写（有时候也称为重载或覆盖）`run()` 方法了：\n",
    "\n",
    "```python\n",
    "class Dog(Animal):\n",
    "    def run(self):\n",
    "        print('Dog 横冲直撞的跑...')\n",
    "class Cat(Animal):\n",
    "    def run(self):\n",
    "        print('Cat 以 50 迈的速度跑...')\n",
    "```\n",
    "- 当子类和父类都存在相同的 `run()` 方法时，我们说子类的 `run()` 覆盖了父类的 `run()`，在代码运行的时候，总是会调用子类的 `run()` 方法，而不会调用父类的 `run()` 方法。"
   ]
  },
  {
   "cell_type": "markdown",
   "metadata": {},
   "source": [
    "**拓展：**\n",
    "\n",
    "- 继承的另一个好处：多态。\n",
    "- 要理解什么是多态，首先要对数据类型再作一点说明，当定义一个 `class` 的时候，实际上就定义了一种数据类型，我们定义的数据类型和 Python 自带的数据类型，比如 `str`、`list`、`dict` 本质上没有区别：\n",
    "\n",
    "```python\n",
    "a = list() # a 是 list 类型\n",
    "b = Animal() # b 是 Animal 类型\n",
    "c = Dog() # c 是 Dog 类型\n",
    "```\n",
    "- 判断一个变量是否是某个类型可以用 `isinstance()` 判断：\n",
    "\n",
    "```python\n",
    "print(isinstance(a, list)) # 输出：True\n",
    "print(isinstance(b, Animal)) # 输出：True\n",
    "print(isinstance(c, Dog)) # 输出：True\n",
    "```\n",
    "\n",
    "- 代码显而易见，`a`、`b`、`c` 确实对应着 `list`、`Animal`、`Dog` 这 3 种类型；\n",
    "- **但是等等**，再试试下面的代码：\n",
    "\n",
    "```python\n",
    "print(isinstance(c, Animal)) # 输出：True\n",
    "```\n",
    "\n",
    "- 看来 `c` 不仅仅是 `Dog` 类型，`c` 还是 `Animal` 类型！\n",
    "- 不过仔细想想，这是有道理的，因为 `Dog` 是从 `Animal` 继承来的，当创建了一个 `Dog` 的实例 `c` 时，认为 `c` 的数据类型是 `Dog` 没错，但 `c` 同时是 `Animal` 也没错，`Dog` 本来就是 `Animal` 的一种！\n",
    "- 所以，在继承关系中，如果一个实例的数据类型是某个子类，那它的数据类型也可以被看做是父类，**但是**，反过来就不行：\n",
    "\n",
    "```python\n",
    "b = Animal()\n",
    "print(isinstance(b, Dog)) # 输出：False\n",
    "```\n",
    "- Dog 可以看成 Animal，但 Animal 不可以看成 Dog。\n",
    "- 我们将上面函数改写成如下形式：\n",
    "\n",
    "```python\n",
    "class Animal(object):\n",
    "    def run(self):\n",
    "        print('Animal is running...')\n",
    "        \n",
    "class Dog(Animal):\n",
    "    def run(self):\n",
    "        print('Dog 横冲直撞的跑...')\n",
    "\n",
    "class Cat(Animal):\n",
    "    def run(self):\n",
    "        print('Cat 以 50迈的速度跑...')\n",
    "        \n",
    "# 定义一个方法\n",
    "def run_twice(animal):\n",
    "    animal.run()\n",
    "    animal.run()\n",
    "\n",
    "# 创建两个对象    \n",
    "dog = Dog()\n",
    "cat = Cat()\n",
    "\n",
    "run_twice(dog)\n",
    "run_twice(cat)\n",
    "```\n",
    "- 当我们传入 `Animal` 的实例时，`run_twice()` 就会打印出：\n",
    "\n",
    "```python\n",
    "run_twice(Animal())\n",
    "```\n",
    ">输出：\n",
    "Animal is running...\n",
    "Animal is running...\n",
    "\n",
    "- 当我们传入 `Dog` 的实例时，`run_twice()` 就打印出：\n",
    "\n",
    "```python\n",
    "run_twice(Dog())\n",
    "```\n",
    ">输出：\n",
    "Dog 横冲直撞的跑...\n",
    "Dog 横冲直撞的跑...\n",
    "\n",
    "- 当我们传入 `Cat` 的实例时，`run_twice()` 就打印出：\n",
    "\n",
    "```python\n",
    "run_twice(Cat())\n",
    "```\n",
    ">输出：\n",
    "Cat 以 50 迈的速度跑...\n",
    "Cat 以 50 迈的速度跑...\n",
    "\n",
    "- 看上去没啥意思，但是仔细想想，现在，如果我们再定义一个 `Tortoise` 类型，也从 `Animal` 继承：\n",
    "\n",
    "```python\n",
    "class Tortoise(Animal):\n",
    "    def run(self):\n",
    "        print('Tortoise is running slowly...')\n",
    "```\n",
    "\n",
    "- 当我们调用 `run_twice()` 时，传入 `Tortoise` 的实例：\n",
    "\n",
    "```python\n",
    "run_twice(Tortoise())\n",
    "```\n",
    ">输出：\n",
    "Tortoise is running slowly...\n",
    "Tortoise is running slowly...\n",
    "\n",
    "- 你会发现，新增一个 `Animal` 的子类，不必对 `run_twice()` 做任何修改，实际上，任何依赖 `Animal` 类型作为参数的函数或者方法都可以不加修改地正常运行，`run_twice()` 的代码有了强大的复用性，原因就在于**多态**！\n",
    "- 多态的好处就是，当我们需要给函数传入 `Dog`、`Cat`、`Tortoise`...（可能还会有更多种动物子类）类型的实例时，我们只需要把参数定义为 `Animal` 类型就可以了，因为 `Dog`、`Cat`、`Tortoise` 等等都是 `Animal` 类型。\n",
    "- 忽略掉子类的差异，把所有的子类抽象成一个父类来看待，就可以面向父类中定义的方法（接口）编写高复用性的代码，在代码实际运行的过程中根据当前对象的子类动态调整执行内容，同样的一段代码 `run_twice()` 产生了多种形态的运行结果，多态的概念就如此产生了，结合上面的代码示例我们再分析一下多态的执行过程：\n",
    "\n",
    ">由于 `Animal` 类型有 `run()` 方法，那么传入 `run_twice()` 的任意类型，只要是 `Animal` 类或者子类，`run_twice()` 就会自动调用实际类型的 `run()` 方法，这就是多态的意思。\n",
    "\n",
    "- 对于一个变量，我们只需要知道它是 `Animal` 类型，无需确切地知道它的子类型，就可以放心地调用 `run()` 方法，而具体调用的 `run()` 方法是作用在 `Animal`、`Dog`、`Cat` 还是 `Tortoise` 对象实例上，由运行时当前对象实例的确切类型而决定，这就是多态真正的威力：调用方只管调用，不管细节，而当我们新增一种 `Animal` 的子类时，只要确保 `run()` 方法编写正确，不用管原来的代码是如何调用的。这就是著名的 **“开闭”** 原则：\n",
    "\n",
    ">对扩展开放：允许新增 A`nimal` 子类；<br>\n",
    ">对修改封闭：不需要修改依赖 `Animal` 类型的 `run_twice()` 等函数。\n",
    "\n",
    "- 继承可以一级一级地继承下去，就好比从爷爷到爸爸、再到儿子这样的关系，而任何类，最终都可以追溯到根类 `object`，这些继承关系看上去就像一颗倒着的树，比如如下的继承树：\n",
    "\n",
    "    <img align=\"left\" style=\"zoom: 0.2\" src=\"material/chapter_14_extend_3_1.png\">"
   ]
  },
  {
   "cell_type": "markdown",
   "metadata": {},
   "source": [
    "## 知识练习"
   ]
  },
  {
   "cell_type": "markdown",
   "metadata": {},
   "source": [
    "**练习 1：Python 中，关于类的说法正确的是_____？**\n",
    "\n",
    "- A．Python 的类允许多继承\n",
    "- B．子类可以继承父类的私有方法和属性\n",
    "- C．类属性只能由实例对象调用\n",
    "- D．类中必须有 `__init__` 方法"
   ]
  },
  {
   "cell_type": "markdown",
   "metadata": {},
   "source": [
    "**练习 2：以下代码执行的结果是_____？代码如下：**\n",
    "\n",
    "```python\n",
    "class Parent(object):\n",
    "    x = 1\n",
    "class Child1(Parent):\n",
    "    pass\n",
    "class Child2(Parent):\n",
    "    pass\n",
    "\n",
    "Child1.x = 2\n",
    "Parent.x = 3\n",
    "print(Parent.x, Child1.x, Child2.x)\n",
    "```\n",
    "\n",
    "- A．3 3 3\n",
    "- B．3 2 3\n",
    "- C．3 2 1\n",
    "- D．1 2 1"
   ]
  },
  {
   "cell_type": "markdown",
   "metadata": {},
   "source": [
    "**练习 3：以下代码执行的结果是_____？代码如下：**\n",
    "\n",
    "```python\n",
    "class Parent(object):\n",
    "    def __init__(self):\n",
    "        print('父类__init__方法')\n",
    "    def show(self):\n",
    "        print('父类方法')\n",
    "class Child(Parent):\n",
    "    def show(self):\n",
    "        print('子类方法')\n",
    "\n",
    "child = Child()\n",
    "child.show()\n",
    "```\n",
    "\n",
    "- A．父类 `__init__` 方法 父类方法\n",
    "- B．父类 `__init__` 方法 子类方法\n",
    "- C．父类方法\n",
    "- D．子类方法"
   ]
  },
  {
   "cell_type": "markdown",
   "metadata": {},
   "source": [
    "**练习 4：小明出生于书香门第，爷爷和父母均为教师，小明当然当仁不让的扛起了家族的传承，成了一名优秀的人民教师，并且还自己开设了辅导班。编写 Python 程序，实现一下要求：**\n",
    "\n",
    "- 创建爷爷类，爷爷的属性和方法有：\n",
    " - 职业（occupation）属性：教师\n",
    " - 爱好（hobby）属性：看书\n",
    " - 级别（level）属性：教授\n",
    " - 教书（taught）方法\n",
    "- 创建父母类，父母继承自爷爷，但是父母的级别（level）没有爷爷高，是高级教师；\n",
    "- 创建小明类，小明继承于父母类，级别为初级教师，定制方法为兼职（part_time_job）辅导班；\n",
    "- 输出小明的职业、爱好、以及调用他的兼职方法。"
   ]
  },
  {
   "cell_type": "markdown",
   "metadata": {},
   "source": [
    "**练习 5：在小明的辅导班中有两名学生，一名名字叫做李磊（性别男），另外一个叫做韩梅梅（性别女），他两人的英语特别的好，根据这两名学生的信息，用 Python 写出三个类。具体要求如下：**\n",
    "\n",
    "- 创建 `Person` 类，每个 `Person` 类的实例对象都有名字（name），年龄（age），性别（gender）属性；\n",
    "- 创建 `Student` 类，学生类继承于 `Person` 类，其中的 show() 方法，用于展示学生的具体信息；\n",
    "- 分别创建李磊和韩梅梅的实例对象，并分别调用他们的 `show()` 方法。"
   ]
  },
  {
   "cell_type": "markdown",
   "metadata": {},
   "source": [
    "## 答案解析"
   ]
  },
  {
   "cell_type": "markdown",
   "metadata": {},
   "source": [
    "**练习 1 答案：A**\n",
    "\n",
    "- A 选项，Python 的类中是允许多继承的，这是正确的；\n",
    "- B 选项，子类可以继承父类的私有方法和属性，这个选项是错误的，严格意义上来说私有属性不能由子类继承；\n",
    "- C 选项，类属性并非只能通过实例对象调用，也可以通过类名来进行调用；\n",
    "- D 选项，类中可以有 `__init__` 初始化方法，但是也可以不显性编写这个方法，采用系统默认的也可以；\n",
    "- 选择 A 选项。"
   ]
  },
  {
   "cell_type": "markdown",
   "metadata": {},
   "source": [
    "**练习 2 答案：B**\n",
    "\n",
    "- `Parent` 类中有 `x = 1` 这个类属性的定义；\n",
    "- 但是在打印之前 `Child1` 这个子类对 `x` 进行了重写为 `2`；\n",
    "- 紧接着 `Parent` 也对 `x` 进行了重写为 `3`；\n",
    "- 因此 `print()` 打印的时候：\n",
    " - `Parent.x` 为重新赋值过的 `3`；\n",
    " - `Child1.x` 是自己重写过的属性，结果为 `2`；\n",
    " - `Child2.x` 没有自己重写 `x` 属性，是直接继承的 `Parent.x`，结果为 `3`。\n",
    "- 所以选择 A 选项。"
   ]
  },
  {
   "cell_type": "markdown",
   "metadata": {},
   "source": [
    "**练习 3 答案：B**\n",
    "\n",
    "- 在 Python 的类继承中，默认优先使用子类的属性和方法，当子类中没有被调用的属性和方法时，就会去父类中找，如果父类中也没找到，就会去父类的父类中找，一直查找到 `object` 基类，如果在 `object` 类中仍然没有找到的话，程序就会抛出异常；\n",
    "- 所以在创建子类的实例对象时，会先去子类 `Child` 中寻找是否有 `__init__` 初始化方法，子类中没有找到，就去父类 Parent 中找，发现父类中有 `__init__` 初始化方法并执行了这个方法，于是打印了 '父类__init__方法'；\n",
    "- 后面的 `chlid.show()` 调用 `show()` 方法，因为子类中已经对这个 `show()` 方法进行了重写，所以打印出 '子类方法'；\n",
    "- 结果为 B 选项，整体的输出结果是：\n",
    "\n",
    ">父类\\__init__方法<br>\n",
    ">子类方法"
   ]
  },
  {
   "cell_type": "markdown",
   "metadata": {},
   "source": [
    "**练习 4 答案：**\n",
    "  \n",
    "```python\n",
    "class Grandfather(object):\n",
    "    occupation = '教师'\n",
    "    hobby = '看书'\n",
    "    level = '教授'\n",
    "    def taught(self):\n",
    "        print('正在给学生传授知识')\n",
    "class Parent(Grandfather):\n",
    "    level = '高级教师'\n",
    "class XiaoMing(Parent):\n",
    "    level = '初级教师'\n",
    "    def part_timeJob(self):\n",
    "        print('小明开设了辅导班')\n",
    "        \n",
    "xiaoming = XiaoMing()\n",
    "print(xiaoming.occupation)\n",
    "print(xiaoming.hobby)\n",
    "print(xiaoming.level)\n",
    "xiaoming.part_timeJob()\n",
    "```\n",
    "\n",
    ">**解析：**\n",
    ">- 完成该题目，首先需要确定相应的继承关系，即“小明继承于父母类”，“父母类继承于爷爷类”，按照从上到下的层级顺序，来依次完成类的实现；\n",
    ">- 在爷爷类中，需要定义的属性有：\n",
    ">  - 职业（occupation）：教师\n",
    ">  - 爱好（hobby）：看书\n",
    ">  - 级别（level）：教授\n",
    ">  - 教书方法（taught）\n",
    ">- 在父类类中，会继承爷爷类中的属性与方法，但 `level` 属性与爷爷类中不同，需要进行自定义；\n",
    ">- 而小明类中，会继承父母类中的属性与方法，但 `level` 属性与父母类中不同，需要进行自定义，此外还需设置小明类中的兼职方法（part_timeJob），代码如下： "
   ]
  },
  {
   "cell_type": "markdown",
   "metadata": {},
   "source": [
    "**练习 5 答案：**\n",
    "\n",
    "```python \n",
    "class Person(object):\n",
    "    def __init__(self, name, age, gender):\n",
    "        self.name = name\n",
    "        self.age = age\n",
    "        self.gender = gender\n",
    "class Teacher(object):\n",
    "    def english(self):\n",
    "        print(\"English is GOOD\")\n",
    "        \n",
    "class Student(Person,Teacher):\n",
    "    def show(self):\n",
    "        print(self.name,self.age,self.gender)\n",
    "\n",
    "lilei = Student('李磊', 16, '男')\n",
    "lilei.show()\n",
    "lilei.english()\n",
    "hanmeimei = Student('韩梅梅', 15, '女')\n",
    "hanmeimei.show()\n",
    "hanmeimei.english()\n",
    "```\n",
    "\n",
    ">**解析：**\n",
    ">- 完成该题目，首先需要确定相应的继承关系，即 `Student` 类继承于 `Person` 类；\n",
    ">- 按照从上到下的层级顺序，来依次完成类的实现；\n",
    ">- 在 `Person` 类中，需要定义的属性有：\n",
    ">  - 名字（name），年龄（age），性别（gender）；\n",
    ">- `Student` 类继承于 `Person` 类，也就是继承了 `Person` 类相应的属性，还需要实现相应的 `show()` 方法，对名字、年龄、性别属性进行展示；\n",
    ">- 因此，我们在 `Person` 类中需要接收实例的属性值，将属性赋值放在 `Person` 类中的 `__init__` 方法中，而 `Student` 类中，只实现 `show()` 方法即可。"
   ]
  },
  {
   "cell_type": "markdown",
   "metadata": {
    "toc-hr-collapsed": true,
    "toc-nb-collapsed": true
   },
   "source": [
    "# 第十五课 租借共享单车"
   ]
  },
  {
   "cell_type": "markdown",
   "metadata": {},
   "source": [
    "## 知识拓展"
   ]
  },
  {
   "cell_type": "markdown",
   "metadata": {},
   "source": [
    "<img src=\"material/chapter_15.png\">"
   ]
  },
  {
   "cell_type": "markdown",
   "metadata": {},
   "source": [
    "## 知识拓展"
   ]
  },
  {
   "cell_type": "markdown",
   "metadata": {},
   "source": [
    "### 知识拓展 01"
   ]
  },
  {
   "cell_type": "markdown",
   "metadata": {},
   "source": [
    "**例题 1：以下选项中，哪个不是 Python 类的特性？**\n",
    "\n",
    "- A．封装\n",
    "- B．继承 \n",
    "- C．多态\n",
    "- D．接口"
   ]
  },
  {
   "cell_type": "markdown",
   "metadata": {},
   "source": [
    "**答案：D**"
   ]
  },
  {
   "cell_type": "markdown",
   "metadata": {},
   "source": [
    "**解析：**\n",
    "\n",
    "- 封装、继承、多态是类的三大特性，接口是一种特殊的类，接口类也叫做抽象类。"
   ]
  },
  {
   "cell_type": "markdown",
   "metadata": {},
   "source": [
    "**拓展：**\n",
    "\n",
    "- Python 是面向对象编程语言（Object Oriented Programming，简称 OOP），是一种程序设计思想；\n",
    "- OOP 把对象作为程序的基本单元，一个对象包含了数据和操作数据的方法；\n",
    "- 封装、继承、多态是类的三大特性：\n",
    " - 封装是将数据隐藏起来，对数据进行严格的控制；\n",
    " - 继承是子类继承父类，获取父类的属性与方法；\n",
    " - 多态是指一类事物有多种形态，一个抽象类有多个子类，因而多态的概念依赖于继承。"
   ]
  },
  {
   "cell_type": "markdown",
   "metadata": {},
   "source": [
    "### 知识拓展 02"
   ]
  },
  {
   "cell_type": "markdown",
   "metadata": {},
   "source": [
    "**例题 2：以下说法中，关于面向对象说法不正确的是_____？**\n",
    "\n",
    "- A．类不可以多重继承\n",
    "- B．对象是类的实例化表现\n",
    "- C．类中属性可以被访问和调用\n",
    "- D．`@property` 不可以修饰类的属性\n",
    "\n",
    "**答案：D** "
   ]
  },
  {
   "cell_type": "markdown",
   "metadata": {},
   "source": [
    "**解析：** \n",
    "\n",
    "- `@property` 广泛应用在类的定义中，可以用来修饰类的属性，属性的数据会被包装成方法被访问和调用。"
   ]
  },
  {
   "cell_type": "markdown",
   "metadata": {},
   "source": [
    "**拓展：**\n",
    "\n",
    "- 如果直接把属性直接暴露出去，允许外部的代码随意访问和修改，虽然代码编写起来很简单，但是，属性所属的实例没办法检查属性被修改的和理性，导致属性数据被随意修改，看一下下面的代码示例：\n",
    "\n",
    "```python\n",
    "s = Student()\n",
    "s.score = 9999\n",
    "```\n",
    "\n",
    "- 上面段代码显然存在着很大的风险，编写 `Student()` 类的开发者和使用 `Student()` 类的开发者可能是不同的人，那么使用者未必清楚的知道 `score` 修改的规则和机制，导致代码编写出现 bug；\n",
    "- 例如，为了限制 `score` 的范围，可以编写一个 `set_score()` 方法来设置成绩，再编写一个 `get_score()` 来获取成绩，这样在 `set_score()` 方法里，就可以检查参数的和理性，看一下下面的代码示例：\n",
    "\n",
    "```python\n",
    "class Student(object):\n",
    "\n",
    "    def get_score(self):\n",
    "         return self._score\n",
    "\n",
    "    def set_score(self, value):\n",
    "        if not isinstance(value, int):\n",
    "            raise ValueError('成绩（score）必须是整数类型！')\n",
    "        if value < 0 or value > 100:\n",
    "            raise ValueError('成绩（score）必须在 0 ~ 100 范围之内！')\n",
    "        self._score = value\n",
    "```\n",
    "\n",
    "- 现在，对任意的 Student 实例进行操作，就不能随心所欲地设置 `score` 了：\n",
    "\n",
    "```python\n",
    "s = Student()\n",
    "s.set_score(60) # 设置成功\n",
    "s.get_score() # 返回 60\n",
    "```\n",
    "\n",
    "- 下面代码就会抛出异常，因为调用 `Student` 类的开发这试图将成绩设置为 `9999`，超出了成绩的合理范围：\n",
    "\n",
    "```python\n",
    "s.set_score(9999)\n",
    "\n",
    "Traceback (most recent call last):\n",
    "  ...\n",
    "ValueError: score must between 0 ~ 100!\n",
    "```\n",
    "\n",
    "- 但是，上面的调用方法又略显复杂，没有直接用属性优雅，对比一下 `s.score = 90` 和 `s.set_sorce(90)`，是不是感觉前者更舒服，程序员就是想既要、又要、还要，既要 `s.score = 90` 这种优雅的写法，又要确保 `s.score` 被访问时的安全性，还要少些代码，于是出现了 `@property` 这样的修饰类；\n",
    "- 对于追求完美的 Python 程序员来说，这是必须要做到的！\n",
    "- 还记得装饰器（decorator）可以给函数动态加上功能吗？对于类的方法，装饰器一样起作用；\n",
    "- Python 内置的 `@property` 装饰器就是负责把一个方法变成（装饰成）属性调用的：\n",
    "\n",
    "```python\n",
    "class Student(object):\n",
    "\n",
    "    @property\n",
    "    def score(self):\n",
    "        return self._score\n",
    "\n",
    "    @score.setter\n",
    "    def score(self, value):\n",
    "        if not isinstance(value, int):\n",
    "            raise ValueError('成绩（score）必须是整数类型！')\n",
    "        if value < 0 or value > 100:\n",
    "            raise ValueError('成绩（score）必须在 0 ~ 100 范围之内！')\n",
    "        self._score = value\n",
    "```\n",
    "\n",
    "- `@property` 在 Python 内部的实现比较复杂，我们先考察如何使用它：\n",
    "- 把一个 `getter` 方法变成属性，只需要加上 `@property` 就可以了，此时 `@property` 本身又创建了另一个装饰器 `@score.setter`，负责把一个 `setter` 方法变成属性赋值，于是我们就拥有一个可控的属性操作：\n",
    "\n",
    "```python\n",
    "s = Student()\n",
    "s.score = 60 # 实际转化为 s.set_score(60) 方法调用\n",
    "s.score # 实际转化为 s.get_score() 方法调用\n",
    "```\n",
    "- 当给 `s.score` 赋值超出条件限制时，就会发生异常：\n",
    "\n",
    "```python\n",
    "s.score = 9999\n",
    "\n",
    "Traceback (most recent call last):\n",
    "  ...\n",
    "ValueError: score must between 0 ~ 100!\n",
    "```\n",
    "\n",
    "- 注意到这个神奇的 `@property` 装饰器，我们在对实例属性操作的时候，就知道该属性很可能不是直接暴露的，而是通过 `getter` 和 `setter` 方法来实现的；\n",
    "- 还可以定义只读属性，只定义 `getter` 方法，不定义 `setter` 方法就是一个只读属性：\n",
    "\n",
    "```python\n",
    "class Student(object):\n",
    "\n",
    "    @property\n",
    "    def birth(self):\n",
    "        return self._birth\n",
    "\n",
    "    @birth.setter\n",
    "    def birth(self, value):\n",
    "        self._birth = value\n",
    "\n",
    "    @property\n",
    "    def age(self):\n",
    "        return 2015 - self._birth\n",
    "```\n",
    "\n",
    "- 上面的 `birth` 是可读写属性，而 `age` 仅是一个只读属性，因为 `age` 可以根据 `birth` 和当前时间计算出来，不需要被赋值，直接给 `age` 赋值可能会导致 `birth` 和 `age` 的数据产生不一致的情况；\n",
    "- `@property` 广泛应用在类的定义中，可以让调用者写出简短的代码，同时保证对参数进行必要的检查，这样，程序运行时就减少了出错的机会。"
   ]
  },
  {
   "cell_type": "markdown",
   "metadata": {},
   "source": [
    "### 知识拓展 03"
   ]
  },
  {
   "cell_type": "markdown",
   "metadata": {},
   "source": [
    "**例题 3：使用 Python 代码完成以下功能：**\n",
    "\n",
    "- 创建商务类，拥有购买的方法；\n",
    "- 创建天猫类与京东类，继承于商务类，且拥有一致的购买方法。"
   ]
  },
  {
   "cell_type": "markdown",
   "metadata": {},
   "source": [
    "**答案：**\n",
    "\n",
    "```python\n",
    "class Business:   \n",
    "    def buy (self, goods):\n",
    "        pass\n",
    "\n",
    "class Tmall(Business):  \n",
    "    def buy(self, goods):\n",
    "        print('在天猫上购买了 %s' %goods)\n",
    "\n",
    "class Jd(Business):\n",
    "    def buy(self, goods):\n",
    "        print('在京东上购买了 %s' %goods)\n",
    "\n",
    "def buy(obj, goods):\n",
    "    obj.buy(goods)\n",
    "\n",
    "tmall = Tmall()\n",
    "jd = Jd()\n",
    "buy(tmall, \"电脑\")\n",
    "buy(jd, \"手机\")\n",
    "```"
   ]
  },
  {
   "cell_type": "markdown",
   "metadata": {},
   "source": [
    "**解析：**\n",
    "\n",
    "- 完成该编程题，先创建父类商务类 `Business`，以及子类天猫类 `Tmall` 与子类京东类 `Jd`；\n",
    "- 因为天猫类 `Tmall` 与京东类 `Jd` 要有一致性的方法，因此在父类 `Business` 中定义 `buy(self, goods)` 方法，这个方法中不完成任何实际的功能，只对子类的方法命名起到了一定的标准规范的作用，我们通常把父类中的这种方法定义称为接口；\n",
    "- 子类天猫类 `Tmall` 与子类京东类 `Jd` 重写父类中的 `buy(selft, goods)` 方法，或者说是实现父类中的 `buy(self, goods)` 接口。"
   ]
  },
  {
   "cell_type": "markdown",
   "metadata": {},
   "source": [
    "**拓展：**\n",
    "\n",
    "- 接口可以理解为子类共同拥有的函数，然后放在父类中，这个父类也叫做抽象类：\n",
    " - 抽象有概括的意思，是对一类事情的归纳和总结；\n",
    " - 抽象有不具体的意思，抽象的事物往往是看不见摸不着的东西，但是它能给人们概念上的认知，提供规范的作用。\n",
    "- 抽象类比较特殊，是专门用于被继承的，不做实例化，因为示例化抽象的父类没有实际的意义，它不能完成任何具体的工作；\n",
    "- 继承抽象类的子类来重写接口，实现具体的功能。"
   ]
  },
  {
   "cell_type": "markdown",
   "metadata": {},
   "source": [
    "### 知识练习"
   ]
  },
  {
   "cell_type": "markdown",
   "metadata": {},
   "source": [
    "**练习 1：面向对象编程需要使用哪个关键字来定义类_____？**\n",
    "\n",
    "- A．def\n",
    "- B．class\n",
    "- C．Class"
   ]
  },
  {
   "cell_type": "markdown",
   "metadata": {},
   "source": [
    "**练习 2：类的命名方法是_____？**\n",
    "\n",
    "- A．划线命名法\n",
    "- B．短横线命名法\n",
    "- C．大驼峰命名法"
   ]
  },
  {
   "cell_type": "markdown",
   "metadata": {},
   "source": [
    "**练习 3：在下面代码中，如何修饰 `age` 属性，使得其变为私有变量？**\n",
    "\n",
    "```python\n",
    "class Person:\n",
    "    def _fun(self):\n",
    "        self.name = \"李\"\n",
    "        self.age = 20\n",
    "```\n",
    "\n",
    "- A．_age\n",
    "- B．__age\n",
    "- C．_init_age"
   ]
  },
  {
   "cell_type": "markdown",
   "metadata": {},
   "source": [
    "**练习 4：编写 Python 程序，实现一下功能。**\n",
    "\n",
    "- 定义一个家庭 `Family` 类：\n",
    " - 类属性：姓氏 `surname`，人数 `num`，家庭中所有人的年龄 `age`；\n",
    " - 类方法：获取家庭的姓氏 `get_surname()` 返回类型 `str`；\n",
    " - 获取人数：`get_num` 返回类型 `int`；\n",
    " - 返回家庭平均年龄：`get_age` 返回类型 `int`。"
   ]
  },
  {
   "cell_type": "markdown",
   "metadata": {},
   "source": [
    "**练习 5：编写一段 Python 程序，使用 `@property` 给一个 `Screen` 类加上 `width` 和 `height` 属性，以及一个只读属性 `resolution`。**"
   ]
  },
  {
   "cell_type": "markdown",
   "metadata": {},
   "source": [
    "## 答案解析"
   ]
  },
  {
   "cell_type": "markdown",
   "metadata": {},
   "source": [
    "**练习 1 答案：B**\n",
    "\n",
    "- 定义类使用的关键字是 `class`，全部是小写字母，但是类名的命名习惯是首字母大写；\n",
    "- def 是定义函数的关键字；\n",
    "- 选择 B 选项。"
   ]
  },
  {
   "cell_type": "markdown",
   "metadata": {},
   "source": [
    "**练习 2 答案：C**\n",
    "\n",
    "- 类的命名使用的是大驼峰命名法，即使用英文单词表示命名，每个英文单词首字母大写，选则 C 选项。"
   ]
  },
  {
   "cell_type": "markdown",
   "metadata": {},
   "source": [
    "**练习 3 答案：B**\n",
    "\n",
    "- 类中的属性私有化时，需要在属性前加两个下划线，即 `__`，本题中实现类的 age 属性私有化，即为 `__age`，选则 B 选项。"
   ]
  },
  {
   "cell_type": "markdown",
   "metadata": {},
   "source": [
    "**练习 4 答案：**\n",
    "\n",
    "```python\n",
    "class Family():\n",
    "    def __init__(self, surname, num, age):\n",
    "        self.surname = surname\n",
    "        self.num = num\n",
    "        self.age = age\n",
    "\n",
    "    def get_surname(self):\n",
    "        if isinstance(self.surname, str):\n",
    "            return self.surname\n",
    "\n",
    "    def get_num(self):\n",
    "        if isinstance(self. num, int):\n",
    "            return self.num\n",
    "\n",
    "    def get_age(self):\n",
    "        sum = 0\n",
    "        for i in self.age:\n",
    "            sum = sum+i\n",
    "        if isinstance(sum, int):\n",
    "            return round(sum/len(self.age))\n",
    "\n",
    "xiaok = Family('开', 4, [20, 24, 45, 40])\n",
    "print(xiaok.get_surname())\n",
    "print(xiaok.get_num())\n",
    "print(xiaok.get_age())\n",
    "```\n",
    "\n",
    ">**解析：**\n",
    ">- `isinstance()` 函数判断一个对象是否是一个已知的类型，类似 `type`，可以判断某个对象是否属于某个类型；\n",
    ">- 通过构造相应方法来处理相关属性。"
   ]
  },
  {
   "cell_type": "markdown",
   "metadata": {},
   "source": [
    "**练习 5 答案：**\n",
    "\n",
    "```python\n",
    "class Screen(object):\n",
    "    @property   \n",
    "    def width(self):\n",
    "        return self._width\n",
    "\n",
    "    @width.setter   \n",
    "    def width(self,value):\n",
    "        self._width = value\n",
    "\n",
    "    @property    \n",
    "    def height(self):\n",
    "        return self._height\n",
    "\n",
    "    @height.setter   \n",
    "    def height(self,value):\n",
    "        self._height = value\n",
    "\n",
    "    @property    \n",
    "    def resolution(self):\n",
    "        return self.width * self._height\n",
    "    \n",
    "# 测试:\n",
    "s = Screen()\n",
    "s.width = 1024\n",
    "s.height = 768\n",
    "print('resolution =', s.resolution)\n",
    "if s.resolution == 1024 * 768:\n",
    "    print('测试通过！')\n",
    "else:\n",
    "    print('测试失败！')\n",
    "```\n",
    "\n",
    ">**解析：**\n",
    ">- `@property`，分别定义 `Screen` 类的 `width` 与 `height` 方法，每个方法中，都有 `getter` 与 `setter` 方法。"
   ]
  },
  {
   "cell_type": "markdown",
   "metadata": {
    "toc-hr-collapsed": true,
    "toc-nb-collapsed": true
   },
   "source": [
    "# 第十六课 编码与解码的战争"
   ]
  },
  {
   "cell_type": "markdown",
   "metadata": {},
   "source": [
    "## 知识回顾"
   ]
  },
  {
   "cell_type": "markdown",
   "metadata": {},
   "source": [
    "<img src=\"material/chapter_16.png\">"
   ]
  },
  {
   "cell_type": "markdown",
   "metadata": {},
   "source": [
    "## 知识拓展"
   ]
  },
  {
   "cell_type": "markdown",
   "metadata": {},
   "source": [
    "### 知识拓展 01"
   ]
  },
  {
   "cell_type": "markdown",
   "metadata": {},
   "source": [
    "**例题 1：以下选项中，哪个选项是字母 A 对应的 ASCII 码？**\n",
    "\n",
    "- A．97\n",
    "- B．65 \n",
    "- C．66\n",
    "- D．‘A’"
   ]
  },
  {
   "cell_type": "markdown",
   "metadata": {},
   "source": [
    "**答案：B**"
   ]
  },
  {
   "cell_type": "markdown",
   "metadata": {},
   "source": [
    "**解析：**\n",
    "\n",
    "- A 选项与 C 选项分别是小写 a 和大写 B 对应的 ASCII 码值；\n",
    "- D 选项中的 A 是一个字符，而 ASCII 码中并不包含字符；"
   ]
  },
  {
   "cell_type": "markdown",
   "metadata": {},
   "source": [
    "**拓展：**\n",
    "\n",
    "- 因为 Python 的诞生比 Unicode 标准发布的时间还要早，所以最早的 Python 只支持 ASCII 编码；\n",
    "- 在英语中，用 128 个符号编码便可以表示所有的字符；\n",
    "- Python 提供了 `ord()` 和 `chr()` 函数，可以把字母和对应的 ASCII 数字相互转换：\n",
    "\n",
    "```python\n",
    "# 将字符转化成对应的ASCII码\n",
    "print(ord(‘A’))\n",
    "\n",
    "# 将ASCII码转化成对应的字符\n",
    "print(chr(65))\n",
    "```"
   ]
  },
  {
   "cell_type": "markdown",
   "metadata": {},
   "source": [
    "### 知识拓展 02"
   ]
  },
  {
   "cell_type": "markdown",
   "metadata": {},
   "source": [
    "**例题 2：以下编码写法中错误的是哪个？**\n",
    "\n",
    "- A．UTF-32\n",
    "- B．GBK\n",
    "- C．GB2312\n",
    "- D．UTF2312"
   ]
  },
  {
   "cell_type": "markdown",
   "metadata": {},
   "source": [
    "**答案：D**"
   ]
  },
  {
   "cell_type": "markdown",
   "metadata": {},
   "source": [
    "**解析：**\n",
    "\n",
    "- A 选项 UTF-32 是固定长度的编码，始终占用 32 个比特位（4 个字节）；\n",
    "- B 选项与 C 项中的 GBK 和 GB2312 都是中文编码格式；\n",
    "- D 选项并没有 UTF2312 的这种编码。"
   ]
  },
  {
   "cell_type": "markdown",
   "metadata": {},
   "source": [
    "**拓展：**\n",
    "\n",
    "- “UTF-8” 是一种变长的编码方案，使用 1 ~ 6 个字节来存储；\n",
    "- “UTF-32” 是一种固定长度的编码方案，不管字符编号是什么，始终使用 4 个字节来存储；\n",
    "- “UTF-16” 是介于 UTF-8 和 UTF-32 之间的，使用 2 个或者 4 个字节来存储字符，长度既固定又可变；\n",
    "- ”GB2312“ 只能表示有 6763 个汉字；\n",
    "- ”GBK“ 编码中可表示的汉字可以达到 21003 个。"
   ]
  },
  {
   "cell_type": "markdown",
   "metadata": {},
   "source": [
    "### 知识拓展 03"
   ]
  },
  {
   "cell_type": "markdown",
   "metadata": {},
   "source": [
    "**例题 3：如何将文件中文字按行取出来？**\n",
    "\n",
    "- 文件的名字是 “古诗词.txt”，文件内容如下：\n",
    "\n",
    "```python\n",
    "     观沧海\n",
    "      曹操\n",
    "        \n",
    "东临碣石，以观沧海。\n",
    "水何澹澹，山岛竦峙。\n",
    "树木丛生，百草丰茂。\n",
    "秋风萧瑟，洪波涌起。\n",
    "日月之行，若出其中；\n",
    "星汉灿烂，若出其里。\n",
    "幸甚至哉，歌以咏志。\n",
    "```"
   ]
  },
  {
   "cell_type": "markdown",
   "metadata": {},
   "source": [
    "**答案：**\n",
    "\n",
    "```python\n",
    "with open('观沧海.txt','r') as file:\n",
    "    for line in file.readlines():\n",
    "        print(line)\n",
    "```"
   ]
  },
  {
   "cell_type": "markdown",
   "metadata": {},
   "source": [
    "**解析：**\n",
    "\n",
    "- 完成该编程题，需要使用文件的 `readlines()` 函数进行获取到所有的行，然后遍历 `readlines()` 函数的返回结果，获取到每一行并完成打印效果；\n",
    "- 第一句：使用 `with…as` 的方式打开文件，并将文件对象赋值给 `file` 变量；\n",
    "- 第二句：第二句中使用 `for` 循环遍历 `file.readlines()` 函数的结果，获取到每一行文字；\n",
    "- 第三句：使用 `print()` 函数打印，遍历出来的每一行文字。"
   ]
  },
  {
   "cell_type": "markdown",
   "metadata": {},
   "source": [
    "**拓展：**\n",
    "\n",
    "- 第二局中的 `readlines()` 函数可以获取到每一行，并且会将每一行数据作为列表的一个元素保存在列表中，储存结果如下图：\n",
    "\n",
    "```python\n",
    "['     观沧海\\n',\n",
    " '      曹操\\n',\n",
    " '\\n',\n",
    " '东临碣石，以观沧海。\\n',\n",
    " '水何澹澹，山岛竦峙。\\n',\n",
    " '树木丛生，百草丰茂。\\n',\n",
    " '秋风萧瑟，洪波涌起。\\n',\n",
    " '日月之行，若出其中；\\n',\n",
    " '星汉灿烂，若出其里。\\n',\n",
    " '幸甚至哉，歌以咏志。']\n",
    "```\n",
    "  \n",
    "- 通过结果可以看出，`readlines()` 可以直接获取到每一行文字，并且连同每一行的换行符 `\"\\n\"` 以及制表符 `\"\\t\"` 等符号都可以获取到。所以当我们再去使用每一行数据的时候，注意要把换行符和制表符去掉。"
   ]
  },
  {
   "cell_type": "markdown",
   "metadata": {},
   "source": [
    "### 知识练习"
   ]
  },
  {
   "cell_type": "markdown",
   "metadata": {},
   "source": [
    "**练习 1：以下代码读取文件方法不正确的是？**\n",
    "    \n",
    "- A．read\n",
    "- B．reads\n",
    "- C．readline\n",
    "- D．readlines\n",
    "  \n",
    "**练习 2：下面的代码片段最终的结果是_____？**\n",
    "\n",
    "```python\n",
    "f = open('a.txt', 'w')\n",
    "f.write('Hello, world!')\n",
    "f.close()\n",
    "f.write('KKB')\n",
    "f.close()\n",
    "```\n",
    "\n",
    "- A．正常运行，文件中写有文本 'KKB' \n",
    "- B．正常运行，文件中写有 'Hello, world!' 文本\n",
    "- C．程序报错，没有任何结果\n",
    "- D．程序报错，文件中写有 'Hello, world!' 文本"
   ]
  },
  {
   "cell_type": "markdown",
   "metadata": {},
   "source": [
    "**练习 3：有时我们需要将数据写入到文件，下列打开方式中具有写入功能的是？**\n",
    "\n",
    "- A．a\n",
    "- B．r+\n",
    "- C．w\n",
    "- D．w+"
   ]
  },
  {
   "cell_type": "markdown",
   "metadata": {},
   "source": [
    "**练习 4：通过 Python 的读写方法，完成对图片 \"开课吧_1.png\" 的复制，并另存为 \"开课吧_2.png\"。**\n",
    "\n",
    "><img style=\"zoom: 0.5\" src=\"开课吧_1.png\">"
   ]
  },
  {
   "cell_type": "markdown",
   "metadata": {},
   "source": [
    "**练习 5：获取键盘输入的字符，并将获取的字符保存到本地的 txt 文件中，直到输入字符 * 为止。**"
   ]
  },
  {
   "cell_type": "markdown",
   "metadata": {},
   "source": [
    "## 答案解析"
   ]
  },
  {
   "cell_type": "markdown",
   "metadata": {},
   "source": [
    "**练习 1 答案：B**\n",
    "\n",
    "- `read()`、`readline()`、`readlines()` 都是对文件的读取方式；\n",
    "- `read()` 可以一次获取文件中的所有字符；\n",
    "- `readline()` 可以一次获取文件中的一行；\n",
    "- `readlines()` 可以获取文件中的所有行，并将每一行最为一个元素存储在列表中。 "
   ]
  },
  {
   "cell_type": "markdown",
   "metadata": {},
   "source": [
    "**练习 2 答案：D**\n",
    "\n",
    "- 第一步：是打开文件并且设置 `'w'` 覆盖写入模式；\n",
    "- 第二步：是进行了写入 `'Hello, world!'` 文本；\n",
    "- 第三步：进行了文件关闭的操作，此时，`'a.txt'` 文件中已经含有 `'Hello, world!'` 文本；\n",
    "- 第四步：再次进行了写入文本操作，但是文件已经再上一行进行关闭了，所以程序会报错。"
   ]
  },
  {
   "cell_type": "markdown",
   "metadata": {},
   "source": [
    "**练习 3 答案：ABCD**\n",
    "\n",
    "- `'a'`：打开一个文件用于追加新的信息；\n",
    "- `'r'`：是只读并且文件不存在会报错；\n",
    "- `'r+'`：是打开一个文件用于读写；\n",
    "- `'w'` 和 `'w+'` 功能一样：打开文件用于读写，文件存在会将其内容进行覆盖，如果不存在则创建文件。"
   ]
  },
  {
   "cell_type": "markdown",
   "metadata": {},
   "source": [
    "**练习 4 答案：**\n",
    "\n",
    "```python\n",
    "# 打开开课吧_1.png图片\n",
    "img_file = open('开课吧_1.png', 'rb')\n",
    "\n",
    "# 读取图片内容\n",
    "img_data = img_file.read()\n",
    "\n",
    "# 创建开课吧_2.png图片\n",
    "img_file_copy = open('开课吧_2.png', 'wb')\n",
    "\n",
    "# 将 img_data 内容写入到 img_file_copy 文件中\n",
    "img_file_copy.write(img_data)\n",
    "\n",
    "# 关闭文件\n",
    "img_file.close()\n",
    "img_file_copy.close()\n",
    "```\n",
    "\n",
    ">**解析：**\n",
    ">- 第一步，我们需要将源文件的内容读取出来，因为图片文件以及视频文件的内容都是以二进制的形势进行存储的，所以我们可以用 `'rb'` 的方式进行打开；\n",
    ">- 第二步，我们将图片内容读取出来；\n",
    ">- 第三步，使用 `open` 函数创建一个图片存储的副本；\n",
    ">- 第四步，将第一个图片的内容写入到副本图片中；\n",
    ">- 第五步，关闭两个文件。"
   ]
  },
  {
   "cell_type": "markdown",
   "metadata": {},
   "source": [
    "**练习 5 答案：**\n",
    "\n",
    "```python\n",
    "# 打开存储的文件\n",
    "file = open('text.txt', 'a')\n",
    "\n",
    "# 使用循环确保，只要字符串中没有 *，就可以持续写入\n",
    "while True:\n",
    "    text = input('请输入要保存的文字，遇到 * 就会停止写入哟！')\n",
    "    # 判断输入的字符中是否含有 *\n",
    "    if '*' not in text:\n",
    "        file.write(text)\n",
    "    else:\n",
    "        # 如果含有 * 截取 * 以前的文字保存\n",
    "        # 获取字符串中 * 的索引\n",
    "        index = text.find('*')\n",
    "        # 截取 * 以前的文字\n",
    "        text = text[:index]\n",
    "        # 将截取的文字保存\n",
    "        file.write(text)\n",
    "        # 结束循环\n",
    "        break\n",
    "\n",
    "# 关闭文件\n",
    "file.close()\n",
    "```\n",
    "\n",
    ">**解析：**\n",
    ">- 第一步，打开将要用于存储字符的文件，并将打开方式设置为 `'a'`，以保证每次写入的内容追加到文件中；\n",
    ">- 第二步，使用 `while` 循环，在输入的文字中没有 `*` 的时候程序可以持续运行，直到输入含有 `*` 结束循环；\n",
    ">- 第三步，确保每次循环开始的时候，就是让用户输入了想要保存的字符串，所以，循环的第一句就是 `input()` 输入；\n",
    ">- 第四步，判断字符串中是否含有 `*`，如果不含有直接进行写入即可，然后开始下一次循环；\n",
    ">- 第五步，如果字符串中含有 `*`，可以有两种方案：\n",
    ">   - 第一种就是直接停止程序，并且此次输入内容将不会写入文件中；\n",
    ">   - 第二种方案是截取 `*` 号以前的文字写入文件，`*` 号以后的文字将不写入文件。\n",
    ">- 第六步，使用 `break` 结束循环，关闭文件。"
   ]
  },
  {
   "cell_type": "markdown",
   "metadata": {
    "toc-hr-collapsed": true,
    "toc-nb-collapsed": true
   },
   "source": [
    "# 第十七课 Python 江湖的储物戒指"
   ]
  },
  {
   "cell_type": "markdown",
   "metadata": {},
   "source": [
    "## 知识拓展"
   ]
  },
  {
   "cell_type": "markdown",
   "metadata": {},
   "source": [
    "<img src=\"material/chapter_17.png\">"
   ]
  },
  {
   "cell_type": "markdown",
   "metadata": {},
   "source": [
    "## 知识拓展"
   ]
  },
  {
   "cell_type": "markdown",
   "metadata": {},
   "source": [
    "### 知识拓展 01"
   ]
  },
  {
   "cell_type": "markdown",
   "metadata": {},
   "source": [
    "**例题 1：以下选项，哪一个是 Python 中导入模块的语句？**\n",
    "\n",
    "- A．from\n",
    "- B．import\n",
    "- C．pip\n",
    "- D．input"
   ]
  },
  {
   "cell_type": "markdown",
   "metadata": {},
   "source": [
    "**答案：B**"
   ]
  },
  {
   "cell_type": "markdown",
   "metadata": {},
   "source": [
    "**解析：**\n",
    "\n",
    "- A 选项，`from` 要配合 `import` 一起使用，意为从 xx 模块导入 xx 对象；\n",
    "- C 选项，`pip` 是安装模块的语句；\n",
    "- D 选项，`input` 是 Python 中从键盘输入内容的语句。"
   ]
  },
  {
   "cell_type": "markdown",
   "metadata": {},
   "source": [
    "**拓展：**\n",
    "\n",
    "- `import` 语句其实还有一个实用的功能，让写程序的时候更加便捷，可以把模块名通过 `import 模块名 as 别名` 的方式给模块起一个新命名，把原有的模块名缩短，或者重新命名为自己更加习惯的，这样在后续的使用过程中会更加方便快捷，同样也可以使用 `from 模块名 import 成员名 as 别名` 把模块中的某个对象重新命名。"
   ]
  },
  {
   "cell_type": "markdown",
   "metadata": {},
   "source": [
    "### 知识拓展 02"
   ]
  },
  {
   "cell_type": "markdown",
   "metadata": {},
   "source": [
    "**例题 2：下列 Python 语句中，哪写是错误的？**\n",
    "\n",
    "- A．Import time\n",
    "- B．import time as tt \n",
    "- C．from time import time as time\n",
    "- D．from time import *:"
   ]
  },
  {
   "cell_type": "markdown",
   "metadata": {},
   "source": [
    "**答案：A、D**"
   ]
  },
  {
   "cell_type": "markdown",
   "metadata": {},
   "source": [
    "**解析：**\n",
    "\n",
    "- A 选项，`import` 中的 `i` 字母使用了大写，在 Python 中是严格区分大小写的，故 A 选项错误；\n",
    "- D 选型中 `from time import *` 语句是没有问题的，但是后面的冒号导致了该语句的错误。"
   ]
  },
  {
   "cell_type": "markdown",
   "metadata": {},
   "source": [
    "**拓展：**\n",
    "\n",
    "- 使用 `from ... import ...` 语句可以一次性导入多个对象，导入后便可以直接使用模块中的对象，无需在使用对象时附加模块前缀；\n",
    "- `from ... import *` 语句可以一次性导入指定模块内的所有对象，但是并不推荐这种方式，因为如果同时导入的两个模块中有同样命名的对象，那么就会出冲突，后面导入的对象会覆盖前面导入的对象，导致程序运行不能满足预期。"
   ]
  },
  {
   "cell_type": "markdown",
   "metadata": {},
   "source": [
    "### 知识拓展 03"
   ]
  },
  {
   "cell_type": "markdown",
   "metadata": {},
   "source": [
    "**例题 3：编写 Python 代码，创建一个 CSV 文件并向文件中写入 1～100 这 100 个数字。**"
   ]
  },
  {
   "cell_type": "markdown",
   "metadata": {},
   "source": [
    "**答案：**\n",
    "\n",
    "```python\n",
    "import csv\n",
    "\n",
    "with open('test.csv', 'a') as r:\n",
    "    writer = csv.writer(r)\n",
    "    writer.writerow([x for x in range(1, 101)])\n",
    "```"
   ]
  },
  {
   "cell_type": "markdown",
   "metadata": {},
   "source": [
    "**解析：**\n",
    "\n",
    "- 该题要求我们创建文件并输入 100 个连续的数据，我们可以分三步来思考这个问题；\n",
    "- 第一步：创建文件，若要是在电脑上用鼠标操作的话，首先我们要去创建一个空的 csv 文件，然后再打开创建的文件，但在 Python 中文件不存在也没关系，只需要用打开文件 `with open` 语句就可以了，该语句会判断文件是否存在，如果不存在则会自动创建一个新的文件，`open()` 中的参数 `'a'` 表示一种可以对文件进行读写的操作模式；\n",
    "- 第二步：写入文件，写入文件就需要用到 `csv` 模块了，`csv` 中的对象 `writer` 提供了写文件的操作方法，用变量 `writer` 来承接该对象以便于后续的使用，`writerow()` 函数用于写入数据；\n",
    "- 第三步：要写入 1～100 这 100 个数字，循环语句就可以快速的实现该功能，需要注意的是答案中的 `range(1, 101)` 语句，第一个参数 `1` 可以取到，第二个参数 `101` 不能取到。"
   ]
  },
  {
   "cell_type": "markdown",
   "metadata": {},
   "source": [
    "**拓展：**\n",
    "\n",
    "- 在 Python 中还有一个可以处理大型 `csv` 文件的模块叫 `pandas`，在 `pandas` 模块中读取 csv 的语句是 `read_csv()`，写入 `csv` 的语句是 `to_csv()`；\n",
    "- `pandas` 支持多种文件格式处理，包括 CSV、HDF5、HTML 等，能够提供高效的大型数据处理。"
   ]
  },
  {
   "cell_type": "markdown",
   "metadata": {},
   "source": [
    "## 知识练习\n",
    "\n",
    "**练习 1：Python 中的 time 模块中获取时间戳的语句是？**\n",
    "\n",
    "- A．`time.time()`\n",
    "- B．`time.localtime()`\n",
    "- C．`time.time`"
   ]
  },
  {
   "cell_type": "markdown",
   "metadata": {},
   "source": [
    "**练习 2：如果我们想要让程序延迟一会执行，可以使用下列哪个函数？**\n",
    "\n",
    "- A．`time.stop()`\n",
    "- B．`time.sleep()`\n",
    "- C．`time.cut()`"
   ]
  },
  {
   "cell_type": "markdown",
   "metadata": {},
   "source": [
    "**练习 3：语句 `print(time.strftime(\"%H:%M:%S\", time.localtime()))` 会把时间输出为下列哪种形式？**\n",
    "\n",
    "- A．秒:分:时\n",
    "- B．时:分:秒\n",
    "- C．时:秒:分\n",
    "\n",
    "**练习 4：编写 Python 程序，输入一个列表（里面的元素是数值型），遍历列表中的数字作为延迟的秒数，延迟后输出当前时间。**"
   ]
  },
  {
   "cell_type": "markdown",
   "metadata": {},
   "source": [
    "**练习 5：分别使用 `for` 循环和 `while` 循环计算整数 1～1000 的加和，并且比较二者的用时，如果 `for` 循环用时短则输出 `\"for win!\"`，如果 `while` 循环用时短则输出 `\"while win!\"`，如果两个循环用时相等则输入 `\"draw!\"`。**"
   ]
  },
  {
   "cell_type": "markdown",
   "metadata": {},
   "source": [
    "## 答案解析"
   ]
  },
  {
   "cell_type": "markdown",
   "metadata": {},
   "source": [
    "**练习 1 答案：A**\n",
    "\n",
    "- A 选项，`time.time()` 用于获取当前的时间戳；\n",
    "\n",
    "> `time.time()` 返回的的是从 Epoch 开始到当前时间的秒数，Epoch 是 Unix 时间戳，Unix 时间戳（英文为 Unix time，POSIX time 或 Unix timestamp），是从 Epoch（1970 年 1 月 1 日 00:00:00 UTC）开始所经过的秒数，不考虑闰秒。\n",
    "\n",
    "- B 选项，`time.localtime()` 用于将时间戳格式化为本地（本时区）时间；\n",
    "- C 选项，`time.time` 虽不会报错，但是不添加括号只能输出该对象属于 time 模块中的一个函数，是错误的。"
   ]
  },
  {
   "cell_type": "markdown",
   "metadata": {},
   "source": [
    "**练习 2 答案：B**\n",
    "\n",
    "- `time.sleep()` 函数推迟线程的运行，也就是我们常说的延迟运行，在括号中可以添加一个数值型参数来表示延迟的秒数。"
   ]
  },
  {
   "cell_type": "markdown",
   "metadata": {},
   "source": [
    "**练习 3 答案：B**\n",
    "\n",
    "- `time.strftime()` 函数用于时间数据的格式化，把 `time.time()` 函数得到的时间戳，`time.localtime()` 函数得到的本地时间，以及其他时间函数得到的时间相关的数据，格式化转换成定制化的、可读性强的字符串形式，具体可以转换的方法如下所示：\n",
    "\n",
    "```\n",
    "%y - 两位数的年份表示（00-99）\n",
    "%Y - 四位数的年份表示（0000-9999）\n",
    "%m - 月份（01-12）\n",
    "%d - 月中的一天（0-31）\n",
    "%H - 24小时制的小时数（0-23）\n",
    "%I - 12小时制的小时数（01-12）\n",
    "%M - 分钟数（00-59）\n",
    "%S - 秒（00-59）\n",
    "%a - 本地简化星期的名称\n",
    "%A - 本地完整星期名称\n",
    "%b - 本地简化的月份名称\n",
    "%B - 本地完整的月份名称\n",
    "%c - 本地相应的日期表示和时间表示\n",
    "%j - 年内的一天（001-366）\n",
    "%p - 本地A.M.或P.M.的等价符\n",
    "%U - 一年中的星期数（00-53）星期天为开始\n",
    "%w - 星期（0-6），星期天为星期的开始\n",
    "%W - 一年中的星期数（00-53）星期一为开始\n",
    "%x - 本地相应的日期表示\n",
    "%X - 本地相应的时间表示\n",
    "%Z - 当前时区的名称\n",
    "```"
   ]
  },
  {
   "cell_type": "markdown",
   "metadata": {},
   "source": [
    "**练习 4 答案：**\n",
    "\n",
    "```python\n",
    "import time\n",
    "\n",
    "# 使用 map 函数实现键盘输入列表\n",
    "lst = list(map(int, input(\"输入空格间隔数字：\").split()))\n",
    "# 写一个循环，遍历列表中的内容\n",
    "for i in lst:\n",
    "    # 使用sleep使程序延迟\n",
    "    time.sleep(i)\n",
    "    # 使用strftime将时间准换成正常的格式\n",
    "    time_now = time.strftime(\"%Y-%m-%d %H:%M:%S\", time.localtime())\n",
    "    print(time_now)\n",
    "```\n",
    "\n",
    ">**解析：**\n",
    ">- 本题中教给大家一个实现键盘输入列表的简单方法，`list(map(int, input().split()))` ，该语句通过 `map` 可以实现某个函数的批量调用：\n",
    "    - 第一个参数 `int` 指的是 `int()` 函数，用途是强制类型转换；\n",
    "    - 第二个参数是一个列表数据，`input().split()` 将会把输入的字符串数据用 `' '` 空格分割开；\n",
    "    - 在本案例中，如果输入 `'1 2 3'`，`input.split()` 语句将把 `'1 2 3'` 分割成 `['1', '2', '3']`，然后 `map()` 函数调用 `len(['1', '2', '3'])` 次 `int()` 方法，也就是说列表 `['1', '2', '3']` 有 `3` 个元素，`map()` 就会调用 `3` 次 `int()` 函数，每次调用 int() 的时候会依次传入 `['1', '2', '3']` 列表中的每个元素，实现调用 `int('1')`、`int('2')`、`int('3')`，然后 `map()` 还会把 `3` 次 `int()` 函数调用的返回值收集起来，实现把 `['1', '2', '3']` 转换为 `[1, 2, 3]`；\n",
    "    - `map()` 函数是一个执行效率很高的方法，而且也很优雅，`map` 这个词在英文当中有映射的意思，在本例子中 `['1', '2', '3']` 到 `[1, 2, 3]` 的转换过程也可以说成是映射过程，`'1'` 映射到 `1`，`'2'` 映射到 `2`，`'3'` 映射到 `3`，映射的方法或者说映射的规则是由 `int()` 函数来规定的，可以给 `map()` 传入各种方法来定义映射过程的转换规则。\n",
    ">- 第一步：实现键盘输入列表；\n",
    ">- 第二步：使用循环遍历列表中的值；\n",
    ">- 第三步：编写循环内的程序，通过 `time.sleep()` 使程序延迟执行，再通过 `time.strftime()` 函数将日期转化为正常的形式并输出；\n",
    ">- 输出结果示例如下：\n",
    ">\n",
    ">```\n",
    "    输入空格间隔数字： 1 2 3 4\n",
    "    2020-03-12 11:14:24\n",
    "    2020-03-12 11:14:26\n",
    "    2020-03-12 11:14:29\n",
    "    2020-03-12 11:14:33\n",
    "```"
   ]
  },
  {
   "cell_type": "markdown",
   "metadata": {},
   "source": [
    "**练习 5 答案：**\n",
    "\n",
    "```python\n",
    "import time\n",
    "\n",
    "# 输出当前的时间\n",
    "print(\"比赛开始于：\", time.strftime(\"%Y-%m-%d %H:%M:%S\", time.localtime()), \"\\n\")\n",
    "\n",
    "# 记录一下当前系统最高精度的时间\n",
    "start_time = time.perf_counter()\n",
    "# 设置一个计数器\n",
    "count_for = 0\n",
    "\n",
    "# 定义一个 for 循环累加的代码\n",
    "for i in range(1, 1001):\n",
    "    # 每循环一次，都加上当前i的值\n",
    "    count_for += i\n",
    "print(\"for 循环计算的结果为：{}\".format(count_for))\n",
    "\n",
    "# 记录一下结束的时间\n",
    "end_time = time.perf_counter()\n",
    "# 计算一下花费的时间\n",
    "cost_time1 = end_time - start_time\n",
    "# 花费的总时长\n",
    "print(\"for 循环花费的总的时间是：{} 秒\".format(cost_time1))\n",
    "\n",
    "start_time = time.perf_counter()\n",
    "count_while = 0\n",
    "\n",
    "# 定义一个 while 循环累加的代码\n",
    "i = 1\n",
    "while i < 1001:\n",
    "    count_while += i\n",
    "    i += 1\n",
    "\n",
    "print(\"while 循环计算的结果为：{}\".format(count_while))\n",
    "\n",
    "end_time = time.perf_counter()\n",
    "cost_time2 = end_time - start_time\n",
    "print(\"while 循环花费的总的时间是：{} 秒\".format(cost_time2))\n",
    "print(\"for 循环花费的时间 - while 循环花费的时间为：{} 秒\".format(cost_time1 - cost_time2))\n",
    "\n",
    "if cost_time1 - cost_time2 > 0:\n",
    "    print('\\nwhile win!')\n",
    "elif cost_time1 - cost_time2 < 0:\n",
    "    print('\\nfor win!')\n",
    "else:\n",
    "    print('\\ndraw!')\n",
    "```\n",
    "\n",
    "**解析：**\n",
    ">- 本题主要在于考察 time 模块在实际中的应用，time 模块可以用于十分精确的程序用时的记录；\n",
    ">- 第一步：记录一下当前的时间（是否打印都可以）；\n",
    ">- 第二步：设置一个计数器，赋值 0 即可；\n",
    ">- 第三步：写一个 for 循环，计算 1 ～ 1000 的加和，注意 range 中的参数要用 (1, 1001)；\n",
    ">- 第四步：打印循环的结果，并记录结束的时间；\n",
    ">- 第五步：计算开始和结束的时间差；\n",
    ">- 通过以上的 5 个步骤，for 循环的计算 1 ～ 1000 的加和就计算完成了；\n",
    ">- 使用类似的方法通过 while 循环来计算加和；\n",
    ">- 重点说说 time.perf_counter() 方法：\n",
    "    - 这个方法能够返回性能计数器的值（以小数秒为单位）作为浮点数，即具有最高可用分辨率的时钟，以测量短持续时间；\n",
    "    - 它记录的时间会包括当前调用该方法的线程的睡眠时间，也就是说睡眠期间经过的时间也被包含在两次调用该方法的时间差里面，perf_counter() 会包含 sleep() 函数产生的休眠时间，并且是系统范围的时间；\n",
    "    - 通常 perf_counter() 用在测量代码运行的时间上，具有最高的可用分辨率，不过因为返回值的参考点未定义，因此我们测量代码运行时间的时候需要调用两次，然后做两次调用返回值的差值。\n",
    ">- 下面让我们来看一下多次运行的结果，第一次：\n",
    "\n",
    "```\n",
    "    比赛开始于： 2020-03-12 13:20:21 \n",
    "\n",
    "    for 循环计算的结果为：500500\n",
    "    for 循环花费的总的时间是：0.000515096999151865 秒\n",
    "    while 循环计算的结果为：500500\n",
    "    while 循环花费的总的时间是：0.0004373009996925248 秒\n",
    "    for 循环花费的时间 - while 循环花费的时间为：7.779599945934024e-05 秒\n",
    "\n",
    "    while win!s\n",
    "```\n",
    "\n",
    ">- 第二次：\n",
    "\n",
    "```\n",
    "    比赛开始于： 2020-03-12 11:57:06 \n",
    "\n",
    "    for 循环计算的结果为：500500\n",
    "    for 循环花费的总的时间是：0.00043518299935385585 秒\n",
    "    while 循环计算的结果为：500500\n",
    "    while 循环花费的总的时间是：0.0005879599993932061 秒\n",
    "    for 循环花费的时间 - while 循环花费的时间为：-0.00015277700003935024 秒\n",
    "\n",
    "    for win!\n",
    "```\n",
    "\n",
    ">- 第三次：\n",
    "\n",
    "```\n",
    "    比赛开始于： 2020-03-12 11:57:30 \n",
    "\n",
    "    for 循环计算的结果为：500500\n",
    "    for 循环花费的总的时间是：0.0003120780002063839 秒\n",
    "    while 循环计算的结果为：500500\n",
    "    while 循环花费的总的时间是：0.0005525500000658212 秒\n",
    "    for 循环花费的时间 - while 循环花费的时间为：-0.00024047199985943735 秒\n",
    "\n",
    "    for win!\n",
    "```"
   ]
  },
  {
   "cell_type": "markdown",
   "metadata": {
    "toc-hr-collapsed": true,
    "toc-nb-collapsed": true
   },
   "source": [
    "# 第十八课 玩转 Python 之发邮件"
   ]
  },
  {
   "cell_type": "markdown",
   "metadata": {},
   "source": [
    "## 知识回顾"
   ]
  },
  {
   "cell_type": "markdown",
   "metadata": {},
   "source": [
    "<img src=\"material/chapter_18.png\">"
   ]
  },
  {
   "cell_type": "markdown",
   "metadata": {},
   "source": [
    "## 知识拓展"
   ]
  },
  {
   "cell_type": "markdown",
   "metadata": {},
   "source": [
    "### 知识拓展 01"
   ]
  },
  {
   "cell_type": "markdown",
   "metadata": {},
   "source": [
    "**例题 1：以下 Python 模块中，可以用哪个来构造邮件？**\n",
    "\n",
    "- A．math\n",
    "- B．smtplib\n",
    "- C．email\n",
    "- D．time"
   ]
  },
  {
   "cell_type": "markdown",
   "metadata": {},
   "source": [
    "**答案：C**"
   ]
  },
  {
   "cell_type": "markdown",
   "metadata": {},
   "source": [
    "**解析：**\n",
    "\n",
    "- A 选项，`math` 是与数学相关的模块；\n",
    "- D 选项，`time` 模块是与时间相关的模块，故排除 A、D 选项；\n",
    "- B 选项，`smtplib` 与邮件相关，但该模块用于发送邮件；\n",
    "- C 选项，`email` 模块在 Python 中用于构造邮件，所以选择 C 选项。"
   ]
  },
  {
   "cell_type": "markdown",
   "metadata": {},
   "source": [
    "**拓展：**\n",
    "\n",
    "- `email` 模块下的 `mime` 子模块下有三个常用的对象，三个对象中有三个大类：\n",
    " - `MIMEText` 对象，用于构造一个文本邮件对象；\n",
    " - `MIMEImage` 对象，用于构造一个作为附件的图片对象；\n",
    " - `MIMEMultipart` 对象，用于把多个对象组合起来，它代表的是整个邮件。"
   ]
  },
  {
   "cell_type": "markdown",
   "metadata": {},
   "source": [
    "### 知识拓展 02"
   ]
  },
  {
   "cell_type": "markdown",
   "metadata": {},
   "source": [
    "**例题 2：下列哪一个不是 `email` 模块中 `MIMEText` 对象的参数？**\n",
    "\n",
    "A．正文内容\n",
    "B．正文标题\n",
    "C．正文内容类型\n",
    "D．正文内容的编码"
   ]
  },
  {
   "cell_type": "markdown",
   "metadata": {},
   "source": [
    "**答案：B**"
   ]
  },
  {
   "cell_type": "markdown",
   "metadata": {},
   "source": [
    "**解析：**\n",
    "\n",
    "- MIMEText 对象中有三个需要我们设置的参数：正文内容，正文内容的类型（例如：\"text/plain\" 和 \"text/html\"），和正文内容的编码。"
   ]
  },
  {
   "cell_type": "markdown",
   "metadata": {},
   "source": [
    "**拓展：**\n",
    "\n",
    "- 我们在知识拓展中提到了三个大类，`MIMEImage` 对象中只需要把读取的图像文件传入就可以了；\n",
    "- `MIMEMultipart` 对象创建的类型有三种：\n",
    " - 邮件类型为 \"multipart/alternative\" 的邮件，正文中包括纯文本正文（text/plain）和超文本正文（text/html）两种类型的信息；\n",
    " - 邮件类型为 \"multipart/related\" 的邮件，正文中包括图片、声音等内嵌在邮件中的多媒体资源；\n",
    " - 邮件类型为 \"multipart/mixed\" 的邮件，正文中包含附件、图片、文本等综合类型的信息，所以大多情况都是使用这个类型，各种类型的媒体资源都可以发送。"
   ]
  },
  {
   "cell_type": "markdown",
   "metadata": {},
   "source": [
    "### 知识拓展 03"
   ]
  },
  {
   "cell_type": "markdown",
   "metadata": {},
   "source": [
    "**例题 3：假设现在是上午 9:00 点，小K需要在下午的 15:00 点给小明发一封 QQ 邮件，但是小K在 15:00 点有一个讲座，不能操作电脑来手动发送邮件，编写一段 Python 程序让计算机在 15:00 点自动发邮件吧。**"
   ]
  },
  {
   "cell_type": "markdown",
   "metadata": {},
   "source": [
    "**答案：**\n",
    "\n",
    "```python\n",
    "from email.mime.text import MIMEText\n",
    "import smtplib\n",
    "import time\n",
    "\n",
    "msg = MIMEText('An email for ming~', 'plain', 'utf-8')\n",
    "# 给定发送者邮箱\n",
    "from_addr = 'your_qq@qq.com'\n",
    "# 给定发送者密码，如果使用 QQ 邮箱，需要获取授权码\n",
    "# 按照这个地址的提示，获得授权码：http://service.mail.qq.com/cgi-bin/help?subtype=1&&id=28&&no=1001256\\r\\n\n",
    "# 将授权码填写到 your_password 当中\n",
    "password = 'your_password'\n",
    "# 给定SMTP服务器地址\n",
    "smtp_server = 'smtp.qq.com'\n",
    "# 给定收件人地址\n",
    "to_addr = 'to_qq@qq.com'\n",
    "\n",
    "# SMTP 协议默认端口是 25，默认安全端口是 465\n",
    "server = smtplib.SMTP_SSL(smtp_server, 465)  # SMTP协议默认端口是25，安全协议端口是 465\n",
    "server.set_debuglevel(1)\n",
    "\n",
    "# 写一个死循环，判断时间为15:00:00时发送邮件并退出循环\n",
    "while True:\n",
    "    if time.strftime(\"%H:%M:%S\", time.localtime(time.time())) == '15:00':\n",
    "        server.login(from_addr, password)\n",
    "        server.sendmail(from_addr, [to_addr], msg.as_string())\n",
    "        break\n",
    "server.quit()\n",
    "```"
   ]
  },
  {
   "cell_type": "markdown",
   "metadata": {},
   "source": [
    "**解析：**\n",
    "\n",
    "- 完成该编程题，首先要了解需要使用哪些模块，发送邮件需要：\n",
    " - 使用 `email` 模块来构造邮件；\n",
    " - 用 `smtplib` 模块来发送邮件；\n",
    " - 根据题目要求，还需要 time 模块来完成时间的设定；\n",
    " - 所以我们先导入这三个模块。\n",
    "- 导入了模块之后，使用 `email` 模块中的 `MIMEText` 对象，先定义需要发送的文件内容，传入三个参数：文本内容、文本内容类型、文本内容编码；\n",
    "- 接下来就是定义自己邮箱的账号、密码、对应的 SMTP（Simple Mail Transfer Protocal）服务器地址以及接收者的邮箱账号；\n",
    "- 由于小K在 15:00 点的时刻不能操作电脑，所以这里需要把所需内容都定义好，设置定时发送；\n",
    "- 根据我们之前学过的知识，首先可以用一个死循环的形式让程序一直处于执行的状态，然后使用我们上一章节中学过的 `time` 模块不断的获取当前的时间，如果当前时间等于 `'15:00'`，代码就会自动发送邮件；\n",
    "- 当邮件发送结束后，释放掉占用的资源，通过 `break` 语句退出循环并使用 `server.quit()` 关闭服务连接;\n",
    "- 执行成功会有类似于下面的输出信息：\n",
    "\n",
    "```\n",
    "(221, b'Bye.')\n",
    "```"
   ]
  },
  {
   "cell_type": "markdown",
   "metadata": {},
   "source": [
    "**拓展：**\n",
    "\n",
    "- 需要执行定时任务的时候，`while True` + `time` 模块 + `break` 是一个不错的方式，我们可以把这个模式当作一个模版记录下来，下次再进行定时任务的程序编写的时候就不会没有头绪了。"
   ]
  },
  {
   "cell_type": "markdown",
   "metadata": {},
   "source": [
    "## 知识练习"
   ]
  },
  {
   "cell_type": "markdown",
   "metadata": {},
   "source": [
    "**练习 1：以下对象中，可以将输入内容格式化的有？**\n",
    "\n",
    "- A．parseaddr\n",
    "- B．formataddr\n",
    "- C．Header\n",
    "- D．encoders"
   ]
  },
  {
   "cell_type": "markdown",
   "metadata": {},
   "source": [
    "**练习 2：下列不属于 `sendmail()` 方法的参数的有？**\n",
    "\n",
    "- A．from_addr\n",
    "- B．[to_addr]\n",
    "- C．msg.as_string()\n",
    "- D．smtp_server"
   ]
  },
  {
   "cell_type": "markdown",
   "metadata": {},
   "source": [
    "**练习 3：下列哪个函数可以打印出和 SMTP 服务器交互的所有信息？**\n",
    "\n",
    "- A．set_debuglevel()\n",
    "- B．set_print()\n",
    "- C．print()\n",
    "- D．set_debug()"
   ]
  },
  {
   "cell_type": "markdown",
   "metadata": {},
   "source": [
    "**练习 4：小K想要举办一个抽奖活动，抽出 1 个一等奖，共有 5 个人参与（工号为 1～5），编写一段 Python 程序，根据工号进行随机抽奖，并且在抽奖成功后发送邮件，发件人为：小K之家 <your_email@xyz.com>，标题设置为：中奖信息，内容为：恭喜你获得一等奖，请速来领奖。**"
   ]
  },
  {
   "cell_type": "markdown",
   "metadata": {},
   "source": [
    "**练习 5：小K有一张重要的图片需要通过邮件发送，请你编写一段 Python 程序，实现该功能（简易版即可）。**"
   ]
  },
  {
   "cell_type": "markdown",
   "metadata": {},
   "source": [
    "## 答案解析"
   ]
  },
  {
   "cell_type": "markdown",
   "metadata": {},
   "source": [
    "**练习 1 答案：A、B**\n",
    "\n",
    "- `parseaddr` 模块与 `formataddr` 模块用于将输入的内容格式化，`encoders` 模块负责编码，`Header` 模块负责处理邮件头。"
   ]
  },
  {
   "cell_type": "markdown",
   "metadata": {},
   "source": [
    "**练习 2 答案：D**\n",
    "\n",
    "- `from_addr` 是发件人的邮箱地址；\n",
    "- `[to_addr]` 是收件人的邮箱地址，是列表形式，因为邮件可能一次发给多个人，使用列表数据类型，邮件发送个多个人时需要写多个邮箱，中间使用逗号隔开；\n",
    "- `msg.as_string()` 把邮件内容 `MIMEText` 对象转换为字符串；\n",
    "- `smtp_server` 是 `smtplib.SMTP` 的参数，用于指定邮件服务器的地址。"
   ]
  },
  {
   "cell_type": "markdown",
   "metadata": {},
   "source": [
    "**练习 3 答案：A**\n",
    "\n",
    "- `set_debuglevel()` 函数用于设置打印和 SMTP 服务器交互的所有信息。"
   ]
  },
  {
   "cell_type": "markdown",
   "metadata": {},
   "source": [
    "**练习 4 答案：**\n",
    "\n",
    "```python\n",
    "from email.mime.text import MIMEText\n",
    "from email.header import Header\n",
    "from email.utils import parseaddr, formataddr\n",
    "import smtplib\n",
    "import random\n",
    "\n",
    "def _format_addr(s):\n",
    "    name, addr = parseaddr(s)\n",
    "    return formataddr((Header(name, 'utf-8').encode(), addr))\n",
    "\n",
    "email_dict = {\n",
    "    1: 'worker1@xxx.com',\n",
    "    2: 'worker2@xxx.com',\n",
    "    3: 'worker3@xxx.com',\n",
    "    4: 'worker4@xxx.com',\n",
    "    5: 'worker5@xxx.com'\n",
    "}\n",
    "\n",
    "# 设置随机整数1-5\n",
    "win_number = random.randint(1, 5)\n",
    "# 从字典中获取获奖工号对应的邮箱\n",
    "win_email = email_dict.get(win_number)\n",
    "from_addr = 'your_email'\n",
    "password = 'your_password'\n",
    "# 输入SMTP服务器地址:\n",
    "smtp_server = 'your_email_server'\n",
    "# 输入收件人地址:\n",
    "to_addr = win_email\n",
    "\n",
    "msg = MIMEText('恭喜你获得一等奖，请速来领奖。', 'plain', 'utf-8')\n",
    "msg['Subject'] = Header(u'中奖信息', 'utf-8').encode()\n",
    "msg['From'] = _format_addr('小K之家 <%s>' % from_addr)\n",
    "\n",
    "server = smtplib.SMTP(smtp_server, 25)  # SMTP 协议默认端口是 25\n",
    "server.set_debuglevel(1)\n",
    "server.login(from_addr, password)\n",
    "server.sendmail(from_addr, [to_addr], msg.as_string())\n",
    "\n",
    "server.quit()\n",
    "```\n",
    "\n",
    ">**解析：**\n",
    ">- 本题在发送邮件的基础上增加了随机数的操作，首先定义一个字典在字典中存入每一个工号对应的邮箱，然后使用随机数模块 `random` 中的 `randint` 随机一个 1~5 之间的整数，再使用 `dict` 中的 `get` 方法获取邮箱中奖者的邮件地址，最后给中奖者发送邮件。\n",
    ">- 注意：邮件信息的填写需要用到 `email` 中的 `Header`、`parseaddr`、`formataddr` 三个模块。"
   ]
  },
  {
   "cell_type": "markdown",
   "metadata": {},
   "source": [
    "**练习 5 答案：**\n",
    "\n",
    "```python\n",
    "# 用于构造带图片的邮件\n",
    "from email.mime.multipart import MIMEMultipart\n",
    "# 用于封装附件\n",
    "from email.mime.application import MIMEApplication\n",
    "import smtplib\n",
    "\n",
    "# 给定发送者邮箱\n",
    "from_addr = 'your_email@xxx.com'\n",
    "# 给定发送者密码\n",
    "password = 'your_password'\n",
    "# 给定SMTP服务器地址\n",
    "smtp_server = 'your_server'\n",
    "# 给定收件人地址\n",
    "to_addr = 'send_email@xxx.com'\n",
    "\n",
    "msg = MIMEMultipart()\n",
    "part = MIMEApplication(open('your_path.png', 'rb').read())\n",
    "msg.attach(part)\n",
    "\n",
    "server = smtplib.SMTP(smtp_server, 25)  # SMTP协议默认端口是25\n",
    "# server.set_debuglevel(1)\n",
    "server.login(from_addr, password)\n",
    "server.sendmail(from_addr, [to_addr], msg.as_string())\n",
    "\n",
    "server.quit()\n",
    "```\n",
    "\n",
    ">**解析：**\n",
    ">- 本题目主要在于让大家了解 `email` 中其他模块的用法，`MIMEMultipart()` 可以让邮件正文中包括图片等多媒体文件；\n",
    ">- `MIMEApplication()` 可以用于封装附件；\n",
    ">- 如果遇到接受到的文件后缀为 .bin 而不能打开的情况，将后缀名改为自己原本图片的后缀名即可，如：.png、.jpg 等。"
   ]
  },
  {
   "cell_type": "markdown",
   "metadata": {
    "toc-hr-collapsed": true,
    "toc-nb-collapsed": true
   },
   "source": [
    "# 第十九课 用 Python 好好数个数"
   ]
  },
  {
   "cell_type": "markdown",
   "metadata": {},
   "source": [
    "## 项目实战 01：英文文本词频统计"
   ]
  },
  {
   "cell_type": "markdown",
   "metadata": {},
   "source": [
    "### 简介"
   ]
  },
  {
   "cell_type": "markdown",
   "metadata": {},
   "source": [
    "本节我们要实现一个很实用的功能：英文文本的词频统计，下面让我们来一起实现一下这个功能。"
   ]
  },
  {
   "cell_type": "markdown",
   "metadata": {},
   "source": [
    "### 项目实施"
   ]
  },
  {
   "cell_type": "markdown",
   "metadata": {},
   "source": [
    "**第一步：**先让我们观察一下英文文本的格式：\n",
    "\n",
    "```python\n",
    "txt = '''Hooray! It's snowing! It's time to make a snowman.\n",
    "James runs out. He makes a big pile of snow. He puts a big \n",
    "snowball on top. He adds a scarf and a hat. He adds an orange\n",
    "for the noe. He adds coal for the eyes and buttons. In the evening,\n",
    "James opens the door. What does he see? The snowman is moving!\n",
    "James invites him in. The snowman has neever been inside a house.\n",
    "He says hello to the cat. He plays with paper towels. A moment\n",
    "later, the snowman takes James's hand and goes out. They go up, up, up\n",
    "into the air! They are flying! What a wonderful night! The next morning,\n",
    "James jumps out of the bed. He runs to the door. He wants to thank the snowman.\n",
    "But he's gone.'''\n",
    "```\n",
    "\n",
    "- 观察上面的文字，一篇英文文档中每一个单词都是用空格进行分割的，每一个句子都是根据标点符号去分割的；\n",
    "- 标点符号对于词频统计分析，没有实际的意义，为了方便分割，我们把所有的标点符号替换成空格，代码如下：\n",
    "\n",
    "```python\n",
    "for ch in '~`!#$%^&*()_+-=|\\';\":/.,?><~·！@#￥%……&*（）——+-=“：’；、。，？》《{}':\n",
    "    # 用空格代替各种特殊字符\n",
    "    txt = txt.replace(ch, \" \")\n",
    "```\n",
    "\n",
    "- 可以看到，我们把所有的标点符号写成一个字符串，根据字符串的特性我们能遍历的去寻找文章中的标点，当发现标点的时候，就可以用字符串对象的 `replace()` 函数把标点替换成空格；\n",
    "- 把原始文本数据中标点符号都清洗掉之后，为了消除字母的大小写带来的影响，我们把字母统一转换为小写，Python 中的字符串对象提供了 `lower()` 函数来实现这个功能，对应的 Python 语句如下：\n",
    "\n",
    "```python\n",
    "  txt = txt.lower()\n",
    "```\n",
    "\n",
    "- 最终处理好的文本如下：\n",
    "\n",
    "```\n",
    "hooray  it s snowing  it s time to make a snowman \n",
    "james runs out  he makes a big pile of snow  he puts a big \n",
    "snowball on top  he adds a scarf and a hat  he adds an orange\n",
    "for the noe  he adds coal for the eyes and buttons  in the evening \n",
    "james opens the door  what does he see  the snowman is moving \n",
    "james invites him in  the snowman has neever been inside a house \n",
    "he says hello to the cat  he plays with paper towels  a moment\n",
    "later  the snowman takes james s hand and goes out  they go up  up  up\n",
    "into the air  they are flying  what a wonderful night  the next morning \n",
    "james jumps out of the bed  he runs to the door  he wants to thank the snowman \n",
    "but he s gone\n",
    "```"
   ]
  },
  {
   "cell_type": "markdown",
   "metadata": {},
   "source": [
    "**第二步：**处理好了文本之后，我们就要把所有的句子拆分成单词了\n",
    "\n",
    "- 根据处理结果不难想到，直接以空白为标志对文本进行拆分即可，此时就要用到 `split()` 函数了，对应的 Python 语句如下：\n",
    "\n",
    "```python\n",
    "text = Deal_Text()\n",
    "# 根据空格分隔每一个字母，存成一个列表\n",
    "words_list = text.split()\n",
    "```\n",
    "\n",
    "- 分词后的列表数据如下：\n",
    "\n",
    "```python\n",
    "['hooray', 'it', 's', 'snowing', 'it', 's', 'time', 'to', 'make', 'a', 'snowman', 'james', 'runs', 'out', 'he', 'makes', 'a', 'big', 'pile', 'of', 'snow', 'he', 'puts', 'a', 'big', 'snowball', 'on', 'top', 'he', 'adds', 'a', 'scarf', 'and', 'a', 'hat', 'he', 'adds', 'an', 'orange', 'for', 'the', 'noe', 'he', 'adds', 'coal', 'for', 'the', 'eyes', 'and', 'buttons', 'in', 'the', 'evening', 'james', 'opens', 'the', 'door', 'what', 'does', 'he', 'see', 'the', 'snowman', 'is', 'moving', 'james', 'invites', 'him', 'in', 'the', 'snowman', 'has', 'neever', 'been', 'inside', 'a', 'house', 'he', 'says', 'hello', 'to', 'the', 'cat', 'he', 'plays', 'with', 'paper', 'towels', 'a', 'moment', 'later', 'the', 'snowman', 'takes', 'james', 's', 'hand', 'and', 'goes', 'out', 'they', 'go', 'up', 'up', 'up', 'into', 'the', 'air', 'they', 'are', 'flying', 'what', 'a', 'wonderful', 'night', 'the', 'next', 'morning', 'james', 'jumps', 'out', 'of', 'the', 'bed', 'he', 'runs', 'to', 'the', 'door', 'he', 'wants', 'to', 'thank', 'the', 'snowman', 'but', 'he', 's', 'gone']\n",
    "```"
   ]
  },
  {
   "cell_type": "markdown",
   "metadata": {},
   "source": [
    "**第三步：**得到了文章中所有的单词，下面开始进行词频统计\n",
    "\n",
    "- 词频统计不仅需要记录单词，还需要记录单词出现的次数，所以我们考虑创建一个字典来进行存储；\n",
    "- 存储词频数据的时候，遍历刚才得到的分词列表数据：\n",
    " - 如果某个单词不在字典里，就将该单词作为字典的一个新键加入到字典当中，同时将新键的值赋为 `1`；\n",
    " - 如果该单词已经在字典里了，就将其所对应的值加 `1`，代码的实现方法如下：\n",
    "\n",
    "```python\n",
    "counts = {}\n",
    "# 对比列表和字典的键，如果键不存在字典中，设置默认值为 1\n",
    "for word in words_list:\n",
    "    counts[word] = counts.get(word, 0) + 1 \n",
    "```"
   ]
  },
  {
   "cell_type": "markdown",
   "metadata": {},
   "source": [
    "**第四步：**得到了词频统计的字典数据后，用一个清晰的格式输出\n",
    "\n",
    "- 首先对字典数据进行排序，按照值使用 `sort()` 函数进行排序；\n",
    "- 然后我们输出前 `15` 个单词的名称和出现次数，代码的实现方法如下：\n",
    "\n",
    "```python\n",
    "items = list(counts.items())\n",
    "# 对 items 列表中元组数据的第二个值（单词出现次数），从大到小排序，\n",
    "# sort 方法：参数 lambda 用来指定列表中使用元组的哪一个数据作为排序列依据，\n",
    "# 默认的排序是从小到大，当 reverse 设为 True 时，则排序变为从大到小\n",
    "items.sort(key=lambda x: x[1], reverse=True)\n",
    "for i in range(15):  # 输出出现次数最多的 15 个单词\n",
    "    word, count = items[i]\n",
    "    # 单词左对齐，词频值有对齐，中间位置用空白填充，并格式化输出\n",
    "    print(\"{0:<10}{1:>5}\".format(word, count))\n",
    "```\n",
    "\n",
    "- 最终分词后的结果如下：\n",
    "\n",
    "```\n",
    "the          13\n",
    "he           11\n",
    "a             8\n",
    "snowman       5\n",
    "james         5\n",
    "s             4\n",
    "to            4\n",
    "out           3\n",
    "adds          3\n",
    "and           3\n",
    "up            3\n",
    "it            2\n",
    "runs          2\n",
    "big           2\n",
    "of            2\n",
    "```"
   ]
  },
  {
   "cell_type": "markdown",
   "metadata": {},
   "source": [
    "**整体的代码：**"
   ]
  },
  {
   "cell_type": "code",
   "execution_count": 1,
   "metadata": {},
   "outputs": [
    {
     "name": "stdout",
     "output_type": "stream",
     "text": [
      "the          13\n",
      "he           11\n",
      "a             8\n",
      "snowman       5\n",
      "james         5\n",
      "s             4\n",
      "to            4\n",
      "out           3\n",
      "adds          3\n",
      "and           3\n",
      "up            3\n",
      "it            2\n",
      "runs          2\n",
      "big           2\n",
      "of            2\n"
     ]
    }
   ],
   "source": [
    "txt = '''Hooray! It's snowing! It's time to make a snowman.\n",
    "James runs out. He makes a big pile of snow. He puts a big \n",
    "snowball on top. He adds a scarf and a hat. He adds an orange\n",
    "for the noe. He adds coal for the eyes and buttons. In the evening,\n",
    "James opens the door. What does he see? The snowman is moving!\n",
    "James invites him in. The snowman has neever been inside a house.\n",
    "He says hello to the cat. He plays with paper towels. A moment\n",
    "later, the snowman takes James's hand and goes out. They go up, up, up\n",
    "into the air! They are flying! What a wonderful night! The next morning,\n",
    "James jumps out of the bed. He runs to the door. He wants to thank the snowman.\n",
    "But he's gone.'''\n",
    "\n",
    "for ch in '~`!#$%^&*()_+-=|\\';\":/.,?><~·！@#￥%……&*（）——+-=“：’；、。，？》《{}':\n",
    "    # 用空格代替各种特殊字符\n",
    "    txt = txt.replace(ch, \" \")\n",
    "txt = txt.lower()\n",
    "\n",
    "# 根据空格分隔每一个字母，存成一个列表\n",
    "words_list = txt.split()\n",
    "\n",
    "counts = {}\n",
    "# 对比列表和字典的键，如果键不存在字典中，设置默认值为 1\n",
    "for word in words_list:\n",
    "    counts[word] = counts.get(word, 0) + 1 \n",
    "\n",
    "items = list(counts.items())\n",
    "# 对 items 列表中元组数据的第二个值（单词出现次数），从大到小排序，\n",
    "# sort 方法：参数 lambda 用来指定列表中使用元组的哪一个数据作为排序列依据，\n",
    "# 默认的排序是从小到大，当 reverse 设为 True 时，则排序变为从大到小\n",
    "items.sort(key=lambda x: x[1], reverse=True)\n",
    "for i in range(15):  # 输出出现次数最多的 15 个单词\n",
    "    word, count = items[i]\n",
    "    # 单词左对齐，词频值有对齐，中间位置用空白填充，并格式化输出\n",
    "    print(\"{0:<10}{1:>5}\".format(word, count))"
   ]
  },
  {
   "cell_type": "markdown",
   "metadata": {},
   "source": [
    "## 项目实战 02：中文文本词频统计"
   ]
  },
  {
   "cell_type": "markdown",
   "metadata": {},
   "source": [
    "### 简介"
   ]
  },
  {
   "cell_type": "markdown",
   "metadata": {},
   "source": [
    "上一节中我们实现了英文文章的词频统计，但是若要换成中文，每一句话的单词都是连在一起的，也就不能实现词频统计的功能，那么本节就让我们用另一种方式实现中文文本的词频统计。"
   ]
  },
  {
   "cell_type": "markdown",
   "metadata": {},
   "source": [
    "### 项目实施"
   ]
  },
  {
   "cell_type": "markdown",
   "metadata": {},
   "source": [
    "**第一步：**首先我们来学习一个 Python 中的中文分词模块 jieba\n",
    "\n",
    "- `jieba` 模块提供了以下三种常用的分词模式：\n",
    " - 精确模式：将句子按照最精确的方法进行切分，适合用于进行文本分析；\n",
    " - 全模式：将句子当中所有可以成词的词语都扫描出来，分词速度很快但容易产生歧义；\n",
    " - 搜索引擎模式：在精确模式分词的基础上，将长的句子再次进行切分，提高召回率，适用于搜索引擎的分词。\n",
    "\n",
    ">注：jieba 也支持对繁体字进行分词。"
   ]
  },
  {
   "cell_type": "markdown",
   "metadata": {},
   "source": [
    "**第二步：**让我们来用实际应用学习一下三种分词方式的含义\n",
    "\n",
    "```python\n",
    "import jieba\n",
    "ex = '南京市长江大桥'\n",
    " \n",
    "# 全分词模式\n",
    "all_cut = jieba.cut(ex, cut_all=True)\n",
    "# 精确分词模式\n",
    "precise_cut = jieba.cut(ex, cut_all=False)\n",
    "# 当我们省略掉 cut_all 参数时，cut_all默认值为 False，此时分词模式为精确分词\n",
    "default_precise_cut = jieba.cut(ex)\n",
    "# 搜索引擎模式\n",
    "search_cut = jieba.cut_for_search(ex)\n",
    " \n",
    "print(\"全分词: \", \"/\".join(all_cut))\n",
    "print(\"精确分词: \", \"/\".join(precise_cut))\n",
    "print(\"默认精确分词: \", \"/\".join(default_precise_cut))\n",
    "print(\"搜索分词: \", \"/\".join(search_cut))\n",
    "```\n",
    "\n",
    ">需要注意的是，`jieba` 分词后的结果不能够直接展示，需要使用字符串拼接的方式进行拼接后再打印出来。\n",
    "\n",
    "- 最终的输出结果如下：\n",
    "\n",
    "```\n",
    "全分词:  南京/南京市/京市/市长/长江/长江大桥/大桥\n",
    "精确分词:  南京市/长江大桥\n",
    "默认精确分词:  南京市/长江大桥\n",
    "搜索分词:  南京/京市/南京市/长江/大桥/长江大桥\n",
    "```"
   ]
  },
  {
   "cell_type": "markdown",
   "metadata": {},
   "source": [
    "**第三步：**学习了 jieba 的使用方法，开始中文分词\n",
    "\n",
    "第一步和第二步中学习了 `jieba` 模块的应用方法，下面我们开始用 `jieba` 模块来实现中文文本的词频统计吧！\n",
    "\n",
    "- 先观察一下我们需要分词的文本：\n",
    "\n",
    "```python\n",
    "txt = '''好棒哦！下雪了！是时候堆个雪人了。詹姆斯跑了出去。他弄了一大堆雪。\n",
    "他把一个大雪球放到了最上面来充当头部。他给雪人加了额一条围巾和一顶帽子，\n",
    "又给雪人添了一个桔子当鼻子。他就加了煤炭来充当眼睛和纽扣。傍晚，詹姆斯打开了门。\n",
    "他看见了什么？雪人在移动！詹姆斯邀请它进来。雪人从来没有去过房间里面。\n",
    "它对猫咪打了个招呼。猫咪玩着纸巾。不久之后，雪人牵着詹姆斯的手出去了。\n",
    "他们一直向上升，一直升到空中！他们在飞翔！多么美妙的夜晚！第二天早上，\n",
    "詹姆斯从床上蹦了起来。他向门口跑去。他想感谢雪人，但是它已经小时了。'''\n",
    "```\n",
    "\n",
    "- 本质上，我们实现中文分词的代码思路和英文分词都是一样的，不同的是 `jieba` 模块直接进行分词后的结果不能很好的去除标点符号，我们考虑到中文的词语通常都是两个字以上的，所以我们直接把词语长度为 `1` 的词过滤掉即可，这样就很好的去除了标点符号，以及的、了、是这些没有实际意义的词语。\n",
    "- 过滤掉长度为 `1` 的词语的代码思路如下：\n",
    "\n",
    "```python\n",
    "for word in words:\n",
    "    if len(word) == 1:\n",
    "        continue\n",
    "    else:\n",
    "        counts[word] = counts.get(word, 0)+ 1\n",
    "```\n",
    "\n",
    "- 其他地方的原理就和我们英文词频统计的原理相同了，让我们来看一下最后的结果：\n",
    "\n",
    "\n",
    "```\n",
    "雪人   \t    7\n",
    "詹姆斯  \t    5\n",
    "一个   \t    4\n",
    "出去   \t    2\n",
    "充当   \t    2\n",
    "猫咪   \t    2\n",
    "他们   \t    2\n",
    "一直   \t    2\n",
    "下雪   \t    1\n",
    "时候   \t    1\n",
    "堆个   \t    1\n",
    "一大堆  \t    1\n",
    "雪球   \t    1\n",
    "放到   \t    1\n",
    "上面   \t    1\n",
    "```"
   ]
  },
  {
   "cell_type": "markdown",
   "metadata": {},
   "source": [
    "**整体的代码：**"
   ]
  },
  {
   "cell_type": "code",
   "execution_count": 95,
   "metadata": {},
   "outputs": [
    {
     "name": "stdout",
     "output_type": "stream",
     "text": [
      "雪人   \t    7\n",
      "詹姆斯  \t    5\n",
      "出去   \t    2\n",
      "一个   \t    2\n",
      "充当   \t    2\n",
      "猫咪   \t    2\n",
      "他们   \t    2\n",
      "一直   \t    2\n",
      "下雪   \t    1\n",
      "时候   \t    1\n",
      "堆个   \t    1\n",
      "一大堆  \t    1\n",
      "雪球   \t    1\n",
      "放到   \t    1\n",
      "上面   \t    1\n"
     ]
    }
   ],
   "source": [
    "import jieba\n",
    "\n",
    "txt = '''好棒哦！下雪了！是时候堆个雪人了。詹姆斯跑了出去。他弄了一大堆雪。\n",
    "他把一个大雪球放到了最上面来充当头部。他给雪人加了额一条围巾和一顶帽子，\n",
    "又给雪人添了一个桔子当鼻子。他就加了煤炭来充当眼睛和纽扣。傍晚，詹姆斯打开了门。\n",
    "他看见了什么？雪人在移动！詹姆斯邀请它进来。雪人从来没有去过房间里面。\n",
    "它对猫咪打了个招呼。猫咪玩着纸巾。不久之后，雪人牵着詹姆斯的手出去了。\n",
    "他们一直向上升，一直升到空中！他们在飞翔！多么美妙的夜晚！第二天早上，\n",
    "詹姆斯从床上蹦了起来。他向门口跑去。他想感谢雪人，但是它已经小时了。'''\n",
    "\n",
    "words = jieba.cut(txt)\n",
    "counts = {}\n",
    "for word in words:\n",
    "    if len(word) == 1:\n",
    "        continue\n",
    "    else:\n",
    "        counts[word] = counts.get(word, 0) + 1\n",
    "\n",
    "items = list(counts.items())\n",
    "\n",
    "# 进行词频排序\n",
    "items.sort(key=lambda x: x[1], reverse=True)\n",
    "for i in range(15):\n",
    "    word, count = items[i]\n",
    "    print(\"{0:<5}\\t{1:>5}\".format(word, count))"
   ]
  }
 ],
 "metadata": {
  "kernelspec": {
   "display_name": "Python 3",
   "language": "python",
   "name": "python3"
  },
  "language_info": {
   "codemirror_mode": {
    "name": "ipython",
    "version": 3
   },
   "file_extension": ".py",
   "mimetype": "text/x-python",
   "name": "python",
   "nbconvert_exporter": "python",
   "pygments_lexer": "ipython3",
   "version": "3.7.6"
  },
  "toc-autonumbering": true,
  "toc-showcode": false,
  "toc-showmarkdowntxt": true,
  "toc-showtags": false
 },
 "nbformat": 4,
 "nbformat_minor": 4
}
